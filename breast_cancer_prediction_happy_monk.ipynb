{
  "cells": [
    {
      "cell_type": "markdown",
      "metadata": {
        "id": "view-in-github",
        "colab_type": "text"
      },
      "source": [
        "<a href=\"https://colab.research.google.com/github/Kavin620/Book-Recommendation-system/blob/main/breast_cancer_prediction_happy_monk.ipynb\" target=\"_parent\"><img src=\"https://colab.research.google.com/assets/colab-badge.svg\" alt=\"Open In Colab\"/></a>"
      ]
    },
    {
      "cell_type": "markdown",
      "metadata": {
        "id": "e_odj_VJV4tS"
      },
      "source": [
        "# Data description\n",
        "\n",
        "Features are computed from a digitized image of a fine needle aspirate (FNA) of a breast mass. They describe characteristics of the cell nuclei present in the image.\n",
        "n the 3-dimensional space is that described in: [K. P. Bennett and O. L. Mangasarian: \"Robust Linear Programming Discrimination of Two Linearly Inseparable Sets\", Optimization Methods and Software 1, 1992, 23-34].\n",
        "\n",
        "This database is also available through the UW CS ftp server:\n",
        "ftp ftp.cs.wisc.edu\n",
        "cd math-prog/cpo-dataset/machine-learn/WDBC/\n",
        "\n",
        "Also can be found on UCI Machine Learning Repository: https://archive.ics.uci.edu/ml/datasets/Breast+Cancer+Wisconsin+%28Diagnostic%29\n",
        "\n",
        "Attribute Information:\n",
        "\n",
        "1) ID number\n",
        "2) Diagnosis (M = malignant, B = benign)\n",
        "3-32)\n",
        "\n",
        "Ten real-valued features are computed for each cell nucleus:\n",
        "\n",
        "a) radius (mean of distances from center to points on the perimeter)\n",
        "\n",
        "b) texture (standard deviation of gray-scale values)\n",
        "\n",
        "c) perimeter\n",
        "\n",
        "d) area\n",
        "\n",
        "e) smoothness (local variation in radius lengths)\n",
        "\n",
        "f) compactness (perimeter^2 / area - 1.0)\n",
        "\n",
        "g) concavity (severity of concave portions of the contour)\n",
        "\n",
        "h) concave points (number of concave portions of the contour)\n",
        "\n",
        "i) symmetry\n",
        "\n",
        "j) fractal dimension (\"coastline approximation\" - 1)"
      ]
    },
    {
      "cell_type": "markdown",
      "metadata": {
        "id": "ctq06-ZQV4tV"
      },
      "source": [
        "![shutterstock_1493059916.jpg](attachment:66b32c29-efff-4f79-a4a9-8b594625f498.jpg)"
      ]
    },
    {
      "cell_type": "markdown",
      "metadata": {
        "id": "Fy_-sggeV4tV"
      },
      "source": [
        "# Loading our data"
      ]
    },
    {
      "cell_type": "markdown",
      "metadata": {
        "id": "N_iLECPcV4tW"
      },
      "source": [
        "we will load our data and and required libraries"
      ]
    },
    {
      "cell_type": "code",
      "execution_count": 1,
      "metadata": {
        "_cell_guid": "b1076dfc-b9ad-4769-8c92-a6c4dae69d19",
        "_uuid": "8f2839f25d086af736a60e9eeb907d3b93b6e0e5",
        "execution": {
          "iopub.execute_input": "2022-10-15T19:53:19.733951Z",
          "iopub.status.busy": "2022-10-15T19:53:19.733424Z",
          "iopub.status.idle": "2022-10-15T19:53:19.809649Z",
          "shell.execute_reply": "2022-10-15T19:53:19.808354Z",
          "shell.execute_reply.started": "2022-10-15T19:53:19.733884Z"
        },
        "colab": {
          "base_uri": "https://localhost:8080/",
          "height": 17
        },
        "id": "wNiw3smIV4tW",
        "outputId": "ff1f63cd-cc4a-4c9c-ba01-1a3cf1406ed2"
      },
      "outputs": [
        {
          "output_type": "display_data",
          "data": {
            "text/html": [
              "        <script type=\"text/javascript\">\n",
              "        window.PlotlyConfig = {MathJaxConfig: 'local'};\n",
              "        if (window.MathJax) {MathJax.Hub.Config({SVG: {font: \"STIX-Web\"}});}\n",
              "        if (typeof require !== 'undefined') {\n",
              "        require.undef(\"plotly\");\n",
              "        requirejs.config({\n",
              "            paths: {\n",
              "                'plotly': ['https://cdn.plot.ly/plotly-2.8.3.min']\n",
              "            }\n",
              "        });\n",
              "        require(['plotly'], function(Plotly) {\n",
              "            window._Plotly = Plotly;\n",
              "        });\n",
              "        }\n",
              "        </script>\n",
              "        "
            ]
          },
          "metadata": {}
        }
      ],
      "source": [
        "# This Python 3 environment comes with many helpful analytics libraries installed\n",
        "# It is defined by the kaggle/python Docker image: https://github.com/kaggle/docker-python\n",
        "# For example, here's several helpful packages to load\n",
        "\n",
        "\n",
        "import pandas as pd\n",
        "\n",
        "import numpy as np\n",
        "import matplotlib.pyplot as plt\n",
        "import seaborn as sns\n",
        "import warnings\n",
        "import plotly.offline as py\n",
        "py.init_notebook_mode(connected=True)\n",
        "import plotly.graph_objs as go\n",
        "import plotly.tools as tls\n",
        "import plotly.figure_factory as ff\n",
        "# Input data files are available in the read-only \"../input/\" directory\n",
        "# For example, running this (by clicking run or pressing Shift+Enter) will list all files under the input directory\n",
        "\n",
        "#import os\n",
        "#for dirname, _, filenames in os.walk('/kaggle/input'):\n",
        "    #for filename in filenames:\n",
        "        #print(os.path.join(dirname, filename))\n",
        "#import warnings\n",
        "#warnings.filterwarnings(\"ignore\")\n",
        "\n",
        "\n",
        "\n",
        "# You can write up to 20GB to the current directory (/kaggle/working/) that gets preserved as output when you create a version using \"Save & Run All\" \n",
        "# You can also write temporary files to /kaggle/temp/, but they won't be saved outside of the current session"
      ]
    },
    {
      "cell_type": "code",
      "execution_count": 2,
      "metadata": {
        "id": "1wZVtnDQV4tX"
      },
      "outputs": [],
      "source": [
        "df = pd.read_csv('data_cancer.csv')"
      ]
    },
    {
      "cell_type": "code",
      "execution_count": 3,
      "metadata": {
        "colab": {
          "base_uri": "https://localhost:8080/",
          "height": 505
        },
        "id": "NRgT7VPVV4tY",
        "outputId": "b0fbc1d2-f8ec-45ac-838b-ff3edf0c3bf0"
      },
      "outputs": [
        {
          "output_type": "execute_result",
          "data": {
            "text/plain": [
              "           id diagnosis  radius_mean  texture_mean  perimeter_mean  area_mean  \\\n",
              "0      842302         M        17.99         10.38          122.80     1001.0   \n",
              "1      842517         M        20.57         17.77          132.90     1326.0   \n",
              "2    84300903         M        19.69         21.25          130.00     1203.0   \n",
              "3    84348301         M        11.42         20.38           77.58      386.1   \n",
              "4    84358402         M        20.29         14.34          135.10     1297.0   \n",
              "..        ...       ...          ...           ...             ...        ...   \n",
              "564    926424         M        21.56         22.39          142.00     1479.0   \n",
              "565    926682         M        20.13         28.25          131.20     1261.0   \n",
              "566    926954         M        16.60         28.08          108.30      858.1   \n",
              "567    927241         M        20.60         29.33          140.10     1265.0   \n",
              "568     92751         B         7.76         24.54           47.92      181.0   \n",
              "\n",
              "     smoothness_mean  compactness_mean  concavity_mean  concave points_mean  \\\n",
              "0            0.11840           0.27760         0.30010              0.14710   \n",
              "1            0.08474           0.07864         0.08690              0.07017   \n",
              "2            0.10960           0.15990         0.19740              0.12790   \n",
              "3            0.14250           0.28390         0.24140              0.10520   \n",
              "4            0.10030           0.13280         0.19800              0.10430   \n",
              "..               ...               ...             ...                  ...   \n",
              "564          0.11100           0.11590         0.24390              0.13890   \n",
              "565          0.09780           0.10340         0.14400              0.09791   \n",
              "566          0.08455           0.10230         0.09251              0.05302   \n",
              "567          0.11780           0.27700         0.35140              0.15200   \n",
              "568          0.05263           0.04362         0.00000              0.00000   \n",
              "\n",
              "     ...  texture_worst  perimeter_worst  area_worst  smoothness_worst  \\\n",
              "0    ...          17.33           184.60      2019.0           0.16220   \n",
              "1    ...          23.41           158.80      1956.0           0.12380   \n",
              "2    ...          25.53           152.50      1709.0           0.14440   \n",
              "3    ...          26.50            98.87       567.7           0.20980   \n",
              "4    ...          16.67           152.20      1575.0           0.13740   \n",
              "..   ...            ...              ...         ...               ...   \n",
              "564  ...          26.40           166.10      2027.0           0.14100   \n",
              "565  ...          38.25           155.00      1731.0           0.11660   \n",
              "566  ...          34.12           126.70      1124.0           0.11390   \n",
              "567  ...          39.42           184.60      1821.0           0.16500   \n",
              "568  ...          30.37            59.16       268.6           0.08996   \n",
              "\n",
              "     compactness_worst  concavity_worst  concave points_worst  symmetry_worst  \\\n",
              "0              0.66560           0.7119                0.2654          0.4601   \n",
              "1              0.18660           0.2416                0.1860          0.2750   \n",
              "2              0.42450           0.4504                0.2430          0.3613   \n",
              "3              0.86630           0.6869                0.2575          0.6638   \n",
              "4              0.20500           0.4000                0.1625          0.2364   \n",
              "..                 ...              ...                   ...             ...   \n",
              "564            0.21130           0.4107                0.2216          0.2060   \n",
              "565            0.19220           0.3215                0.1628          0.2572   \n",
              "566            0.30940           0.3403                0.1418          0.2218   \n",
              "567            0.86810           0.9387                0.2650          0.4087   \n",
              "568            0.06444           0.0000                0.0000          0.2871   \n",
              "\n",
              "     fractal_dimension_worst  Unnamed: 32  \n",
              "0                    0.11890          NaN  \n",
              "1                    0.08902          NaN  \n",
              "2                    0.08758          NaN  \n",
              "3                    0.17300          NaN  \n",
              "4                    0.07678          NaN  \n",
              "..                       ...          ...  \n",
              "564                  0.07115          NaN  \n",
              "565                  0.06637          NaN  \n",
              "566                  0.07820          NaN  \n",
              "567                  0.12400          NaN  \n",
              "568                  0.07039          NaN  \n",
              "\n",
              "[569 rows x 33 columns]"
            ],
            "text/html": [
              "\n",
              "  <div id=\"df-cb4b6044-a780-4462-b940-4d446fce6d11\">\n",
              "    <div class=\"colab-df-container\">\n",
              "      <div>\n",
              "<style scoped>\n",
              "    .dataframe tbody tr th:only-of-type {\n",
              "        vertical-align: middle;\n",
              "    }\n",
              "\n",
              "    .dataframe tbody tr th {\n",
              "        vertical-align: top;\n",
              "    }\n",
              "\n",
              "    .dataframe thead th {\n",
              "        text-align: right;\n",
              "    }\n",
              "</style>\n",
              "<table border=\"1\" class=\"dataframe\">\n",
              "  <thead>\n",
              "    <tr style=\"text-align: right;\">\n",
              "      <th></th>\n",
              "      <th>id</th>\n",
              "      <th>diagnosis</th>\n",
              "      <th>radius_mean</th>\n",
              "      <th>texture_mean</th>\n",
              "      <th>perimeter_mean</th>\n",
              "      <th>area_mean</th>\n",
              "      <th>smoothness_mean</th>\n",
              "      <th>compactness_mean</th>\n",
              "      <th>concavity_mean</th>\n",
              "      <th>concave points_mean</th>\n",
              "      <th>...</th>\n",
              "      <th>texture_worst</th>\n",
              "      <th>perimeter_worst</th>\n",
              "      <th>area_worst</th>\n",
              "      <th>smoothness_worst</th>\n",
              "      <th>compactness_worst</th>\n",
              "      <th>concavity_worst</th>\n",
              "      <th>concave points_worst</th>\n",
              "      <th>symmetry_worst</th>\n",
              "      <th>fractal_dimension_worst</th>\n",
              "      <th>Unnamed: 32</th>\n",
              "    </tr>\n",
              "  </thead>\n",
              "  <tbody>\n",
              "    <tr>\n",
              "      <th>0</th>\n",
              "      <td>842302</td>\n",
              "      <td>M</td>\n",
              "      <td>17.99</td>\n",
              "      <td>10.38</td>\n",
              "      <td>122.80</td>\n",
              "      <td>1001.0</td>\n",
              "      <td>0.11840</td>\n",
              "      <td>0.27760</td>\n",
              "      <td>0.30010</td>\n",
              "      <td>0.14710</td>\n",
              "      <td>...</td>\n",
              "      <td>17.33</td>\n",
              "      <td>184.60</td>\n",
              "      <td>2019.0</td>\n",
              "      <td>0.16220</td>\n",
              "      <td>0.66560</td>\n",
              "      <td>0.7119</td>\n",
              "      <td>0.2654</td>\n",
              "      <td>0.4601</td>\n",
              "      <td>0.11890</td>\n",
              "      <td>NaN</td>\n",
              "    </tr>\n",
              "    <tr>\n",
              "      <th>1</th>\n",
              "      <td>842517</td>\n",
              "      <td>M</td>\n",
              "      <td>20.57</td>\n",
              "      <td>17.77</td>\n",
              "      <td>132.90</td>\n",
              "      <td>1326.0</td>\n",
              "      <td>0.08474</td>\n",
              "      <td>0.07864</td>\n",
              "      <td>0.08690</td>\n",
              "      <td>0.07017</td>\n",
              "      <td>...</td>\n",
              "      <td>23.41</td>\n",
              "      <td>158.80</td>\n",
              "      <td>1956.0</td>\n",
              "      <td>0.12380</td>\n",
              "      <td>0.18660</td>\n",
              "      <td>0.2416</td>\n",
              "      <td>0.1860</td>\n",
              "      <td>0.2750</td>\n",
              "      <td>0.08902</td>\n",
              "      <td>NaN</td>\n",
              "    </tr>\n",
              "    <tr>\n",
              "      <th>2</th>\n",
              "      <td>84300903</td>\n",
              "      <td>M</td>\n",
              "      <td>19.69</td>\n",
              "      <td>21.25</td>\n",
              "      <td>130.00</td>\n",
              "      <td>1203.0</td>\n",
              "      <td>0.10960</td>\n",
              "      <td>0.15990</td>\n",
              "      <td>0.19740</td>\n",
              "      <td>0.12790</td>\n",
              "      <td>...</td>\n",
              "      <td>25.53</td>\n",
              "      <td>152.50</td>\n",
              "      <td>1709.0</td>\n",
              "      <td>0.14440</td>\n",
              "      <td>0.42450</td>\n",
              "      <td>0.4504</td>\n",
              "      <td>0.2430</td>\n",
              "      <td>0.3613</td>\n",
              "      <td>0.08758</td>\n",
              "      <td>NaN</td>\n",
              "    </tr>\n",
              "    <tr>\n",
              "      <th>3</th>\n",
              "      <td>84348301</td>\n",
              "      <td>M</td>\n",
              "      <td>11.42</td>\n",
              "      <td>20.38</td>\n",
              "      <td>77.58</td>\n",
              "      <td>386.1</td>\n",
              "      <td>0.14250</td>\n",
              "      <td>0.28390</td>\n",
              "      <td>0.24140</td>\n",
              "      <td>0.10520</td>\n",
              "      <td>...</td>\n",
              "      <td>26.50</td>\n",
              "      <td>98.87</td>\n",
              "      <td>567.7</td>\n",
              "      <td>0.20980</td>\n",
              "      <td>0.86630</td>\n",
              "      <td>0.6869</td>\n",
              "      <td>0.2575</td>\n",
              "      <td>0.6638</td>\n",
              "      <td>0.17300</td>\n",
              "      <td>NaN</td>\n",
              "    </tr>\n",
              "    <tr>\n",
              "      <th>4</th>\n",
              "      <td>84358402</td>\n",
              "      <td>M</td>\n",
              "      <td>20.29</td>\n",
              "      <td>14.34</td>\n",
              "      <td>135.10</td>\n",
              "      <td>1297.0</td>\n",
              "      <td>0.10030</td>\n",
              "      <td>0.13280</td>\n",
              "      <td>0.19800</td>\n",
              "      <td>0.10430</td>\n",
              "      <td>...</td>\n",
              "      <td>16.67</td>\n",
              "      <td>152.20</td>\n",
              "      <td>1575.0</td>\n",
              "      <td>0.13740</td>\n",
              "      <td>0.20500</td>\n",
              "      <td>0.4000</td>\n",
              "      <td>0.1625</td>\n",
              "      <td>0.2364</td>\n",
              "      <td>0.07678</td>\n",
              "      <td>NaN</td>\n",
              "    </tr>\n",
              "    <tr>\n",
              "      <th>...</th>\n",
              "      <td>...</td>\n",
              "      <td>...</td>\n",
              "      <td>...</td>\n",
              "      <td>...</td>\n",
              "      <td>...</td>\n",
              "      <td>...</td>\n",
              "      <td>...</td>\n",
              "      <td>...</td>\n",
              "      <td>...</td>\n",
              "      <td>...</td>\n",
              "      <td>...</td>\n",
              "      <td>...</td>\n",
              "      <td>...</td>\n",
              "      <td>...</td>\n",
              "      <td>...</td>\n",
              "      <td>...</td>\n",
              "      <td>...</td>\n",
              "      <td>...</td>\n",
              "      <td>...</td>\n",
              "      <td>...</td>\n",
              "      <td>...</td>\n",
              "    </tr>\n",
              "    <tr>\n",
              "      <th>564</th>\n",
              "      <td>926424</td>\n",
              "      <td>M</td>\n",
              "      <td>21.56</td>\n",
              "      <td>22.39</td>\n",
              "      <td>142.00</td>\n",
              "      <td>1479.0</td>\n",
              "      <td>0.11100</td>\n",
              "      <td>0.11590</td>\n",
              "      <td>0.24390</td>\n",
              "      <td>0.13890</td>\n",
              "      <td>...</td>\n",
              "      <td>26.40</td>\n",
              "      <td>166.10</td>\n",
              "      <td>2027.0</td>\n",
              "      <td>0.14100</td>\n",
              "      <td>0.21130</td>\n",
              "      <td>0.4107</td>\n",
              "      <td>0.2216</td>\n",
              "      <td>0.2060</td>\n",
              "      <td>0.07115</td>\n",
              "      <td>NaN</td>\n",
              "    </tr>\n",
              "    <tr>\n",
              "      <th>565</th>\n",
              "      <td>926682</td>\n",
              "      <td>M</td>\n",
              "      <td>20.13</td>\n",
              "      <td>28.25</td>\n",
              "      <td>131.20</td>\n",
              "      <td>1261.0</td>\n",
              "      <td>0.09780</td>\n",
              "      <td>0.10340</td>\n",
              "      <td>0.14400</td>\n",
              "      <td>0.09791</td>\n",
              "      <td>...</td>\n",
              "      <td>38.25</td>\n",
              "      <td>155.00</td>\n",
              "      <td>1731.0</td>\n",
              "      <td>0.11660</td>\n",
              "      <td>0.19220</td>\n",
              "      <td>0.3215</td>\n",
              "      <td>0.1628</td>\n",
              "      <td>0.2572</td>\n",
              "      <td>0.06637</td>\n",
              "      <td>NaN</td>\n",
              "    </tr>\n",
              "    <tr>\n",
              "      <th>566</th>\n",
              "      <td>926954</td>\n",
              "      <td>M</td>\n",
              "      <td>16.60</td>\n",
              "      <td>28.08</td>\n",
              "      <td>108.30</td>\n",
              "      <td>858.1</td>\n",
              "      <td>0.08455</td>\n",
              "      <td>0.10230</td>\n",
              "      <td>0.09251</td>\n",
              "      <td>0.05302</td>\n",
              "      <td>...</td>\n",
              "      <td>34.12</td>\n",
              "      <td>126.70</td>\n",
              "      <td>1124.0</td>\n",
              "      <td>0.11390</td>\n",
              "      <td>0.30940</td>\n",
              "      <td>0.3403</td>\n",
              "      <td>0.1418</td>\n",
              "      <td>0.2218</td>\n",
              "      <td>0.07820</td>\n",
              "      <td>NaN</td>\n",
              "    </tr>\n",
              "    <tr>\n",
              "      <th>567</th>\n",
              "      <td>927241</td>\n",
              "      <td>M</td>\n",
              "      <td>20.60</td>\n",
              "      <td>29.33</td>\n",
              "      <td>140.10</td>\n",
              "      <td>1265.0</td>\n",
              "      <td>0.11780</td>\n",
              "      <td>0.27700</td>\n",
              "      <td>0.35140</td>\n",
              "      <td>0.15200</td>\n",
              "      <td>...</td>\n",
              "      <td>39.42</td>\n",
              "      <td>184.60</td>\n",
              "      <td>1821.0</td>\n",
              "      <td>0.16500</td>\n",
              "      <td>0.86810</td>\n",
              "      <td>0.9387</td>\n",
              "      <td>0.2650</td>\n",
              "      <td>0.4087</td>\n",
              "      <td>0.12400</td>\n",
              "      <td>NaN</td>\n",
              "    </tr>\n",
              "    <tr>\n",
              "      <th>568</th>\n",
              "      <td>92751</td>\n",
              "      <td>B</td>\n",
              "      <td>7.76</td>\n",
              "      <td>24.54</td>\n",
              "      <td>47.92</td>\n",
              "      <td>181.0</td>\n",
              "      <td>0.05263</td>\n",
              "      <td>0.04362</td>\n",
              "      <td>0.00000</td>\n",
              "      <td>0.00000</td>\n",
              "      <td>...</td>\n",
              "      <td>30.37</td>\n",
              "      <td>59.16</td>\n",
              "      <td>268.6</td>\n",
              "      <td>0.08996</td>\n",
              "      <td>0.06444</td>\n",
              "      <td>0.0000</td>\n",
              "      <td>0.0000</td>\n",
              "      <td>0.2871</td>\n",
              "      <td>0.07039</td>\n",
              "      <td>NaN</td>\n",
              "    </tr>\n",
              "  </tbody>\n",
              "</table>\n",
              "<p>569 rows × 33 columns</p>\n",
              "</div>\n",
              "      <button class=\"colab-df-convert\" onclick=\"convertToInteractive('df-cb4b6044-a780-4462-b940-4d446fce6d11')\"\n",
              "              title=\"Convert this dataframe to an interactive table.\"\n",
              "              style=\"display:none;\">\n",
              "        \n",
              "  <svg xmlns=\"http://www.w3.org/2000/svg\" height=\"24px\"viewBox=\"0 0 24 24\"\n",
              "       width=\"24px\">\n",
              "    <path d=\"M0 0h24v24H0V0z\" fill=\"none\"/>\n",
              "    <path d=\"M18.56 5.44l.94 2.06.94-2.06 2.06-.94-2.06-.94-.94-2.06-.94 2.06-2.06.94zm-11 1L8.5 8.5l.94-2.06 2.06-.94-2.06-.94L8.5 2.5l-.94 2.06-2.06.94zm10 10l.94 2.06.94-2.06 2.06-.94-2.06-.94-.94-2.06-.94 2.06-2.06.94z\"/><path d=\"M17.41 7.96l-1.37-1.37c-.4-.4-.92-.59-1.43-.59-.52 0-1.04.2-1.43.59L10.3 9.45l-7.72 7.72c-.78.78-.78 2.05 0 2.83L4 21.41c.39.39.9.59 1.41.59.51 0 1.02-.2 1.41-.59l7.78-7.78 2.81-2.81c.8-.78.8-2.07 0-2.86zM5.41 20L4 18.59l7.72-7.72 1.47 1.35L5.41 20z\"/>\n",
              "  </svg>\n",
              "      </button>\n",
              "      \n",
              "  <style>\n",
              "    .colab-df-container {\n",
              "      display:flex;\n",
              "      flex-wrap:wrap;\n",
              "      gap: 12px;\n",
              "    }\n",
              "\n",
              "    .colab-df-convert {\n",
              "      background-color: #E8F0FE;\n",
              "      border: none;\n",
              "      border-radius: 50%;\n",
              "      cursor: pointer;\n",
              "      display: none;\n",
              "      fill: #1967D2;\n",
              "      height: 32px;\n",
              "      padding: 0 0 0 0;\n",
              "      width: 32px;\n",
              "    }\n",
              "\n",
              "    .colab-df-convert:hover {\n",
              "      background-color: #E2EBFA;\n",
              "      box-shadow: 0px 1px 2px rgba(60, 64, 67, 0.3), 0px 1px 3px 1px rgba(60, 64, 67, 0.15);\n",
              "      fill: #174EA6;\n",
              "    }\n",
              "\n",
              "    [theme=dark] .colab-df-convert {\n",
              "      background-color: #3B4455;\n",
              "      fill: #D2E3FC;\n",
              "    }\n",
              "\n",
              "    [theme=dark] .colab-df-convert:hover {\n",
              "      background-color: #434B5C;\n",
              "      box-shadow: 0px 1px 3px 1px rgba(0, 0, 0, 0.15);\n",
              "      filter: drop-shadow(0px 1px 2px rgba(0, 0, 0, 0.3));\n",
              "      fill: #FFFFFF;\n",
              "    }\n",
              "  </style>\n",
              "\n",
              "      <script>\n",
              "        const buttonEl =\n",
              "          document.querySelector('#df-cb4b6044-a780-4462-b940-4d446fce6d11 button.colab-df-convert');\n",
              "        buttonEl.style.display =\n",
              "          google.colab.kernel.accessAllowed ? 'block' : 'none';\n",
              "\n",
              "        async function convertToInteractive(key) {\n",
              "          const element = document.querySelector('#df-cb4b6044-a780-4462-b940-4d446fce6d11');\n",
              "          const dataTable =\n",
              "            await google.colab.kernel.invokeFunction('convertToInteractive',\n",
              "                                                     [key], {});\n",
              "          if (!dataTable) return;\n",
              "\n",
              "          const docLinkHtml = 'Like what you see? Visit the ' +\n",
              "            '<a target=\"_blank\" href=https://colab.research.google.com/notebooks/data_table.ipynb>data table notebook</a>'\n",
              "            + ' to learn more about interactive tables.';\n",
              "          element.innerHTML = '';\n",
              "          dataTable['output_type'] = 'display_data';\n",
              "          await google.colab.output.renderOutput(dataTable, element);\n",
              "          const docLink = document.createElement('div');\n",
              "          docLink.innerHTML = docLinkHtml;\n",
              "          element.appendChild(docLink);\n",
              "        }\n",
              "      </script>\n",
              "    </div>\n",
              "  </div>\n",
              "  "
            ]
          },
          "metadata": {},
          "execution_count": 3
        }
      ],
      "source": [
        "df"
      ]
    },
    {
      "cell_type": "code",
      "execution_count": 4,
      "metadata": {
        "execution": {
          "iopub.execute_input": "2022-10-15T19:53:19.812007Z",
          "iopub.status.busy": "2022-10-15T19:53:19.811503Z",
          "iopub.status.idle": "2022-10-15T19:53:19.831265Z",
          "shell.execute_reply": "2022-10-15T19:53:19.830056Z",
          "shell.execute_reply.started": "2022-10-15T19:53:19.811969Z"
        },
        "colab": {
          "base_uri": "https://localhost:8080/"
        },
        "id": "-dzTDVlOV4tY",
        "outputId": "1fc5c2fd-0964-454b-ed6e-a2af8aa886db"
      },
      "outputs": [
        {
          "output_type": "stream",
          "name": "stdout",
          "text": [
            "<class 'pandas.core.frame.DataFrame'>\n",
            "RangeIndex: 569 entries, 0 to 568\n",
            "Data columns (total 33 columns):\n",
            " #   Column                   Non-Null Count  Dtype  \n",
            "---  ------                   --------------  -----  \n",
            " 0   id                       569 non-null    int64  \n",
            " 1   diagnosis                569 non-null    object \n",
            " 2   radius_mean              569 non-null    float64\n",
            " 3   texture_mean             569 non-null    float64\n",
            " 4   perimeter_mean           569 non-null    float64\n",
            " 5   area_mean                569 non-null    float64\n",
            " 6   smoothness_mean          569 non-null    float64\n",
            " 7   compactness_mean         569 non-null    float64\n",
            " 8   concavity_mean           569 non-null    float64\n",
            " 9   concave points_mean      569 non-null    float64\n",
            " 10  symmetry_mean            569 non-null    float64\n",
            " 11  fractal_dimension_mean   569 non-null    float64\n",
            " 12  radius_se                569 non-null    float64\n",
            " 13  texture_se               569 non-null    float64\n",
            " 14  perimeter_se             569 non-null    float64\n",
            " 15  area_se                  569 non-null    float64\n",
            " 16  smoothness_se            569 non-null    float64\n",
            " 17  compactness_se           569 non-null    float64\n",
            " 18  concavity_se             569 non-null    float64\n",
            " 19  concave points_se        569 non-null    float64\n",
            " 20  symmetry_se              569 non-null    float64\n",
            " 21  fractal_dimension_se     569 non-null    float64\n",
            " 22  radius_worst             569 non-null    float64\n",
            " 23  texture_worst            569 non-null    float64\n",
            " 24  perimeter_worst          569 non-null    float64\n",
            " 25  area_worst               569 non-null    float64\n",
            " 26  smoothness_worst         569 non-null    float64\n",
            " 27  compactness_worst        569 non-null    float64\n",
            " 28  concavity_worst          569 non-null    float64\n",
            " 29  concave points_worst     569 non-null    float64\n",
            " 30  symmetry_worst           569 non-null    float64\n",
            " 31  fractal_dimension_worst  569 non-null    float64\n",
            " 32  Unnamed: 32              0 non-null      float64\n",
            "dtypes: float64(31), int64(1), object(1)\n",
            "memory usage: 146.8+ KB\n"
          ]
        }
      ],
      "source": [
        "df.info()"
      ]
    },
    {
      "cell_type": "code",
      "execution_count": 4,
      "metadata": {
        "id": "5ZMH2rWMV4tY"
      },
      "outputs": [],
      "source": []
    },
    {
      "cell_type": "code",
      "execution_count": 5,
      "metadata": {
        "execution": {
          "iopub.execute_input": "2022-10-15T19:53:19.83327Z",
          "iopub.status.busy": "2022-10-15T19:53:19.832907Z",
          "iopub.status.idle": "2022-10-15T19:53:19.894954Z",
          "shell.execute_reply": "2022-10-15T19:53:19.893558Z",
          "shell.execute_reply.started": "2022-10-15T19:53:19.833237Z"
        },
        "colab": {
          "base_uri": "https://localhost:8080/",
          "height": 542
        },
        "id": "n2jhBAMZV4tZ",
        "outputId": "cae08aef-bed8-4766-8c8e-2846ced2ca5f"
      },
      "outputs": [
        {
          "output_type": "display_data",
          "data": {
            "text/html": [
              "        <script type=\"text/javascript\">\n",
              "        window.PlotlyConfig = {MathJaxConfig: 'local'};\n",
              "        if (window.MathJax) {MathJax.Hub.Config({SVG: {font: \"STIX-Web\"}});}\n",
              "        if (typeof require !== 'undefined') {\n",
              "        require.undef(\"plotly\");\n",
              "        requirejs.config({\n",
              "            paths: {\n",
              "                'plotly': ['https://cdn.plot.ly/plotly-2.8.3.min']\n",
              "            }\n",
              "        });\n",
              "        require(['plotly'], function(Plotly) {\n",
              "            window._Plotly = Plotly;\n",
              "        });\n",
              "        }\n",
              "        </script>\n",
              "        "
            ]
          },
          "metadata": {}
        },
        {
          "output_type": "display_data",
          "data": {
            "application/vnd.plotly.v1+json": {
              "data": [
                {
                  "domain": {
                    "x": [
                      0,
                      1
                    ],
                    "y": [
                      0,
                      1
                    ]
                  },
                  "hovertemplate": "label=%{label}<br>value=%{value}<extra></extra>",
                  "labels": [
                    "B",
                    "M"
                  ],
                  "legendgroup": "",
                  "name": "",
                  "showlegend": true,
                  "values": [
                    357,
                    212
                  ],
                  "type": "pie"
                }
              ],
              "layout": {
                "template": {
                  "data": {
                    "bar": [
                      {
                        "error_x": {
                          "color": "#2a3f5f"
                        },
                        "error_y": {
                          "color": "#2a3f5f"
                        },
                        "marker": {
                          "line": {
                            "color": "#E5ECF6",
                            "width": 0.5
                          },
                          "pattern": {
                            "fillmode": "overlay",
                            "size": 10,
                            "solidity": 0.2
                          }
                        },
                        "type": "bar"
                      }
                    ],
                    "barpolar": [
                      {
                        "marker": {
                          "line": {
                            "color": "#E5ECF6",
                            "width": 0.5
                          },
                          "pattern": {
                            "fillmode": "overlay",
                            "size": 10,
                            "solidity": 0.2
                          }
                        },
                        "type": "barpolar"
                      }
                    ],
                    "carpet": [
                      {
                        "aaxis": {
                          "endlinecolor": "#2a3f5f",
                          "gridcolor": "white",
                          "linecolor": "white",
                          "minorgridcolor": "white",
                          "startlinecolor": "#2a3f5f"
                        },
                        "baxis": {
                          "endlinecolor": "#2a3f5f",
                          "gridcolor": "white",
                          "linecolor": "white",
                          "minorgridcolor": "white",
                          "startlinecolor": "#2a3f5f"
                        },
                        "type": "carpet"
                      }
                    ],
                    "choropleth": [
                      {
                        "colorbar": {
                          "outlinewidth": 0,
                          "ticks": ""
                        },
                        "type": "choropleth"
                      }
                    ],
                    "contour": [
                      {
                        "colorbar": {
                          "outlinewidth": 0,
                          "ticks": ""
                        },
                        "colorscale": [
                          [
                            0,
                            "#0d0887"
                          ],
                          [
                            0.1111111111111111,
                            "#46039f"
                          ],
                          [
                            0.2222222222222222,
                            "#7201a8"
                          ],
                          [
                            0.3333333333333333,
                            "#9c179e"
                          ],
                          [
                            0.4444444444444444,
                            "#bd3786"
                          ],
                          [
                            0.5555555555555556,
                            "#d8576b"
                          ],
                          [
                            0.6666666666666666,
                            "#ed7953"
                          ],
                          [
                            0.7777777777777778,
                            "#fb9f3a"
                          ],
                          [
                            0.8888888888888888,
                            "#fdca26"
                          ],
                          [
                            1,
                            "#f0f921"
                          ]
                        ],
                        "type": "contour"
                      }
                    ],
                    "contourcarpet": [
                      {
                        "colorbar": {
                          "outlinewidth": 0,
                          "ticks": ""
                        },
                        "type": "contourcarpet"
                      }
                    ],
                    "heatmap": [
                      {
                        "colorbar": {
                          "outlinewidth": 0,
                          "ticks": ""
                        },
                        "colorscale": [
                          [
                            0,
                            "#0d0887"
                          ],
                          [
                            0.1111111111111111,
                            "#46039f"
                          ],
                          [
                            0.2222222222222222,
                            "#7201a8"
                          ],
                          [
                            0.3333333333333333,
                            "#9c179e"
                          ],
                          [
                            0.4444444444444444,
                            "#bd3786"
                          ],
                          [
                            0.5555555555555556,
                            "#d8576b"
                          ],
                          [
                            0.6666666666666666,
                            "#ed7953"
                          ],
                          [
                            0.7777777777777778,
                            "#fb9f3a"
                          ],
                          [
                            0.8888888888888888,
                            "#fdca26"
                          ],
                          [
                            1,
                            "#f0f921"
                          ]
                        ],
                        "type": "heatmap"
                      }
                    ],
                    "heatmapgl": [
                      {
                        "colorbar": {
                          "outlinewidth": 0,
                          "ticks": ""
                        },
                        "colorscale": [
                          [
                            0,
                            "#0d0887"
                          ],
                          [
                            0.1111111111111111,
                            "#46039f"
                          ],
                          [
                            0.2222222222222222,
                            "#7201a8"
                          ],
                          [
                            0.3333333333333333,
                            "#9c179e"
                          ],
                          [
                            0.4444444444444444,
                            "#bd3786"
                          ],
                          [
                            0.5555555555555556,
                            "#d8576b"
                          ],
                          [
                            0.6666666666666666,
                            "#ed7953"
                          ],
                          [
                            0.7777777777777778,
                            "#fb9f3a"
                          ],
                          [
                            0.8888888888888888,
                            "#fdca26"
                          ],
                          [
                            1,
                            "#f0f921"
                          ]
                        ],
                        "type": "heatmapgl"
                      }
                    ],
                    "histogram": [
                      {
                        "marker": {
                          "pattern": {
                            "fillmode": "overlay",
                            "size": 10,
                            "solidity": 0.2
                          }
                        },
                        "type": "histogram"
                      }
                    ],
                    "histogram2d": [
                      {
                        "colorbar": {
                          "outlinewidth": 0,
                          "ticks": ""
                        },
                        "colorscale": [
                          [
                            0,
                            "#0d0887"
                          ],
                          [
                            0.1111111111111111,
                            "#46039f"
                          ],
                          [
                            0.2222222222222222,
                            "#7201a8"
                          ],
                          [
                            0.3333333333333333,
                            "#9c179e"
                          ],
                          [
                            0.4444444444444444,
                            "#bd3786"
                          ],
                          [
                            0.5555555555555556,
                            "#d8576b"
                          ],
                          [
                            0.6666666666666666,
                            "#ed7953"
                          ],
                          [
                            0.7777777777777778,
                            "#fb9f3a"
                          ],
                          [
                            0.8888888888888888,
                            "#fdca26"
                          ],
                          [
                            1,
                            "#f0f921"
                          ]
                        ],
                        "type": "histogram2d"
                      }
                    ],
                    "histogram2dcontour": [
                      {
                        "colorbar": {
                          "outlinewidth": 0,
                          "ticks": ""
                        },
                        "colorscale": [
                          [
                            0,
                            "#0d0887"
                          ],
                          [
                            0.1111111111111111,
                            "#46039f"
                          ],
                          [
                            0.2222222222222222,
                            "#7201a8"
                          ],
                          [
                            0.3333333333333333,
                            "#9c179e"
                          ],
                          [
                            0.4444444444444444,
                            "#bd3786"
                          ],
                          [
                            0.5555555555555556,
                            "#d8576b"
                          ],
                          [
                            0.6666666666666666,
                            "#ed7953"
                          ],
                          [
                            0.7777777777777778,
                            "#fb9f3a"
                          ],
                          [
                            0.8888888888888888,
                            "#fdca26"
                          ],
                          [
                            1,
                            "#f0f921"
                          ]
                        ],
                        "type": "histogram2dcontour"
                      }
                    ],
                    "mesh3d": [
                      {
                        "colorbar": {
                          "outlinewidth": 0,
                          "ticks": ""
                        },
                        "type": "mesh3d"
                      }
                    ],
                    "parcoords": [
                      {
                        "line": {
                          "colorbar": {
                            "outlinewidth": 0,
                            "ticks": ""
                          }
                        },
                        "type": "parcoords"
                      }
                    ],
                    "pie": [
                      {
                        "automargin": true,
                        "type": "pie"
                      }
                    ],
                    "scatter": [
                      {
                        "marker": {
                          "colorbar": {
                            "outlinewidth": 0,
                            "ticks": ""
                          }
                        },
                        "type": "scatter"
                      }
                    ],
                    "scatter3d": [
                      {
                        "line": {
                          "colorbar": {
                            "outlinewidth": 0,
                            "ticks": ""
                          }
                        },
                        "marker": {
                          "colorbar": {
                            "outlinewidth": 0,
                            "ticks": ""
                          }
                        },
                        "type": "scatter3d"
                      }
                    ],
                    "scattercarpet": [
                      {
                        "marker": {
                          "colorbar": {
                            "outlinewidth": 0,
                            "ticks": ""
                          }
                        },
                        "type": "scattercarpet"
                      }
                    ],
                    "scattergeo": [
                      {
                        "marker": {
                          "colorbar": {
                            "outlinewidth": 0,
                            "ticks": ""
                          }
                        },
                        "type": "scattergeo"
                      }
                    ],
                    "scattergl": [
                      {
                        "marker": {
                          "colorbar": {
                            "outlinewidth": 0,
                            "ticks": ""
                          }
                        },
                        "type": "scattergl"
                      }
                    ],
                    "scattermapbox": [
                      {
                        "marker": {
                          "colorbar": {
                            "outlinewidth": 0,
                            "ticks": ""
                          }
                        },
                        "type": "scattermapbox"
                      }
                    ],
                    "scatterpolar": [
                      {
                        "marker": {
                          "colorbar": {
                            "outlinewidth": 0,
                            "ticks": ""
                          }
                        },
                        "type": "scatterpolar"
                      }
                    ],
                    "scatterpolargl": [
                      {
                        "marker": {
                          "colorbar": {
                            "outlinewidth": 0,
                            "ticks": ""
                          }
                        },
                        "type": "scatterpolargl"
                      }
                    ],
                    "scatterternary": [
                      {
                        "marker": {
                          "colorbar": {
                            "outlinewidth": 0,
                            "ticks": ""
                          }
                        },
                        "type": "scatterternary"
                      }
                    ],
                    "surface": [
                      {
                        "colorbar": {
                          "outlinewidth": 0,
                          "ticks": ""
                        },
                        "colorscale": [
                          [
                            0,
                            "#0d0887"
                          ],
                          [
                            0.1111111111111111,
                            "#46039f"
                          ],
                          [
                            0.2222222222222222,
                            "#7201a8"
                          ],
                          [
                            0.3333333333333333,
                            "#9c179e"
                          ],
                          [
                            0.4444444444444444,
                            "#bd3786"
                          ],
                          [
                            0.5555555555555556,
                            "#d8576b"
                          ],
                          [
                            0.6666666666666666,
                            "#ed7953"
                          ],
                          [
                            0.7777777777777778,
                            "#fb9f3a"
                          ],
                          [
                            0.8888888888888888,
                            "#fdca26"
                          ],
                          [
                            1,
                            "#f0f921"
                          ]
                        ],
                        "type": "surface"
                      }
                    ],
                    "table": [
                      {
                        "cells": {
                          "fill": {
                            "color": "#EBF0F8"
                          },
                          "line": {
                            "color": "white"
                          }
                        },
                        "header": {
                          "fill": {
                            "color": "#C8D4E3"
                          },
                          "line": {
                            "color": "white"
                          }
                        },
                        "type": "table"
                      }
                    ]
                  },
                  "layout": {
                    "annotationdefaults": {
                      "arrowcolor": "#2a3f5f",
                      "arrowhead": 0,
                      "arrowwidth": 1
                    },
                    "autotypenumbers": "strict",
                    "coloraxis": {
                      "colorbar": {
                        "outlinewidth": 0,
                        "ticks": ""
                      }
                    },
                    "colorscale": {
                      "diverging": [
                        [
                          0,
                          "#8e0152"
                        ],
                        [
                          0.1,
                          "#c51b7d"
                        ],
                        [
                          0.2,
                          "#de77ae"
                        ],
                        [
                          0.3,
                          "#f1b6da"
                        ],
                        [
                          0.4,
                          "#fde0ef"
                        ],
                        [
                          0.5,
                          "#f7f7f7"
                        ],
                        [
                          0.6,
                          "#e6f5d0"
                        ],
                        [
                          0.7,
                          "#b8e186"
                        ],
                        [
                          0.8,
                          "#7fbc41"
                        ],
                        [
                          0.9,
                          "#4d9221"
                        ],
                        [
                          1,
                          "#276419"
                        ]
                      ],
                      "sequential": [
                        [
                          0,
                          "#0d0887"
                        ],
                        [
                          0.1111111111111111,
                          "#46039f"
                        ],
                        [
                          0.2222222222222222,
                          "#7201a8"
                        ],
                        [
                          0.3333333333333333,
                          "#9c179e"
                        ],
                        [
                          0.4444444444444444,
                          "#bd3786"
                        ],
                        [
                          0.5555555555555556,
                          "#d8576b"
                        ],
                        [
                          0.6666666666666666,
                          "#ed7953"
                        ],
                        [
                          0.7777777777777778,
                          "#fb9f3a"
                        ],
                        [
                          0.8888888888888888,
                          "#fdca26"
                        ],
                        [
                          1,
                          "#f0f921"
                        ]
                      ],
                      "sequentialminus": [
                        [
                          0,
                          "#0d0887"
                        ],
                        [
                          0.1111111111111111,
                          "#46039f"
                        ],
                        [
                          0.2222222222222222,
                          "#7201a8"
                        ],
                        [
                          0.3333333333333333,
                          "#9c179e"
                        ],
                        [
                          0.4444444444444444,
                          "#bd3786"
                        ],
                        [
                          0.5555555555555556,
                          "#d8576b"
                        ],
                        [
                          0.6666666666666666,
                          "#ed7953"
                        ],
                        [
                          0.7777777777777778,
                          "#fb9f3a"
                        ],
                        [
                          0.8888888888888888,
                          "#fdca26"
                        ],
                        [
                          1,
                          "#f0f921"
                        ]
                      ]
                    },
                    "colorway": [
                      "#636efa",
                      "#EF553B",
                      "#00cc96",
                      "#ab63fa",
                      "#FFA15A",
                      "#19d3f3",
                      "#FF6692",
                      "#B6E880",
                      "#FF97FF",
                      "#FECB52"
                    ],
                    "font": {
                      "color": "#2a3f5f"
                    },
                    "geo": {
                      "bgcolor": "white",
                      "lakecolor": "white",
                      "landcolor": "#E5ECF6",
                      "showlakes": true,
                      "showland": true,
                      "subunitcolor": "white"
                    },
                    "hoverlabel": {
                      "align": "left"
                    },
                    "hovermode": "closest",
                    "mapbox": {
                      "style": "light"
                    },
                    "paper_bgcolor": "white",
                    "plot_bgcolor": "#E5ECF6",
                    "polar": {
                      "angularaxis": {
                        "gridcolor": "white",
                        "linecolor": "white",
                        "ticks": ""
                      },
                      "bgcolor": "#E5ECF6",
                      "radialaxis": {
                        "gridcolor": "white",
                        "linecolor": "white",
                        "ticks": ""
                      }
                    },
                    "scene": {
                      "xaxis": {
                        "backgroundcolor": "#E5ECF6",
                        "gridcolor": "white",
                        "gridwidth": 2,
                        "linecolor": "white",
                        "showbackground": true,
                        "ticks": "",
                        "zerolinecolor": "white"
                      },
                      "yaxis": {
                        "backgroundcolor": "#E5ECF6",
                        "gridcolor": "white",
                        "gridwidth": 2,
                        "linecolor": "white",
                        "showbackground": true,
                        "ticks": "",
                        "zerolinecolor": "white"
                      },
                      "zaxis": {
                        "backgroundcolor": "#E5ECF6",
                        "gridcolor": "white",
                        "gridwidth": 2,
                        "linecolor": "white",
                        "showbackground": true,
                        "ticks": "",
                        "zerolinecolor": "white"
                      }
                    },
                    "shapedefaults": {
                      "line": {
                        "color": "#2a3f5f"
                      }
                    },
                    "ternary": {
                      "aaxis": {
                        "gridcolor": "white",
                        "linecolor": "white",
                        "ticks": ""
                      },
                      "baxis": {
                        "gridcolor": "white",
                        "linecolor": "white",
                        "ticks": ""
                      },
                      "bgcolor": "#E5ECF6",
                      "caxis": {
                        "gridcolor": "white",
                        "linecolor": "white",
                        "ticks": ""
                      }
                    },
                    "title": {
                      "x": 0.05
                    },
                    "xaxis": {
                      "automargin": true,
                      "gridcolor": "white",
                      "linecolor": "white",
                      "ticks": "",
                      "title": {
                        "standoff": 15
                      },
                      "zerolinecolor": "white",
                      "zerolinewidth": 2
                    },
                    "yaxis": {
                      "automargin": true,
                      "gridcolor": "white",
                      "linecolor": "white",
                      "ticks": "",
                      "title": {
                        "standoff": 15
                      },
                      "zerolinecolor": "white",
                      "zerolinewidth": 2
                    }
                  }
                },
                "legend": {
                  "tracegroupgap": 0
                },
                "margin": {
                  "t": 60
                }
              },
              "config": {
                "plotlyServerURL": "https://plot.ly"
              }
            },
            "text/html": [
              "<div>                            <div id=\"44ff0ba5-7e29-4260-83a7-7f6f22d2f455\" class=\"plotly-graph-div\" style=\"height:525px; width:100%;\"></div>            <script type=\"text/javascript\">                require([\"plotly\"], function(Plotly) {                    window.PLOTLYENV=window.PLOTLYENV || {};                                    if (document.getElementById(\"44ff0ba5-7e29-4260-83a7-7f6f22d2f455\")) {                    Plotly.newPlot(                        \"44ff0ba5-7e29-4260-83a7-7f6f22d2f455\",                        [{\"domain\":{\"x\":[0.0,1.0],\"y\":[0.0,1.0]},\"hovertemplate\":\"label=%{label}<br>value=%{value}<extra></extra>\",\"labels\":[\"B\",\"M\"],\"legendgroup\":\"\",\"name\":\"\",\"showlegend\":true,\"values\":[357,212],\"type\":\"pie\"}],                        {\"template\":{\"data\":{\"bar\":[{\"error_x\":{\"color\":\"#2a3f5f\"},\"error_y\":{\"color\":\"#2a3f5f\"},\"marker\":{\"line\":{\"color\":\"#E5ECF6\",\"width\":0.5},\"pattern\":{\"fillmode\":\"overlay\",\"size\":10,\"solidity\":0.2}},\"type\":\"bar\"}],\"barpolar\":[{\"marker\":{\"line\":{\"color\":\"#E5ECF6\",\"width\":0.5},\"pattern\":{\"fillmode\":\"overlay\",\"size\":10,\"solidity\":0.2}},\"type\":\"barpolar\"}],\"carpet\":[{\"aaxis\":{\"endlinecolor\":\"#2a3f5f\",\"gridcolor\":\"white\",\"linecolor\":\"white\",\"minorgridcolor\":\"white\",\"startlinecolor\":\"#2a3f5f\"},\"baxis\":{\"endlinecolor\":\"#2a3f5f\",\"gridcolor\":\"white\",\"linecolor\":\"white\",\"minorgridcolor\":\"white\",\"startlinecolor\":\"#2a3f5f\"},\"type\":\"carpet\"}],\"choropleth\":[{\"colorbar\":{\"outlinewidth\":0,\"ticks\":\"\"},\"type\":\"choropleth\"}],\"contour\":[{\"colorbar\":{\"outlinewidth\":0,\"ticks\":\"\"},\"colorscale\":[[0.0,\"#0d0887\"],[0.1111111111111111,\"#46039f\"],[0.2222222222222222,\"#7201a8\"],[0.3333333333333333,\"#9c179e\"],[0.4444444444444444,\"#bd3786\"],[0.5555555555555556,\"#d8576b\"],[0.6666666666666666,\"#ed7953\"],[0.7777777777777778,\"#fb9f3a\"],[0.8888888888888888,\"#fdca26\"],[1.0,\"#f0f921\"]],\"type\":\"contour\"}],\"contourcarpet\":[{\"colorbar\":{\"outlinewidth\":0,\"ticks\":\"\"},\"type\":\"contourcarpet\"}],\"heatmap\":[{\"colorbar\":{\"outlinewidth\":0,\"ticks\":\"\"},\"colorscale\":[[0.0,\"#0d0887\"],[0.1111111111111111,\"#46039f\"],[0.2222222222222222,\"#7201a8\"],[0.3333333333333333,\"#9c179e\"],[0.4444444444444444,\"#bd3786\"],[0.5555555555555556,\"#d8576b\"],[0.6666666666666666,\"#ed7953\"],[0.7777777777777778,\"#fb9f3a\"],[0.8888888888888888,\"#fdca26\"],[1.0,\"#f0f921\"]],\"type\":\"heatmap\"}],\"heatmapgl\":[{\"colorbar\":{\"outlinewidth\":0,\"ticks\":\"\"},\"colorscale\":[[0.0,\"#0d0887\"],[0.1111111111111111,\"#46039f\"],[0.2222222222222222,\"#7201a8\"],[0.3333333333333333,\"#9c179e\"],[0.4444444444444444,\"#bd3786\"],[0.5555555555555556,\"#d8576b\"],[0.6666666666666666,\"#ed7953\"],[0.7777777777777778,\"#fb9f3a\"],[0.8888888888888888,\"#fdca26\"],[1.0,\"#f0f921\"]],\"type\":\"heatmapgl\"}],\"histogram\":[{\"marker\":{\"pattern\":{\"fillmode\":\"overlay\",\"size\":10,\"solidity\":0.2}},\"type\":\"histogram\"}],\"histogram2d\":[{\"colorbar\":{\"outlinewidth\":0,\"ticks\":\"\"},\"colorscale\":[[0.0,\"#0d0887\"],[0.1111111111111111,\"#46039f\"],[0.2222222222222222,\"#7201a8\"],[0.3333333333333333,\"#9c179e\"],[0.4444444444444444,\"#bd3786\"],[0.5555555555555556,\"#d8576b\"],[0.6666666666666666,\"#ed7953\"],[0.7777777777777778,\"#fb9f3a\"],[0.8888888888888888,\"#fdca26\"],[1.0,\"#f0f921\"]],\"type\":\"histogram2d\"}],\"histogram2dcontour\":[{\"colorbar\":{\"outlinewidth\":0,\"ticks\":\"\"},\"colorscale\":[[0.0,\"#0d0887\"],[0.1111111111111111,\"#46039f\"],[0.2222222222222222,\"#7201a8\"],[0.3333333333333333,\"#9c179e\"],[0.4444444444444444,\"#bd3786\"],[0.5555555555555556,\"#d8576b\"],[0.6666666666666666,\"#ed7953\"],[0.7777777777777778,\"#fb9f3a\"],[0.8888888888888888,\"#fdca26\"],[1.0,\"#f0f921\"]],\"type\":\"histogram2dcontour\"}],\"mesh3d\":[{\"colorbar\":{\"outlinewidth\":0,\"ticks\":\"\"},\"type\":\"mesh3d\"}],\"parcoords\":[{\"line\":{\"colorbar\":{\"outlinewidth\":0,\"ticks\":\"\"}},\"type\":\"parcoords\"}],\"pie\":[{\"automargin\":true,\"type\":\"pie\"}],\"scatter\":[{\"marker\":{\"colorbar\":{\"outlinewidth\":0,\"ticks\":\"\"}},\"type\":\"scatter\"}],\"scatter3d\":[{\"line\":{\"colorbar\":{\"outlinewidth\":0,\"ticks\":\"\"}},\"marker\":{\"colorbar\":{\"outlinewidth\":0,\"ticks\":\"\"}},\"type\":\"scatter3d\"}],\"scattercarpet\":[{\"marker\":{\"colorbar\":{\"outlinewidth\":0,\"ticks\":\"\"}},\"type\":\"scattercarpet\"}],\"scattergeo\":[{\"marker\":{\"colorbar\":{\"outlinewidth\":0,\"ticks\":\"\"}},\"type\":\"scattergeo\"}],\"scattergl\":[{\"marker\":{\"colorbar\":{\"outlinewidth\":0,\"ticks\":\"\"}},\"type\":\"scattergl\"}],\"scattermapbox\":[{\"marker\":{\"colorbar\":{\"outlinewidth\":0,\"ticks\":\"\"}},\"type\":\"scattermapbox\"}],\"scatterpolar\":[{\"marker\":{\"colorbar\":{\"outlinewidth\":0,\"ticks\":\"\"}},\"type\":\"scatterpolar\"}],\"scatterpolargl\":[{\"marker\":{\"colorbar\":{\"outlinewidth\":0,\"ticks\":\"\"}},\"type\":\"scatterpolargl\"}],\"scatterternary\":[{\"marker\":{\"colorbar\":{\"outlinewidth\":0,\"ticks\":\"\"}},\"type\":\"scatterternary\"}],\"surface\":[{\"colorbar\":{\"outlinewidth\":0,\"ticks\":\"\"},\"colorscale\":[[0.0,\"#0d0887\"],[0.1111111111111111,\"#46039f\"],[0.2222222222222222,\"#7201a8\"],[0.3333333333333333,\"#9c179e\"],[0.4444444444444444,\"#bd3786\"],[0.5555555555555556,\"#d8576b\"],[0.6666666666666666,\"#ed7953\"],[0.7777777777777778,\"#fb9f3a\"],[0.8888888888888888,\"#fdca26\"],[1.0,\"#f0f921\"]],\"type\":\"surface\"}],\"table\":[{\"cells\":{\"fill\":{\"color\":\"#EBF0F8\"},\"line\":{\"color\":\"white\"}},\"header\":{\"fill\":{\"color\":\"#C8D4E3\"},\"line\":{\"color\":\"white\"}},\"type\":\"table\"}]},\"layout\":{\"annotationdefaults\":{\"arrowcolor\":\"#2a3f5f\",\"arrowhead\":0,\"arrowwidth\":1},\"autotypenumbers\":\"strict\",\"coloraxis\":{\"colorbar\":{\"outlinewidth\":0,\"ticks\":\"\"}},\"colorscale\":{\"diverging\":[[0,\"#8e0152\"],[0.1,\"#c51b7d\"],[0.2,\"#de77ae\"],[0.3,\"#f1b6da\"],[0.4,\"#fde0ef\"],[0.5,\"#f7f7f7\"],[0.6,\"#e6f5d0\"],[0.7,\"#b8e186\"],[0.8,\"#7fbc41\"],[0.9,\"#4d9221\"],[1,\"#276419\"]],\"sequential\":[[0.0,\"#0d0887\"],[0.1111111111111111,\"#46039f\"],[0.2222222222222222,\"#7201a8\"],[0.3333333333333333,\"#9c179e\"],[0.4444444444444444,\"#bd3786\"],[0.5555555555555556,\"#d8576b\"],[0.6666666666666666,\"#ed7953\"],[0.7777777777777778,\"#fb9f3a\"],[0.8888888888888888,\"#fdca26\"],[1.0,\"#f0f921\"]],\"sequentialminus\":[[0.0,\"#0d0887\"],[0.1111111111111111,\"#46039f\"],[0.2222222222222222,\"#7201a8\"],[0.3333333333333333,\"#9c179e\"],[0.4444444444444444,\"#bd3786\"],[0.5555555555555556,\"#d8576b\"],[0.6666666666666666,\"#ed7953\"],[0.7777777777777778,\"#fb9f3a\"],[0.8888888888888888,\"#fdca26\"],[1.0,\"#f0f921\"]]},\"colorway\":[\"#636efa\",\"#EF553B\",\"#00cc96\",\"#ab63fa\",\"#FFA15A\",\"#19d3f3\",\"#FF6692\",\"#B6E880\",\"#FF97FF\",\"#FECB52\"],\"font\":{\"color\":\"#2a3f5f\"},\"geo\":{\"bgcolor\":\"white\",\"lakecolor\":\"white\",\"landcolor\":\"#E5ECF6\",\"showlakes\":true,\"showland\":true,\"subunitcolor\":\"white\"},\"hoverlabel\":{\"align\":\"left\"},\"hovermode\":\"closest\",\"mapbox\":{\"style\":\"light\"},\"paper_bgcolor\":\"white\",\"plot_bgcolor\":\"#E5ECF6\",\"polar\":{\"angularaxis\":{\"gridcolor\":\"white\",\"linecolor\":\"white\",\"ticks\":\"\"},\"bgcolor\":\"#E5ECF6\",\"radialaxis\":{\"gridcolor\":\"white\",\"linecolor\":\"white\",\"ticks\":\"\"}},\"scene\":{\"xaxis\":{\"backgroundcolor\":\"#E5ECF6\",\"gridcolor\":\"white\",\"gridwidth\":2,\"linecolor\":\"white\",\"showbackground\":true,\"ticks\":\"\",\"zerolinecolor\":\"white\"},\"yaxis\":{\"backgroundcolor\":\"#E5ECF6\",\"gridcolor\":\"white\",\"gridwidth\":2,\"linecolor\":\"white\",\"showbackground\":true,\"ticks\":\"\",\"zerolinecolor\":\"white\"},\"zaxis\":{\"backgroundcolor\":\"#E5ECF6\",\"gridcolor\":\"white\",\"gridwidth\":2,\"linecolor\":\"white\",\"showbackground\":true,\"ticks\":\"\",\"zerolinecolor\":\"white\"}},\"shapedefaults\":{\"line\":{\"color\":\"#2a3f5f\"}},\"ternary\":{\"aaxis\":{\"gridcolor\":\"white\",\"linecolor\":\"white\",\"ticks\":\"\"},\"baxis\":{\"gridcolor\":\"white\",\"linecolor\":\"white\",\"ticks\":\"\"},\"bgcolor\":\"#E5ECF6\",\"caxis\":{\"gridcolor\":\"white\",\"linecolor\":\"white\",\"ticks\":\"\"}},\"title\":{\"x\":0.05},\"xaxis\":{\"automargin\":true,\"gridcolor\":\"white\",\"linecolor\":\"white\",\"ticks\":\"\",\"title\":{\"standoff\":15},\"zerolinecolor\":\"white\",\"zerolinewidth\":2},\"yaxis\":{\"automargin\":true,\"gridcolor\":\"white\",\"linecolor\":\"white\",\"ticks\":\"\",\"title\":{\"standoff\":15},\"zerolinecolor\":\"white\",\"zerolinewidth\":2}}},\"legend\":{\"tracegroupgap\":0},\"margin\":{\"t\":60}},                        {\"responsive\": true}                    ).then(function(){\n",
              "                            \n",
              "var gd = document.getElementById('44ff0ba5-7e29-4260-83a7-7f6f22d2f455');\n",
              "var x = new MutationObserver(function (mutations, observer) {{\n",
              "        var display = window.getComputedStyle(gd).display;\n",
              "        if (!display || display === 'none') {{\n",
              "            console.log([gd, 'removed!']);\n",
              "            Plotly.purge(gd);\n",
              "            observer.disconnect();\n",
              "        }}\n",
              "}});\n",
              "\n",
              "// Listen for the removal of the full notebook cells\n",
              "var notebookContainer = gd.closest('#notebook-container');\n",
              "if (notebookContainer) {{\n",
              "    x.observe(notebookContainer, {childList: true});\n",
              "}}\n",
              "\n",
              "// Listen for the clearing of the current output cell\n",
              "var outputEl = gd.closest('.output');\n",
              "if (outputEl) {{\n",
              "    x.observe(outputEl, {childList: true});\n",
              "}}\n",
              "\n",
              "                        })                };                });            </script>        </div>"
            ]
          },
          "metadata": {}
        }
      ],
      "source": [
        "import plotly.express as px\n",
        "from plotly.offline import init_notebook_mode, iplot\n",
        "init_notebook_mode(connected=True)\n",
        "fig = px.pie(df, values=df['diagnosis'].value_counts().values, names=df['diagnosis'].value_counts().index)\n",
        "fig.show()"
      ]
    },
    {
      "cell_type": "markdown",
      "metadata": {
        "id": "SE-xvR7NV4tZ"
      },
      "source": [
        "Our target vaoues are slightly imbalanced so we may not need to use oversampling or undersampling techniques."
      ]
    },
    {
      "cell_type": "code",
      "execution_count": 5,
      "metadata": {
        "id": "E2mzi2LgV4tZ"
      },
      "outputs": [],
      "source": []
    },
    {
      "cell_type": "markdown",
      "metadata": {
        "id": "iUN52pkWV4ta"
      },
      "source": [
        "# Feature selection with correlation matrix"
      ]
    },
    {
      "cell_type": "code",
      "execution_count": 6,
      "metadata": {
        "execution": {
          "iopub.execute_input": "2022-10-15T19:53:20.048486Z",
          "iopub.status.busy": "2022-10-15T19:53:20.048067Z",
          "iopub.status.idle": "2022-10-15T19:53:24.726819Z",
          "shell.execute_reply": "2022-10-15T19:53:24.725477Z",
          "shell.execute_reply.started": "2022-10-15T19:53:20.048442Z"
        },
        "colab": {
          "base_uri": "https://localhost:8080/",
          "height": 874
        },
        "id": "QGlrnn7CV4ta",
        "outputId": "11bddfa2-71a6-40ca-87d6-cd1445181e46"
      },
      "outputs": [
        {
          "output_type": "execute_result",
          "data": {
            "text/plain": [
              "Text(0.5, 1.05, 'Correlation of df Features')"
            ]
          },
          "metadata": {},
          "execution_count": 6
        },
        {
          "output_type": "display_data",
          "data": {
            "text/plain": [
              "<Figure size 1008x1008 with 2 Axes>"
            ],
            "image/png": "[encoded data removed]"
          },
          "metadata": {
            "needs_background": "light"
          }
        }
      ],
      "source": [
        "corr = df.iloc[:,2:].corr()\n",
        "colormap = sns.diverging_palette(220, 10, as_cmap = True)\n",
        "plt.figure(figsize=(14,14))\n",
        "sns.heatmap(corr, cbar = True,  square = True, annot=True, fmt= '.2f',annot_kws={'size': 8},\n",
        "            cmap = colormap, linewidths=0.1, linecolor='white')\n",
        "plt.title('Correlation of df Features', y=1.05, size=15)"
      ]
    },
    {
      "cell_type": "markdown",
      "metadata": {
        "id": "R3m4tvnCV4ta"
      },
      "source": [
        "As we can see many features are correlated to each other so we will remove highly correlated features bigger than 0.95"
      ]
    },
    {
      "cell_type": "code",
      "execution_count": 7,
      "metadata": {
        "execution": {
          "iopub.execute_input": "2022-10-15T19:53:24.729851Z",
          "iopub.status.busy": "2022-10-15T19:53:24.729402Z",
          "iopub.status.idle": "2022-10-15T19:53:24.756044Z",
          "shell.execute_reply": "2022-10-15T19:53:24.754677Z",
          "shell.execute_reply.started": "2022-10-15T19:53:24.729808Z"
        },
        "colab": {
          "base_uri": "https://localhost:8080/"
        },
        "id": "1sDuIda8V4tb",
        "outputId": "4e17df8b-dc03-4bf4-cc6f-d3d5028fcc1e"
      },
      "outputs": [
        {
          "output_type": "stream",
          "name": "stdout",
          "text": [
            "['perimeter_mean', 'area_mean', 'perimeter_se', 'area_se', 'radius_worst', 'perimeter_worst', 'area_worst']\n"
          ]
        },
        {
          "output_type": "stream",
          "name": "stderr",
          "text": [
            "/usr/local/lib/python3.7/dist-packages/ipykernel_launcher.py:7: DeprecationWarning:\n",
            "\n",
            "`np.bool` is a deprecated alias for the builtin `bool`. To silence this warning, use `bool` by itself. Doing this will not modify any behavior and is safe. If you specifically wanted the numpy scalar type, use `np.bool_` here.\n",
            "Deprecated in NumPy 1.20; for more details and guidance: https://numpy.org/devdocs/release/1.20.0-notes.html#deprecations\n",
            "\n"
          ]
        }
      ],
      "source": [
        "import numpy as np\n",
        "\n",
        "# Create correlation matrix\n",
        "corr_matrix = df.corr().abs()\n",
        "\n",
        "# Select upper triangle of correlation matrix\n",
        "upper = corr_matrix.where(np.triu(np.ones(corr_matrix.shape), k=1).astype(np.bool))\n",
        "\n",
        "# Find features with correlation greater than 0.95\n",
        "to_drop = [column for column in upper.columns if any(upper[column] > 0.95)]\n",
        "print(to_drop)\n",
        "# Drop features \n",
        "df.drop(to_drop, axis=1, inplace=True)"
      ]
    },
    {
      "cell_type": "markdown",
      "metadata": {
        "execution": {
          "iopub.execute_input": "2022-10-13T16:43:35.519324Z",
          "iopub.status.busy": "2022-10-13T16:43:35.517561Z",
          "iopub.status.idle": "2022-10-13T16:43:35.526558Z",
          "shell.execute_reply": "2022-10-13T16:43:35.525168Z",
          "shell.execute_reply.started": "2022-10-13T16:43:35.519259Z"
        },
        "id": "ueP0GrX9V4tb"
      },
      "source": [
        "We have now **26** features"
      ]
    },
    {
      "cell_type": "code",
      "execution_count": 8,
      "metadata": {
        "execution": {
          "iopub.execute_input": "2022-10-15T19:53:24.757976Z",
          "iopub.status.busy": "2022-10-15T19:53:24.757451Z",
          "iopub.status.idle": "2022-10-15T19:53:24.765629Z",
          "shell.execute_reply": "2022-10-15T19:53:24.764631Z",
          "shell.execute_reply.started": "2022-10-15T19:53:24.757847Z"
        },
        "colab": {
          "base_uri": "https://localhost:8080/"
        },
        "id": "XKK6bVh5V4tb",
        "outputId": "5940994b-a03c-472b-e07f-517be92aeed4"
      },
      "outputs": [
        {
          "output_type": "execute_result",
          "data": {
            "text/plain": [
              "26"
            ]
          },
          "metadata": {},
          "execution_count": 8
        }
      ],
      "source": [
        "len(df.columns)"
      ]
    },
    {
      "cell_type": "markdown",
      "metadata": {
        "id": "eSI7GnDFV4tb"
      },
      "source": [
        "# Checking formissing values"
      ]
    },
    {
      "cell_type": "code",
      "execution_count": 9,
      "metadata": {
        "execution": {
          "iopub.execute_input": "2022-10-15T19:53:24.76895Z",
          "iopub.status.busy": "2022-10-15T19:53:24.767803Z",
          "iopub.status.idle": "2022-10-15T19:53:24.783309Z",
          "shell.execute_reply": "2022-10-15T19:53:24.78217Z",
          "shell.execute_reply.started": "2022-10-15T19:53:24.768866Z"
        },
        "colab": {
          "base_uri": "https://localhost:8080/"
        },
        "id": "gkVhorweV4tc",
        "outputId": "6cc2efae-34df-4d7d-9c0e-392c03dee9b5"
      },
      "outputs": [
        {
          "output_type": "execute_result",
          "data": {
            "text/plain": [
              "id                           0\n",
              "diagnosis                    0\n",
              "radius_mean                  0\n",
              "texture_mean                 0\n",
              "smoothness_mean              0\n",
              "compactness_mean             0\n",
              "concavity_mean               0\n",
              "concave points_mean          0\n",
              "symmetry_mean                0\n",
              "fractal_dimension_mean       0\n",
              "radius_se                    0\n",
              "texture_se                   0\n",
              "smoothness_se                0\n",
              "compactness_se               0\n",
              "concavity_se                 0\n",
              "concave points_se            0\n",
              "symmetry_se                  0\n",
              "fractal_dimension_se         0\n",
              "texture_worst                0\n",
              "smoothness_worst             0\n",
              "compactness_worst            0\n",
              "concavity_worst              0\n",
              "concave points_worst         0\n",
              "symmetry_worst               0\n",
              "fractal_dimension_worst      0\n",
              "Unnamed: 32                569\n",
              "dtype: int64"
            ]
          },
          "metadata": {},
          "execution_count": 9
        }
      ],
      "source": [
        "df.isnull().sum()"
      ]
    },
    {
      "cell_type": "markdown",
      "metadata": {
        "id": "sIZvVX8EV4tc"
      },
      "source": [
        "We don`t need \"Unnamed: 32\"  and id columns so we can drop them "
      ]
    },
    {
      "cell_type": "code",
      "execution_count": 10,
      "metadata": {
        "execution": {
          "iopub.execute_input": "2022-10-15T19:53:24.78568Z",
          "iopub.status.busy": "2022-10-15T19:53:24.784748Z",
          "iopub.status.idle": "2022-10-15T19:53:24.795338Z",
          "shell.execute_reply": "2022-10-15T19:53:24.794347Z",
          "shell.execute_reply.started": "2022-10-15T19:53:24.785641Z"
        },
        "id": "7c_sw34mV4tc"
      },
      "outputs": [],
      "source": [
        "#droping feature\n",
        "df.drop(['Unnamed: 32','id'],axis=1,inplace=True)"
      ]
    },
    {
      "cell_type": "code",
      "execution_count": 11,
      "metadata": {
        "execution": {
          "iopub.execute_input": "2022-10-15T19:53:24.797216Z",
          "iopub.status.busy": "2022-10-15T19:53:24.796904Z",
          "iopub.status.idle": "2022-10-15T19:53:24.810141Z",
          "shell.execute_reply": "2022-10-15T19:53:24.80869Z",
          "shell.execute_reply.started": "2022-10-15T19:53:24.797186Z"
        },
        "id": "9PXHA7ONV4tc"
      },
      "outputs": [],
      "source": [
        "# independent variables\n",
        "x = df.drop('diagnosis',axis=1)\n",
        "#dependent variables\n",
        "y = df.diagnosis"
      ]
    },
    {
      "cell_type": "markdown",
      "metadata": {
        "id": "3jAvFTvmV4td"
      },
      "source": [
        "# Encoding"
      ]
    },
    {
      "cell_type": "markdown",
      "metadata": {
        "id": "GRlgnKcNV4td"
      },
      "source": [
        "We will handle categorical values using LabelEncoder so we can use them in ANN"
      ]
    },
    {
      "cell_type": "code",
      "execution_count": 12,
      "metadata": {
        "execution": {
          "iopub.execute_input": "2022-10-15T19:53:24.812216Z",
          "iopub.status.busy": "2022-10-15T19:53:24.811582Z",
          "iopub.status.idle": "2022-10-15T19:53:24.823338Z",
          "shell.execute_reply": "2022-10-15T19:53:24.822154Z",
          "shell.execute_reply.started": "2022-10-15T19:53:24.81217Z"
        },
        "id": "de1MOdqMV4td"
      },
      "outputs": [],
      "source": [
        "from sklearn.preprocessing import LabelEncoder\n",
        "#creating the object\n",
        "lb = LabelEncoder()\n",
        "y = lb.fit_transform(y)"
      ]
    },
    {
      "cell_type": "markdown",
      "metadata": {
        "id": "DXq3R8NIV4td"
      },
      "source": [
        "# Splitting Data"
      ]
    },
    {
      "cell_type": "code",
      "execution_count": 13,
      "metadata": {
        "execution": {
          "iopub.execute_input": "2022-10-15T19:53:27.572644Z",
          "iopub.status.busy": "2022-10-15T19:53:27.572182Z",
          "iopub.status.idle": "2022-10-15T19:53:27.581114Z",
          "shell.execute_reply": "2022-10-15T19:53:27.579996Z",
          "shell.execute_reply.started": "2022-10-15T19:53:27.572599Z"
        },
        "id": "RvrVIykwV4td"
      },
      "outputs": [],
      "source": [
        "from sklearn.model_selection import train_test_split\n",
        "xtrain,xtest,ytrain,ytest = train_test_split(x,y,test_size=0.2,random_state=40)"
      ]
    },
    {
      "cell_type": "markdown",
      "metadata": {
        "id": "nroudE-CV4td"
      },
      "source": [
        "# Scaling the Data"
      ]
    },
    {
      "cell_type": "markdown",
      "metadata": {
        "id": "kTR_1_qPV4td"
      },
      "source": [
        "When we create the artificial neural network, then we have to scale the data into smaller numbers because the deep learning algorithm multiplies the weights and input data of the nodes and it takes lots of time, So for reducing that time we scale the data.\n",
        "\n",
        "We will scalling the data with StandardScaler"
      ]
    },
    {
      "cell_type": "code",
      "execution_count": 14,
      "metadata": {
        "execution": {
          "iopub.execute_input": "2022-10-15T19:53:27.583454Z",
          "iopub.status.busy": "2022-10-15T19:53:27.583123Z",
          "iopub.status.idle": "2022-10-15T19:53:27.598239Z",
          "shell.execute_reply": "2022-10-15T19:53:27.597072Z",
          "shell.execute_reply.started": "2022-10-15T19:53:27.583425Z"
        },
        "id": "_8pw0jOPV4te"
      },
      "outputs": [],
      "source": [
        "#importing StandardScaler\n",
        "from sklearn.preprocessing import StandardScaler\n",
        "#creating object\n",
        "sc = StandardScaler()\n",
        "xtrain = sc.fit_transform(xtrain)\n",
        "xtest = sc.transform(xtest)"
      ]
    },
    {
      "cell_type": "markdown",
      "metadata": {
        "id": "j3NnxCybV4te"
      },
      "source": [
        "### What are artificial neural networks?\n",
        "\n",
        "An artificial neuron network (ANN) is a computational model based on the structure and functions of biological neural networks. Information that flows through the network affects the structure of the ANN because a neural network changes - or learns, in a sense - based on that input and output. ANNs are considered nonlinear statistical data modeling tools where the complex relationships between inputs and outputs are modeled or patterns are found. ANN is also known as a neural network.\n",
        "\n",
        "A single neuron is known as a perceptron. It consists of a layer of inputs(corresponds to columns of a dataframe). Each input has a weight which controls the magnitude of an input. The summation of the products of these input values and weights is fed to the activation function. Activation functions are really important for a Artificial Neural Network to learn and make sense of something really complicated and Non-linear complex functional mappings between the inputs and response variable."
      ]
    },
    {
      "cell_type": "markdown",
      "metadata": {
        "id": "av7WHVExV4te"
      },
      "source": [
        "![ai-artificial-neural-network-alex-castrounis.png](attachment:ce2a1faa-aec3-49a3-9838-fb93ad3361dc.png)"
      ]
    },
    {
      "cell_type": "markdown",
      "metadata": {
        "id": "Fy6S98xCV4te"
      },
      "source": [
        "we will import Keras and its packages."
      ]
    },
    {
      "cell_type": "code",
      "execution_count": 15,
      "metadata": {
        "execution": {
          "iopub.execute_input": "2022-10-15T19:53:31.105044Z",
          "iopub.status.busy": "2022-10-15T19:53:31.104614Z",
          "iopub.status.idle": "2022-10-15T19:53:31.110884Z",
          "shell.execute_reply": "2022-10-15T19:53:31.10983Z",
          "shell.execute_reply.started": "2022-10-15T19:53:31.105009Z"
        },
        "id": "RZ2X_tD0V4te"
      },
      "outputs": [],
      "source": [
        "#importing keras\n",
        "import keras\n",
        "#importing sequential module\n",
        "from keras.models import Sequential\n",
        "# import dense module for hidden layers\n",
        "from keras.layers import Dense\n",
        "#importing activation functions\n",
        "from keras.layers import LeakyReLU,PReLU,ELU\n",
        "from keras.layers import Dropout"
      ]
    },
    {
      "cell_type": "markdown",
      "metadata": {
        "id": "CejeCJvhV4te"
      },
      "source": [
        "# Creating Layers\n",
        "After importing those libraries, we create the three types of layers:\n",
        "\n",
        "- Input layer\n",
        "- Hidden layer\n",
        "- Output layer"
      ]
    },
    {
      "cell_type": "code",
      "execution_count": 16,
      "metadata": {
        "id": "2JZwOGZ8V4te"
      },
      "outputs": [],
      "source": [
        "fun = [\"'relu'\",\"'sigmoid'\",\"'softmax'\"]"
      ]
    },
    {
      "cell_type": "code",
      "execution_count": 17,
      "metadata": {
        "id": "lT2vLSE9V4te"
      },
      "outputs": [],
      "source": [
        "#from tensorflow.keras.layers import BatchNormalization\n",
        "#CREATING THE ANN AS SEQUENCE OF LAYERS\n",
        "#ann =Sequential()\n",
        "\n",
        "#for i in fun:\n",
        "  #  print(ann.add(Dense(units = 30,activation = i)))\n",
        "  #  ann.add(BatchNormalization())\n",
        "  #  ann.add(Dropout(0.5))"
      ]
    },
    {
      "cell_type": "code",
      "execution_count": 18,
      "metadata": {
        "id": "MuTs0iPIV4tf"
      },
      "outputs": [],
      "source": [
        "#for i in fun:\n",
        " #   print(i)"
      ]
    },
    {
      "cell_type": "markdown",
      "metadata": {
        "id": "ydFdQWzrV4tf"
      },
      "source": [
        "# 1.RELU"
      ]
    },
    {
      "cell_type": "code",
      "execution_count": 19,
      "metadata": {
        "execution": {
          "iopub.execute_input": "2022-10-15T19:53:31.11994Z",
          "iopub.status.busy": "2022-10-15T19:53:31.118747Z",
          "iopub.status.idle": "2022-10-15T19:53:31.14121Z",
          "shell.execute_reply": "2022-10-15T19:53:31.140017Z",
          "shell.execute_reply.started": "2022-10-15T19:53:31.119851Z"
        },
        "id": "oILi9vl4V4tf"
      },
      "outputs": [],
      "source": [
        "from tensorflow.keras.layers import BatchNormalization\n",
        "#CREATING THE ANN AS SEQUENCE OF LAYERS\n",
        "ann =Sequential()\n",
        "\n",
        "#ADDING FIRST HIDDEN LAYER WITH 30 NEURONS, THE INPUT LAYER WILL BE ADDED AUTOMATICALLY,\n",
        "ann.add(Dense(units = 30,activation = 'relu'))\n",
        "ann.add(BatchNormalization())\n",
        "ann.add(Dropout(0.5))\n",
        "\n",
        "\n",
        "\n",
        "#ADDING OUTPUT LAYER WITH 1 NEURON , AS THIS IS A BINARY CLASSIFICATION\n",
        "ann.add(Dense(units = 1,activation = 'sigmoid'))"
      ]
    },
    {
      "cell_type": "markdown",
      "metadata": {
        "id": "s9EAb702V4tf"
      },
      "source": [
        "# Compiling and Fitting"
      ]
    },
    {
      "cell_type": "markdown",
      "metadata": {
        "id": "hU1nWaoQV4tf"
      },
      "source": [
        "Optimizer is chosen as adam for gradient descent.\n",
        "\n",
        "Binary_crossentropy is the loss function used.\n",
        "\n",
        "We use sigmoid function in output layer\n",
        "\n",
        "Sigmoid function is used when dealing with classfication problems with 2 types of results.(Submax function is used for 3 or more classification results)\n"
      ]
    },
    {
      "cell_type": "markdown",
      "metadata": {
        "id": "fTU06G8MV4tf"
      },
      "source": [
        "![download.png](attachment:4369040a-b9e8-4c46-9f2d-d527a3bad265.png)"
      ]
    },
    {
      "cell_type": "code",
      "execution_count": 20,
      "metadata": {
        "execution": {
          "iopub.execute_input": "2022-10-15T19:53:31.144852Z",
          "iopub.status.busy": "2022-10-15T19:53:31.144155Z",
          "iopub.status.idle": "2022-10-15T19:53:40.607133Z",
          "shell.execute_reply": "2022-10-15T19:53:40.605419Z",
          "shell.execute_reply.started": "2022-10-15T19:53:31.144812Z"
        },
        "scrolled": false,
        "colab": {
          "base_uri": "https://localhost:8080/"
        },
        "id": "niyKmWZ3V4tf",
        "outputId": "fbfce6a9-f311-4dc5-9f54-4d21daca89f8"
      },
      "outputs": [
        {
          "output_type": "stream",
          "name": "stdout",
          "text": [
            "Epoch 1/100\n",
            "15/15 [==============================] - 2s 23ms/step - loss: 0.6964 - accuracy: 0.6813 - val_loss: 0.6459 - val_accuracy: 0.5614\n",
            "Epoch 2/100\n",
            "15/15 [==============================] - 0s 6ms/step - loss: 0.5170 - accuracy: 0.7670 - val_loss: 0.5275 - val_accuracy: 0.7807\n",
            "Epoch 3/100\n",
            "15/15 [==============================] - 0s 5ms/step - loss: 0.4347 - accuracy: 0.8176 - val_loss: 0.4363 - val_accuracy: 0.8684\n",
            "Epoch 4/100\n",
            "15/15 [==============================] - 0s 5ms/step - loss: 0.3477 - accuracy: 0.8571 - val_loss: 0.3664 - val_accuracy: 0.9123\n",
            "Epoch 5/100\n",
            "15/15 [==============================] - 0s 5ms/step - loss: 0.3311 - accuracy: 0.8703 - val_loss: 0.3217 - val_accuracy: 0.9298\n",
            "Epoch 6/100\n",
            "15/15 [==============================] - 0s 5ms/step - loss: 0.2870 - accuracy: 0.8967 - val_loss: 0.2818 - val_accuracy: 0.9474\n",
            "Epoch 7/100\n",
            "15/15 [==============================] - 0s 4ms/step - loss: 0.2880 - accuracy: 0.8923 - val_loss: 0.2456 - val_accuracy: 0.9561\n",
            "Epoch 8/100\n",
            "15/15 [==============================] - 0s 5ms/step - loss: 0.2391 - accuracy: 0.9143 - val_loss: 0.2174 - val_accuracy: 0.9649\n",
            "Epoch 9/100\n",
            "15/15 [==============================] - 0s 6ms/step - loss: 0.2476 - accuracy: 0.9099 - val_loss: 0.1929 - val_accuracy: 0.9649\n",
            "Epoch 10/100\n",
            "15/15 [==============================] - 0s 5ms/step - loss: 0.2110 - accuracy: 0.9187 - val_loss: 0.1741 - val_accuracy: 0.9649\n",
            "Epoch 11/100\n",
            "15/15 [==============================] - 0s 6ms/step - loss: 0.2019 - accuracy: 0.9451 - val_loss: 0.1595 - val_accuracy: 0.9737\n",
            "Epoch 12/100\n",
            "15/15 [==============================] - 0s 5ms/step - loss: 0.2167 - accuracy: 0.9319 - val_loss: 0.1491 - val_accuracy: 0.9825\n",
            "Epoch 13/100\n",
            "15/15 [==============================] - 0s 6ms/step - loss: 0.1664 - accuracy: 0.9429 - val_loss: 0.1386 - val_accuracy: 0.9825\n",
            "Epoch 14/100\n",
            "15/15 [==============================] - 0s 6ms/step - loss: 0.1843 - accuracy: 0.9297 - val_loss: 0.1303 - val_accuracy: 0.9737\n",
            "Epoch 15/100\n",
            "15/15 [==============================] - 0s 5ms/step - loss: 0.1509 - accuracy: 0.9560 - val_loss: 0.1220 - val_accuracy: 0.9737\n",
            "Epoch 16/100\n",
            "15/15 [==============================] - 0s 5ms/step - loss: 0.1651 - accuracy: 0.9473 - val_loss: 0.1160 - val_accuracy: 0.9737\n",
            "Epoch 17/100\n",
            "15/15 [==============================] - 0s 4ms/step - loss: 0.1539 - accuracy: 0.9429 - val_loss: 0.1152 - val_accuracy: 0.9737\n",
            "Epoch 18/100\n",
            "15/15 [==============================] - 0s 5ms/step - loss: 0.1287 - accuracy: 0.9626 - val_loss: 0.1106 - val_accuracy: 0.9737\n",
            "Epoch 19/100\n",
            "15/15 [==============================] - 0s 6ms/step - loss: 0.1453 - accuracy: 0.9495 - val_loss: 0.1062 - val_accuracy: 0.9737\n",
            "Epoch 20/100\n",
            "15/15 [==============================] - 0s 5ms/step - loss: 0.1394 - accuracy: 0.9473 - val_loss: 0.1058 - val_accuracy: 0.9737\n",
            "Epoch 21/100\n",
            "15/15 [==============================] - 0s 5ms/step - loss: 0.1243 - accuracy: 0.9626 - val_loss: 0.1034 - val_accuracy: 0.9737\n",
            "Epoch 22/100\n",
            "15/15 [==============================] - 0s 7ms/step - loss: 0.1278 - accuracy: 0.9626 - val_loss: 0.1003 - val_accuracy: 0.9737\n",
            "Epoch 23/100\n",
            "15/15 [==============================] - 0s 5ms/step - loss: 0.1343 - accuracy: 0.9538 - val_loss: 0.0987 - val_accuracy: 0.9737\n",
            "Epoch 24/100\n",
            "15/15 [==============================] - 0s 6ms/step - loss: 0.1279 - accuracy: 0.9538 - val_loss: 0.0966 - val_accuracy: 0.9737\n",
            "Epoch 25/100\n",
            "15/15 [==============================] - 0s 6ms/step - loss: 0.0892 - accuracy: 0.9780 - val_loss: 0.0951 - val_accuracy: 0.9737\n",
            "Epoch 26/100\n",
            "15/15 [==============================] - 0s 4ms/step - loss: 0.1192 - accuracy: 0.9604 - val_loss: 0.0935 - val_accuracy: 0.9737\n",
            "Epoch 27/100\n",
            "15/15 [==============================] - 0s 4ms/step - loss: 0.1346 - accuracy: 0.9495 - val_loss: 0.0938 - val_accuracy: 0.9649\n",
            "Epoch 28/100\n",
            "15/15 [==============================] - 0s 5ms/step - loss: 0.1155 - accuracy: 0.9604 - val_loss: 0.0929 - val_accuracy: 0.9649\n",
            "Epoch 29/100\n",
            "15/15 [==============================] - 0s 5ms/step - loss: 0.1263 - accuracy: 0.9560 - val_loss: 0.0958 - val_accuracy: 0.9649\n",
            "Epoch 30/100\n",
            "15/15 [==============================] - 0s 5ms/step - loss: 0.1074 - accuracy: 0.9604 - val_loss: 0.0967 - val_accuracy: 0.9737\n",
            "Epoch 31/100\n",
            "15/15 [==============================] - 0s 5ms/step - loss: 0.0971 - accuracy: 0.9692 - val_loss: 0.0939 - val_accuracy: 0.9737\n",
            "Epoch 32/100\n",
            "15/15 [==============================] - 0s 9ms/step - loss: 0.1109 - accuracy: 0.9648 - val_loss: 0.0935 - val_accuracy: 0.9649\n",
            "Epoch 33/100\n",
            "15/15 [==============================] - 0s 6ms/step - loss: 0.1091 - accuracy: 0.9582 - val_loss: 0.0910 - val_accuracy: 0.9737\n",
            "Epoch 34/100\n",
            "15/15 [==============================] - 0s 5ms/step - loss: 0.1051 - accuracy: 0.9692 - val_loss: 0.0902 - val_accuracy: 0.9649\n",
            "Epoch 35/100\n",
            "15/15 [==============================] - 0s 9ms/step - loss: 0.1006 - accuracy: 0.9604 - val_loss: 0.0902 - val_accuracy: 0.9649\n",
            "Epoch 36/100\n",
            "15/15 [==============================] - 0s 5ms/step - loss: 0.1145 - accuracy: 0.9670 - val_loss: 0.0923 - val_accuracy: 0.9737\n",
            "Epoch 37/100\n",
            "15/15 [==============================] - 0s 5ms/step - loss: 0.1043 - accuracy: 0.9516 - val_loss: 0.0918 - val_accuracy: 0.9737\n",
            "Epoch 38/100\n",
            "15/15 [==============================] - 0s 5ms/step - loss: 0.1006 - accuracy: 0.9560 - val_loss: 0.0893 - val_accuracy: 0.9737\n",
            "Epoch 39/100\n",
            "15/15 [==============================] - 0s 5ms/step - loss: 0.0929 - accuracy: 0.9692 - val_loss: 0.0869 - val_accuracy: 0.9737\n",
            "Epoch 40/100\n",
            "15/15 [==============================] - 0s 5ms/step - loss: 0.1038 - accuracy: 0.9604 - val_loss: 0.0873 - val_accuracy: 0.9737\n",
            "Epoch 41/100\n",
            "15/15 [==============================] - 0s 6ms/step - loss: 0.1178 - accuracy: 0.9516 - val_loss: 0.0884 - val_accuracy: 0.9737\n",
            "Epoch 42/100\n",
            "15/15 [==============================] - 0s 7ms/step - loss: 0.1178 - accuracy: 0.9560 - val_loss: 0.0896 - val_accuracy: 0.9737\n",
            "Epoch 43/100\n",
            "15/15 [==============================] - 0s 5ms/step - loss: 0.0880 - accuracy: 0.9692 - val_loss: 0.0903 - val_accuracy: 0.9737\n",
            "Epoch 44/100\n",
            "15/15 [==============================] - 0s 7ms/step - loss: 0.0997 - accuracy: 0.9648 - val_loss: 0.0906 - val_accuracy: 0.9737\n",
            "Epoch 45/100\n",
            "15/15 [==============================] - 0s 8ms/step - loss: 0.0987 - accuracy: 0.9692 - val_loss: 0.0881 - val_accuracy: 0.9737\n",
            "Epoch 46/100\n",
            "15/15 [==============================] - 0s 5ms/step - loss: 0.0829 - accuracy: 0.9802 - val_loss: 0.0859 - val_accuracy: 0.9737\n",
            "Epoch 47/100\n",
            "15/15 [==============================] - 0s 6ms/step - loss: 0.0791 - accuracy: 0.9714 - val_loss: 0.0859 - val_accuracy: 0.9737\n",
            "Epoch 48/100\n",
            "15/15 [==============================] - 0s 6ms/step - loss: 0.0911 - accuracy: 0.9648 - val_loss: 0.0859 - val_accuracy: 0.9737\n",
            "Epoch 49/100\n",
            "15/15 [==============================] - 0s 8ms/step - loss: 0.0729 - accuracy: 0.9846 - val_loss: 0.0835 - val_accuracy: 0.9737\n",
            "Epoch 50/100\n",
            "15/15 [==============================] - 0s 6ms/step - loss: 0.0698 - accuracy: 0.9758 - val_loss: 0.0849 - val_accuracy: 0.9737\n",
            "Epoch 51/100\n",
            "15/15 [==============================] - 0s 6ms/step - loss: 0.0847 - accuracy: 0.9670 - val_loss: 0.0892 - val_accuracy: 0.9737\n",
            "Epoch 52/100\n",
            "15/15 [==============================] - 0s 6ms/step - loss: 0.0885 - accuracy: 0.9670 - val_loss: 0.0892 - val_accuracy: 0.9737\n",
            "Epoch 53/100\n",
            "15/15 [==============================] - 0s 5ms/step - loss: 0.1116 - accuracy: 0.9560 - val_loss: 0.0880 - val_accuracy: 0.9737\n",
            "Epoch 54/100\n",
            "15/15 [==============================] - 0s 6ms/step - loss: 0.0680 - accuracy: 0.9802 - val_loss: 0.0881 - val_accuracy: 0.9737\n",
            "Epoch 55/100\n",
            "15/15 [==============================] - 0s 6ms/step - loss: 0.0798 - accuracy: 0.9736 - val_loss: 0.0860 - val_accuracy: 0.9737\n",
            "Epoch 56/100\n",
            "15/15 [==============================] - 0s 5ms/step - loss: 0.0719 - accuracy: 0.9736 - val_loss: 0.0861 - val_accuracy: 0.9737\n",
            "Epoch 57/100\n",
            "15/15 [==============================] - 0s 6ms/step - loss: 0.0790 - accuracy: 0.9758 - val_loss: 0.0875 - val_accuracy: 0.9737\n",
            "Epoch 58/100\n",
            "15/15 [==============================] - 0s 5ms/step - loss: 0.0701 - accuracy: 0.9780 - val_loss: 0.0903 - val_accuracy: 0.9737\n",
            "Epoch 59/100\n",
            "15/15 [==============================] - 0s 6ms/step - loss: 0.0975 - accuracy: 0.9714 - val_loss: 0.0909 - val_accuracy: 0.9737\n",
            "Epoch 60/100\n",
            "15/15 [==============================] - 0s 5ms/step - loss: 0.0854 - accuracy: 0.9670 - val_loss: 0.0917 - val_accuracy: 0.9737\n",
            "Epoch 61/100\n",
            "15/15 [==============================] - 0s 6ms/step - loss: 0.0929 - accuracy: 0.9648 - val_loss: 0.0935 - val_accuracy: 0.9737\n",
            "Epoch 62/100\n",
            "15/15 [==============================] - 0s 5ms/step - loss: 0.0966 - accuracy: 0.9692 - val_loss: 0.0920 - val_accuracy: 0.9737\n",
            "Epoch 63/100\n",
            "15/15 [==============================] - 0s 5ms/step - loss: 0.0697 - accuracy: 0.9780 - val_loss: 0.0895 - val_accuracy: 0.9737\n",
            "Epoch 64/100\n",
            "15/15 [==============================] - 0s 4ms/step - loss: 0.1029 - accuracy: 0.9626 - val_loss: 0.0886 - val_accuracy: 0.9737\n",
            "Epoch 65/100\n",
            "15/15 [==============================] - 0s 6ms/step - loss: 0.0742 - accuracy: 0.9736 - val_loss: 0.0900 - val_accuracy: 0.9737\n",
            "Epoch 66/100\n",
            "15/15 [==============================] - 0s 5ms/step - loss: 0.0730 - accuracy: 0.9758 - val_loss: 0.0890 - val_accuracy: 0.9737\n",
            "Epoch 67/100\n",
            "15/15 [==============================] - 0s 5ms/step - loss: 0.0954 - accuracy: 0.9758 - val_loss: 0.0853 - val_accuracy: 0.9737\n",
            "Epoch 68/100\n",
            "15/15 [==============================] - 0s 6ms/step - loss: 0.0831 - accuracy: 0.9670 - val_loss: 0.0849 - val_accuracy: 0.9737\n",
            "Epoch 69/100\n",
            "15/15 [==============================] - 0s 5ms/step - loss: 0.0550 - accuracy: 0.9824 - val_loss: 0.0880 - val_accuracy: 0.9737\n",
            "Epoch 70/100\n",
            "15/15 [==============================] - 0s 5ms/step - loss: 0.0926 - accuracy: 0.9626 - val_loss: 0.0907 - val_accuracy: 0.9737\n",
            "Epoch 71/100\n",
            "15/15 [==============================] - 0s 4ms/step - loss: 0.0743 - accuracy: 0.9758 - val_loss: 0.0904 - val_accuracy: 0.9737\n",
            "Epoch 72/100\n",
            "15/15 [==============================] - 0s 4ms/step - loss: 0.1077 - accuracy: 0.9626 - val_loss: 0.0913 - val_accuracy: 0.9737\n",
            "Epoch 73/100\n",
            "15/15 [==============================] - 0s 5ms/step - loss: 0.0781 - accuracy: 0.9648 - val_loss: 0.0950 - val_accuracy: 0.9737\n",
            "Epoch 74/100\n",
            "15/15 [==============================] - 0s 5ms/step - loss: 0.0930 - accuracy: 0.9670 - val_loss: 0.0956 - val_accuracy: 0.9737\n",
            "Epoch 74: early stopping\n"
          ]
        }
      ],
      "source": [
        "#COMPILING THE ANN USING STOCHASTIC GRADIENT DESCENT (optimizer = 'adam')\n",
        "ann.compile(optimizer = 'adam', loss = 'binary_crossentropy', metrics = ['accuracy'])\n",
        "\n",
        "#setting callbacks for monitoring maximum accuracy\n",
        "from tensorflow.keras.callbacks import EarlyStopping\n",
        "early_stop = EarlyStopping(monitor='val_loss', mode='min', verbose=1, patience=25)\n",
        "\n",
        "#TRAINING THE ANN WITH BATCH SIZE OF 32 (THIS IS A BATCH LEARNING)\n",
        "model=ann.fit(xtrain, ytrain,batch_size = 32, validation_data=(xtest, ytest),epochs =100,callbacks = [early_stop])"
      ]
    },
    {
      "cell_type": "markdown",
      "metadata": {
        "id": "UaWLgStkV4tf"
      },
      "source": [
        "Let us see summary of our model"
      ]
    },
    {
      "cell_type": "code",
      "execution_count": 21,
      "metadata": {
        "execution": {
          "iopub.execute_input": "2022-10-15T19:53:40.609439Z",
          "iopub.status.busy": "2022-10-15T19:53:40.60908Z",
          "iopub.status.idle": "2022-10-15T19:53:40.616528Z",
          "shell.execute_reply": "2022-10-15T19:53:40.615464Z",
          "shell.execute_reply.started": "2022-10-15T19:53:40.609406Z"
        },
        "colab": {
          "base_uri": "https://localhost:8080/"
        },
        "id": "9wskYOXPV4tg",
        "outputId": "757717c3-5cfd-44c9-941a-e14ecc37e4d3"
      },
      "outputs": [
        {
          "output_type": "stream",
          "name": "stdout",
          "text": [
            "Model: \"sequential\"\n",
            "_________________________________________________________________\n",
            " Layer (type)                Output Shape              Param #   \n",
            "=================================================================\n",
            " dense (Dense)               (None, 30)                720       \n",
            "                                                                 \n",
            " batch_normalization (BatchN  (None, 30)               120       \n",
            " ormalization)                                                   \n",
            "                                                                 \n",
            " dropout (Dropout)           (None, 30)                0         \n",
            "                                                                 \n",
            " dense_1 (Dense)             (None, 1)                 31        \n",
            "                                                                 \n",
            "=================================================================\n",
            "Total params: 871\n",
            "Trainable params: 811\n",
            "Non-trainable params: 60\n",
            "_________________________________________________________________\n"
          ]
        }
      ],
      "source": [
        "#taking summary of layers\n",
        "ann.summary()"
      ]
    },
    {
      "cell_type": "code",
      "execution_count": 22,
      "metadata": {
        "execution": {
          "iopub.execute_input": "2022-10-15T19:53:40.619585Z",
          "iopub.status.busy": "2022-10-15T19:53:40.618584Z",
          "iopub.status.idle": "2022-10-15T19:53:40.912783Z",
          "shell.execute_reply": "2022-10-15T19:53:40.9112Z",
          "shell.execute_reply.started": "2022-10-15T19:53:40.619547Z"
        },
        "colab": {
          "base_uri": "https://localhost:8080/",
          "height": 298
        },
        "id": "_zGQOwaXV4tg",
        "outputId": "859e3988-0654-447b-e208-5d7d1d96ea67"
      },
      "outputs": [
        {
          "output_type": "execute_result",
          "data": {
            "text/plain": [
              "Text(0.5, 1.0, 'model accuracy')"
            ]
          },
          "metadata": {},
          "execution_count": 22
        },
        {
          "output_type": "display_data",
          "data": {
            "text/plain": [
              "<Figure size 432x288 with 1 Axes>"
            ],
            "image/png": "[encoded data removed]"
          },
          "metadata": {
            "needs_background": "light"
          }
        }
      ],
      "source": [
        "losses = pd.DataFrame(ann.history.history)\n",
        "losses.plot()\n",
        "plt.title('model accuracy')"
      ]
    },
    {
      "cell_type": "code",
      "execution_count": 23,
      "metadata": {
        "execution": {
          "iopub.execute_input": "2022-10-15T19:53:40.915059Z",
          "iopub.status.busy": "2022-10-15T19:53:40.914523Z",
          "iopub.status.idle": "2022-10-15T19:53:41.071262Z",
          "shell.execute_reply": "2022-10-15T19:53:41.069975Z",
          "shell.execute_reply.started": "2022-10-15T19:53:40.915023Z"
        },
        "colab": {
          "base_uri": "https://localhost:8080/"
        },
        "id": "pqoU4NypV4tg",
        "outputId": "46abdd3f-8abf-4afb-b0fe-baf671e854bf"
      },
      "outputs": [
        {
          "output_type": "stream",
          "name": "stdout",
          "text": [
            "4/4 [==============================] - 0s 3ms/step\n"
          ]
        }
      ],
      "source": [
        "#now testing for Test data\n",
        "y_pred = ann.predict(xtest)\n",
        "#converting values\n",
        "y_pred = (y_pred>0.5)"
      ]
    },
    {
      "cell_type": "code",
      "execution_count": 24,
      "metadata": {
        "execution": {
          "iopub.execute_input": "2022-10-15T19:53:41.07349Z",
          "iopub.status.busy": "2022-10-15T19:53:41.072657Z",
          "iopub.status.idle": "2022-10-15T19:53:41.082729Z",
          "shell.execute_reply": "2022-10-15T19:53:41.081367Z",
          "shell.execute_reply.started": "2022-10-15T19:53:41.073448Z"
        },
        "colab": {
          "base_uri": "https://localhost:8080/"
        },
        "id": "Om6E17grV4tg",
        "outputId": "35cb4309-4299-44e8-f479-7ec26f2d6ab8"
      },
      "outputs": [
        {
          "output_type": "stream",
          "name": "stdout",
          "text": [
            "[[75  0]\n",
            " [ 3 36]]\n",
            "score is: 0.9736842105263158\n"
          ]
        }
      ],
      "source": [
        "from sklearn.metrics import confusion_matrix\n",
        "from sklearn.metrics import accuracy_score\n",
        "cm = confusion_matrix(ytest,y_pred)\n",
        "score1 = accuracy_score(ytest,y_pred)\n",
        "print(cm)\n",
        "print('score is:',score1)"
      ]
    },
    {
      "cell_type": "code",
      "execution_count": 25,
      "metadata": {
        "execution": {
          "iopub.execute_input": "2022-10-15T19:53:41.084728Z",
          "iopub.status.busy": "2022-10-15T19:53:41.084374Z",
          "iopub.status.idle": "2022-10-15T19:53:41.099645Z",
          "shell.execute_reply": "2022-10-15T19:53:41.09828Z",
          "shell.execute_reply.started": "2022-10-15T19:53:41.084673Z"
        },
        "colab": {
          "base_uri": "https://localhost:8080/"
        },
        "id": "7pvYCCmhV4tg",
        "outputId": "847030a9-8caa-42a1-c124-dfb3d2b151bf"
      },
      "outputs": [
        {
          "output_type": "stream",
          "name": "stdout",
          "text": [
            "              precision    recall  f1-score   support\n",
            "\n",
            "           0       0.96      1.00      0.98        75\n",
            "           1       1.00      0.92      0.96        39\n",
            "\n",
            "    accuracy                           0.97       114\n",
            "   macro avg       0.98      0.96      0.97       114\n",
            "weighted avg       0.97      0.97      0.97       114\n",
            "\n"
          ]
        }
      ],
      "source": [
        "from sklearn.metrics import classification_report,confusion_matrix\n",
        "print(classification_report(ytest,y_pred))"
      ]
    },
    {
      "cell_type": "code",
      "execution_count": 26,
      "metadata": {
        "execution": {
          "iopub.execute_input": "2022-10-15T19:53:41.102054Z",
          "iopub.status.busy": "2022-10-15T19:53:41.101491Z",
          "iopub.status.idle": "2022-10-15T19:53:41.369311Z",
          "shell.execute_reply": "2022-10-15T19:53:41.368006Z",
          "shell.execute_reply.started": "2022-10-15T19:53:41.102016Z"
        },
        "colab": {
          "base_uri": "https://localhost:8080/",
          "height": 428
        },
        "id": "gAyNrM0-V4tg",
        "outputId": "a8c73a8f-fea5-48a1-afec-dc60364a0114"
      },
      "outputs": [
        {
          "output_type": "display_data",
          "data": {
            "text/plain": [
              "<Figure size 1008x504 with 2 Axes>"
            ],
            "image/png": "[encoded data removed]"
          },
          "metadata": {
            "needs_background": "light"
          }
        }
      ],
      "source": [
        "# creating heatmap of comfussion matrix\n",
        "plt.figure(figsize=[14,7])\n",
        "sns.heatmap(cm,annot=True)\n",
        "plt.show()"
      ]
    },
    {
      "cell_type": "markdown",
      "metadata": {
        "id": "1wfU86vtV4tg"
      },
      "source": [
        "# 2.Sigmoid"
      ]
    },
    {
      "cell_type": "code",
      "execution_count": 27,
      "metadata": {
        "id": "WTCaplVlV4th"
      },
      "outputs": [],
      "source": [
        "from tensorflow.keras.layers import BatchNormalization\n",
        "#CREATING THE ANN AS SEQUENCE OF LAYERS\n",
        "ann =Sequential()\n",
        "\n",
        "#ADDING FIRST HIDDEN LAYER WITH 30 NEURONS, THE INPUT LAYER WILL BE ADDED AUTOMATICALLY,\n",
        "ann.add(Dense(units = 30,activation = 'sigmoid'))\n",
        "ann.add(BatchNormalization())\n",
        "ann.add(Dropout(0.5))\n",
        "\n",
        "\n",
        "\n",
        "#ADDING OUTPUT LAYER WITH 1 NEURON , AS THIS IS A BINARY CLASSIFICATION\n",
        "ann.add(Dense(units = 1,activation = 'sigmoid'))"
      ]
    },
    {
      "cell_type": "code",
      "execution_count": 28,
      "metadata": {
        "colab": {
          "base_uri": "https://localhost:8080/"
        },
        "id": "VsYSXoysV4th",
        "outputId": "b38d0844-8aaa-4b22-d273-a466fab297f8"
      },
      "outputs": [
        {
          "output_type": "stream",
          "name": "stdout",
          "text": [
            "Epoch 1/100\n",
            "15/15 [==============================] - 1s 20ms/step - loss: 0.7331 - accuracy: 0.6330 - val_loss: 0.5949 - val_accuracy: 0.8596\n",
            "Epoch 2/100\n",
            "15/15 [==============================] - 0s 6ms/step - loss: 0.4659 - accuracy: 0.7846 - val_loss: 0.5265 - val_accuracy: 0.9035\n",
            "Epoch 3/100\n",
            "15/15 [==============================] - 0s 5ms/step - loss: 0.4126 - accuracy: 0.8352 - val_loss: 0.4703 - val_accuracy: 0.9211\n",
            "Epoch 4/100\n",
            "15/15 [==============================] - 0s 5ms/step - loss: 0.2795 - accuracy: 0.8747 - val_loss: 0.4267 - val_accuracy: 0.9386\n",
            "Epoch 5/100\n",
            "15/15 [==============================] - 0s 6ms/step - loss: 0.2799 - accuracy: 0.8769 - val_loss: 0.3881 - val_accuracy: 0.9474\n",
            "Epoch 6/100\n",
            "15/15 [==============================] - 0s 5ms/step - loss: 0.2478 - accuracy: 0.8967 - val_loss: 0.3511 - val_accuracy: 0.9474\n",
            "Epoch 7/100\n",
            "15/15 [==============================] - 0s 7ms/step - loss: 0.2458 - accuracy: 0.8923 - val_loss: 0.3196 - val_accuracy: 0.9561\n",
            "Epoch 8/100\n",
            "15/15 [==============================] - 0s 5ms/step - loss: 0.2076 - accuracy: 0.9275 - val_loss: 0.2933 - val_accuracy: 0.9561\n",
            "Epoch 9/100\n",
            "15/15 [==============================] - 0s 6ms/step - loss: 0.2146 - accuracy: 0.9297 - val_loss: 0.2674 - val_accuracy: 0.9649\n",
            "Epoch 10/100\n",
            "15/15 [==============================] - 0s 5ms/step - loss: 0.1823 - accuracy: 0.9297 - val_loss: 0.2451 - val_accuracy: 0.9737\n",
            "Epoch 11/100\n",
            "15/15 [==============================] - 0s 6ms/step - loss: 0.1807 - accuracy: 0.9253 - val_loss: 0.2241 - val_accuracy: 0.9737\n",
            "Epoch 12/100\n",
            "15/15 [==============================] - 0s 6ms/step - loss: 0.1930 - accuracy: 0.9319 - val_loss: 0.2074 - val_accuracy: 0.9737\n",
            "Epoch 13/100\n",
            "15/15 [==============================] - 0s 7ms/step - loss: 0.1772 - accuracy: 0.9253 - val_loss: 0.1889 - val_accuracy: 0.9737\n",
            "Epoch 14/100\n",
            "15/15 [==============================] - 0s 5ms/step - loss: 0.1895 - accuracy: 0.9253 - val_loss: 0.1740 - val_accuracy: 0.9737\n",
            "Epoch 15/100\n",
            "15/15 [==============================] - 0s 4ms/step - loss: 0.2015 - accuracy: 0.9165 - val_loss: 0.1614 - val_accuracy: 0.9649\n",
            "Epoch 16/100\n",
            "15/15 [==============================] - 0s 5ms/step - loss: 0.2136 - accuracy: 0.9121 - val_loss: 0.1507 - val_accuracy: 0.9737\n",
            "Epoch 17/100\n",
            "15/15 [==============================] - 0s 6ms/step - loss: 0.1817 - accuracy: 0.9363 - val_loss: 0.1427 - val_accuracy: 0.9737\n",
            "Epoch 18/100\n",
            "15/15 [==============================] - 0s 5ms/step - loss: 0.1460 - accuracy: 0.9473 - val_loss: 0.1348 - val_accuracy: 0.9737\n",
            "Epoch 19/100\n",
            "15/15 [==============================] - 0s 6ms/step - loss: 0.1597 - accuracy: 0.9407 - val_loss: 0.1291 - val_accuracy: 0.9737\n",
            "Epoch 20/100\n",
            "15/15 [==============================] - 0s 5ms/step - loss: 0.1617 - accuracy: 0.9363 - val_loss: 0.1255 - val_accuracy: 0.9737\n",
            "Epoch 21/100\n",
            "15/15 [==============================] - 0s 5ms/step - loss: 0.1223 - accuracy: 0.9604 - val_loss: 0.1191 - val_accuracy: 0.9737\n",
            "Epoch 22/100\n",
            "15/15 [==============================] - 0s 5ms/step - loss: 0.1610 - accuracy: 0.9363 - val_loss: 0.1135 - val_accuracy: 0.9737\n",
            "Epoch 23/100\n",
            "15/15 [==============================] - 0s 7ms/step - loss: 0.1636 - accuracy: 0.9253 - val_loss: 0.1114 - val_accuracy: 0.9737\n",
            "Epoch 24/100\n",
            "15/15 [==============================] - 0s 5ms/step - loss: 0.1416 - accuracy: 0.9363 - val_loss: 0.1120 - val_accuracy: 0.9737\n",
            "Epoch 25/100\n",
            "15/15 [==============================] - 0s 5ms/step - loss: 0.1317 - accuracy: 0.9341 - val_loss: 0.1083 - val_accuracy: 0.9737\n",
            "Epoch 26/100\n",
            "15/15 [==============================] - 0s 7ms/step - loss: 0.1223 - accuracy: 0.9604 - val_loss: 0.1067 - val_accuracy: 0.9737\n",
            "Epoch 27/100\n",
            "15/15 [==============================] - 0s 5ms/step - loss: 0.1264 - accuracy: 0.9604 - val_loss: 0.1030 - val_accuracy: 0.9737\n",
            "Epoch 28/100\n",
            "15/15 [==============================] - 0s 4ms/step - loss: 0.1248 - accuracy: 0.9495 - val_loss: 0.0992 - val_accuracy: 0.9737\n",
            "Epoch 29/100\n",
            "15/15 [==============================] - 0s 6ms/step - loss: 0.1590 - accuracy: 0.9429 - val_loss: 0.0989 - val_accuracy: 0.9737\n",
            "Epoch 30/100\n",
            "15/15 [==============================] - 0s 6ms/step - loss: 0.1286 - accuracy: 0.9516 - val_loss: 0.0977 - val_accuracy: 0.9737\n",
            "Epoch 31/100\n",
            "15/15 [==============================] - 0s 5ms/step - loss: 0.1532 - accuracy: 0.9429 - val_loss: 0.0977 - val_accuracy: 0.9737\n",
            "Epoch 32/100\n",
            "15/15 [==============================] - 0s 5ms/step - loss: 0.1327 - accuracy: 0.9451 - val_loss: 0.0971 - val_accuracy: 0.9737\n",
            "Epoch 33/100\n",
            "15/15 [==============================] - 0s 4ms/step - loss: 0.1222 - accuracy: 0.9604 - val_loss: 0.0969 - val_accuracy: 0.9737\n",
            "Epoch 34/100\n",
            "15/15 [==============================] - 0s 5ms/step - loss: 0.1446 - accuracy: 0.9495 - val_loss: 0.0964 - val_accuracy: 0.9737\n",
            "Epoch 35/100\n",
            "15/15 [==============================] - 0s 5ms/step - loss: 0.1041 - accuracy: 0.9604 - val_loss: 0.0979 - val_accuracy: 0.9737\n",
            "Epoch 36/100\n",
            "15/15 [==============================] - 0s 6ms/step - loss: 0.1172 - accuracy: 0.9495 - val_loss: 0.0961 - val_accuracy: 0.9737\n",
            "Epoch 37/100\n",
            "15/15 [==============================] - 0s 5ms/step - loss: 0.1326 - accuracy: 0.9626 - val_loss: 0.0965 - val_accuracy: 0.9737\n",
            "Epoch 38/100\n",
            "15/15 [==============================] - 0s 5ms/step - loss: 0.1117 - accuracy: 0.9626 - val_loss: 0.0986 - val_accuracy: 0.9737\n",
            "Epoch 39/100\n",
            "15/15 [==============================] - 0s 6ms/step - loss: 0.1126 - accuracy: 0.9692 - val_loss: 0.0979 - val_accuracy: 0.9737\n",
            "Epoch 40/100\n",
            "15/15 [==============================] - 0s 5ms/step - loss: 0.1153 - accuracy: 0.9516 - val_loss: 0.0975 - val_accuracy: 0.9737\n",
            "Epoch 41/100\n",
            "15/15 [==============================] - 0s 5ms/step - loss: 0.0764 - accuracy: 0.9758 - val_loss: 0.0977 - val_accuracy: 0.9737\n",
            "Epoch 42/100\n",
            "15/15 [==============================] - 0s 5ms/step - loss: 0.1048 - accuracy: 0.9560 - val_loss: 0.0980 - val_accuracy: 0.9737\n",
            "Epoch 43/100\n",
            "15/15 [==============================] - 0s 5ms/step - loss: 0.0955 - accuracy: 0.9736 - val_loss: 0.0986 - val_accuracy: 0.9737\n",
            "Epoch 44/100\n",
            "15/15 [==============================] - 0s 5ms/step - loss: 0.1047 - accuracy: 0.9582 - val_loss: 0.0959 - val_accuracy: 0.9737\n",
            "Epoch 45/100\n",
            "15/15 [==============================] - 0s 6ms/step - loss: 0.0935 - accuracy: 0.9604 - val_loss: 0.0954 - val_accuracy: 0.9737\n",
            "Epoch 46/100\n",
            "15/15 [==============================] - 0s 7ms/step - loss: 0.0987 - accuracy: 0.9626 - val_loss: 0.0958 - val_accuracy: 0.9737\n",
            "Epoch 47/100\n",
            "15/15 [==============================] - 0s 6ms/step - loss: 0.0920 - accuracy: 0.9648 - val_loss: 0.0960 - val_accuracy: 0.9737\n",
            "Epoch 48/100\n",
            "15/15 [==============================] - 0s 6ms/step - loss: 0.1267 - accuracy: 0.9560 - val_loss: 0.0965 - val_accuracy: 0.9737\n",
            "Epoch 49/100\n",
            "15/15 [==============================] - 0s 5ms/step - loss: 0.1178 - accuracy: 0.9626 - val_loss: 0.0984 - val_accuracy: 0.9737\n",
            "Epoch 50/100\n",
            "15/15 [==============================] - 0s 4ms/step - loss: 0.1119 - accuracy: 0.9582 - val_loss: 0.0989 - val_accuracy: 0.9737\n",
            "Epoch 51/100\n",
            "15/15 [==============================] - 0s 5ms/step - loss: 0.1282 - accuracy: 0.9560 - val_loss: 0.0956 - val_accuracy: 0.9737\n",
            "Epoch 52/100\n",
            "15/15 [==============================] - 0s 5ms/step - loss: 0.1138 - accuracy: 0.9648 - val_loss: 0.0959 - val_accuracy: 0.9737\n",
            "Epoch 53/100\n",
            "15/15 [==============================] - 0s 4ms/step - loss: 0.0874 - accuracy: 0.9714 - val_loss: 0.0974 - val_accuracy: 0.9737\n",
            "Epoch 54/100\n",
            "15/15 [==============================] - 0s 5ms/step - loss: 0.0887 - accuracy: 0.9714 - val_loss: 0.0975 - val_accuracy: 0.9737\n",
            "Epoch 55/100\n",
            "15/15 [==============================] - 0s 6ms/step - loss: 0.1100 - accuracy: 0.9538 - val_loss: 0.1001 - val_accuracy: 0.9649\n",
            "Epoch 56/100\n",
            "15/15 [==============================] - 0s 5ms/step - loss: 0.0829 - accuracy: 0.9758 - val_loss: 0.0988 - val_accuracy: 0.9649\n",
            "Epoch 57/100\n",
            "15/15 [==============================] - 0s 5ms/step - loss: 0.0945 - accuracy: 0.9714 - val_loss: 0.0984 - val_accuracy: 0.9649\n",
            "Epoch 58/100\n",
            "15/15 [==============================] - 0s 6ms/step - loss: 0.0806 - accuracy: 0.9670 - val_loss: 0.0977 - val_accuracy: 0.9649\n",
            "Epoch 59/100\n",
            "15/15 [==============================] - 0s 6ms/step - loss: 0.0950 - accuracy: 0.9560 - val_loss: 0.0965 - val_accuracy: 0.9649\n",
            "Epoch 60/100\n",
            "15/15 [==============================] - 0s 6ms/step - loss: 0.0788 - accuracy: 0.9714 - val_loss: 0.0967 - val_accuracy: 0.9649\n",
            "Epoch 61/100\n",
            "15/15 [==============================] - 0s 5ms/step - loss: 0.1093 - accuracy: 0.9670 - val_loss: 0.0979 - val_accuracy: 0.9649\n",
            "Epoch 62/100\n",
            "15/15 [==============================] - 0s 5ms/step - loss: 0.0677 - accuracy: 0.9802 - val_loss: 0.0988 - val_accuracy: 0.9649\n",
            "Epoch 63/100\n",
            "15/15 [==============================] - 0s 4ms/step - loss: 0.0826 - accuracy: 0.9736 - val_loss: 0.1009 - val_accuracy: 0.9649\n",
            "Epoch 64/100\n",
            "15/15 [==============================] - 0s 4ms/step - loss: 0.0858 - accuracy: 0.9648 - val_loss: 0.1006 - val_accuracy: 0.9649\n",
            "Epoch 65/100\n",
            "15/15 [==============================] - 0s 4ms/step - loss: 0.1166 - accuracy: 0.9538 - val_loss: 0.0999 - val_accuracy: 0.9649\n",
            "Epoch 66/100\n",
            "15/15 [==============================] - 0s 4ms/step - loss: 0.0955 - accuracy: 0.9692 - val_loss: 0.1038 - val_accuracy: 0.9649\n",
            "Epoch 67/100\n",
            "15/15 [==============================] - 0s 5ms/step - loss: 0.0940 - accuracy: 0.9495 - val_loss: 0.1039 - val_accuracy: 0.9649\n",
            "Epoch 68/100\n",
            "15/15 [==============================] - 0s 6ms/step - loss: 0.0924 - accuracy: 0.9670 - val_loss: 0.1036 - val_accuracy: 0.9649\n",
            "Epoch 69/100\n",
            "15/15 [==============================] - 0s 4ms/step - loss: 0.0658 - accuracy: 0.9824 - val_loss: 0.1014 - val_accuracy: 0.9649\n",
            "Epoch 70/100\n",
            "15/15 [==============================] - 0s 6ms/step - loss: 0.0673 - accuracy: 0.9758 - val_loss: 0.0999 - val_accuracy: 0.9649\n",
            "Epoch 70: early stopping\n"
          ]
        }
      ],
      "source": [
        "#COMPILING THE ANN USING STOCHASTIC GRADIENT DESCENT (optimizer = 'adam')\n",
        "ann.compile(optimizer = 'adam', loss = 'binary_crossentropy', metrics = ['accuracy'])\n",
        "\n",
        "#setting callbacks for monitoring maximum accuracy\n",
        "from tensorflow.keras.callbacks import EarlyStopping\n",
        "early_stop = EarlyStopping(monitor='val_loss', mode='min', verbose=1, patience=25)\n",
        "\n",
        "#TRAINING THE ANN WITH BATCH SIZE OF 32 (THIS IS A BATCH LEARNING)\n",
        "model=ann.fit(xtrain, ytrain,batch_size = 32, validation_data=(xtest, ytest),epochs =100,callbacks = [early_stop])"
      ]
    },
    {
      "cell_type": "code",
      "execution_count": 29,
      "metadata": {
        "colab": {
          "base_uri": "https://localhost:8080/"
        },
        "id": "azvL5eqOV4th",
        "outputId": "46623285-1620-4c22-91d8-182440d4c92a"
      },
      "outputs": [
        {
          "output_type": "stream",
          "name": "stdout",
          "text": [
            "Model: \"sequential_1\"\n",
            "_________________________________________________________________\n",
            " Layer (type)                Output Shape              Param #   \n",
            "=================================================================\n",
            " dense_2 (Dense)             (None, 30)                720       \n",
            "                                                                 \n",
            " batch_normalization_1 (Batc  (None, 30)               120       \n",
            " hNormalization)                                                 \n",
            "                                                                 \n",
            " dropout_1 (Dropout)         (None, 30)                0         \n",
            "                                                                 \n",
            " dense_3 (Dense)             (None, 1)                 31        \n",
            "                                                                 \n",
            "=================================================================\n",
            "Total params: 871\n",
            "Trainable params: 811\n",
            "Non-trainable params: 60\n",
            "_________________________________________________________________\n"
          ]
        }
      ],
      "source": [
        "#taking summary of layers\n",
        "ann.summary()"
      ]
    },
    {
      "cell_type": "code",
      "execution_count": 30,
      "metadata": {
        "colab": {
          "base_uri": "https://localhost:8080/",
          "height": 282
        },
        "id": "eLfAbzXGV4th",
        "outputId": "a3c75a06-40e7-4bd7-9d25-01cc6299a9e6"
      },
      "outputs": [
        {
          "output_type": "execute_result",
          "data": {
            "text/plain": [
              "<matplotlib.axes._subplots.AxesSubplot at 0x7fc78ad9f310>"
            ]
          },
          "metadata": {},
          "execution_count": 30
        },
        {
          "output_type": "display_data",
          "data": {
            "text/plain": [
              "<Figure size 432x288 with 1 Axes>"
            ],
            "image/png": "[encoded data removed]"
          },
          "metadata": {
            "needs_background": "light"
          }
        }
      ],
      "source": [
        "losses = pd.DataFrame(ann.history.history)\n",
        "losses.plot()"
      ]
    },
    {
      "cell_type": "code",
      "execution_count": 31,
      "metadata": {
        "colab": {
          "base_uri": "https://localhost:8080/"
        },
        "id": "BxsU0jKuV4th",
        "outputId": "d50d442c-ba24-4b84-bd22-feeb0bd2e002"
      },
      "outputs": [
        {
          "output_type": "stream",
          "name": "stdout",
          "text": [
            "4/4 [==============================] - 0s 3ms/step\n"
          ]
        }
      ],
      "source": [
        "#now testing for Test data\n",
        "y_pred = ann.predict(xtest)\n",
        "#converting values\n",
        "y_pred = (y_pred>0.5)"
      ]
    },
    {
      "cell_type": "code",
      "execution_count": 32,
      "metadata": {
        "colab": {
          "base_uri": "https://localhost:8080/"
        },
        "id": "57IP_k-5V4th",
        "outputId": "f08f467d-71a8-4843-bcc3-d4647689ef5f"
      },
      "outputs": [
        {
          "output_type": "stream",
          "name": "stdout",
          "text": [
            "[[73  2]\n",
            " [ 2 37]]\n",
            "score is: 0.9649122807017544\n"
          ]
        }
      ],
      "source": [
        "from sklearn.metrics import confusion_matrix\n",
        "from sklearn.metrics import accuracy_score\n",
        "cm = confusion_matrix(ytest,y_pred)\n",
        "score2 = accuracy_score(ytest,y_pred)\n",
        "print(cm)\n",
        "print('score is:',score2)"
      ]
    },
    {
      "cell_type": "code",
      "execution_count": 33,
      "metadata": {
        "colab": {
          "base_uri": "https://localhost:8080/"
        },
        "id": "qiRnyEN5V4th",
        "outputId": "a5be2bd5-0c3b-4ce0-c771-ec3ad9b59746"
      },
      "outputs": [
        {
          "output_type": "stream",
          "name": "stdout",
          "text": [
            "              precision    recall  f1-score   support\n",
            "\n",
            "           0       0.97      0.97      0.97        75\n",
            "           1       0.95      0.95      0.95        39\n",
            "\n",
            "    accuracy                           0.96       114\n",
            "   macro avg       0.96      0.96      0.96       114\n",
            "weighted avg       0.96      0.96      0.96       114\n",
            "\n"
          ]
        }
      ],
      "source": [
        "from sklearn.metrics import classification_report,confusion_matrix\n",
        "print(classification_report(ytest,y_pred))"
      ]
    },
    {
      "cell_type": "code",
      "execution_count": 34,
      "metadata": {
        "colab": {
          "base_uri": "https://localhost:8080/",
          "height": 428
        },
        "id": "-mLdNPR4V4ti",
        "outputId": "230f0304-57c1-41d8-8c61-0db8847f3e27"
      },
      "outputs": [
        {
          "output_type": "display_data",
          "data": {
            "text/plain": [
              "<Figure size 1008x504 with 2 Axes>"
            ],
            "image/png": "[encoded data removed]"
          },
          "metadata": {
            "needs_background": "light"
          }
        }
      ],
      "source": [
        "# creating heatmap of comfussion matrix\n",
        "plt.figure(figsize=[14,7])\n",
        "sns.heatmap(cm,annot=True)\n",
        "plt.show()"
      ]
    },
    {
      "cell_type": "code",
      "execution_count": 34,
      "metadata": {
        "id": "BO7RnYQtV4ti"
      },
      "outputs": [],
      "source": []
    },
    {
      "cell_type": "markdown",
      "metadata": {
        "id": "hiEexRqqV4ti"
      },
      "source": [
        "# 3.Tanh"
      ]
    },
    {
      "cell_type": "code",
      "execution_count": 35,
      "metadata": {
        "id": "P1uDBP6TV4ti"
      },
      "outputs": [],
      "source": [
        "from tensorflow.keras.layers import BatchNormalization\n",
        "#CREATING THE ANN AS SEQUENCE OF LAYERS\n",
        "ann =Sequential()\n",
        "\n",
        "#ADDING FIRST HIDDEN LAYER WITH 30 NEURONS, THE INPUT LAYER WILL BE ADDED AUTOMATICALLY,\n",
        "ann.add(Dense(units = 30,activation = 'tanh'))\n",
        "ann.add(BatchNormalization())\n",
        "ann.add(Dropout(0.5))\n",
        "\n",
        "\n",
        "\n",
        "#ADDING OUTPUT LAYER WITH 1 NEURON , AS THIS IS A BINARY CLASSIFICATION\n",
        "ann.add(Dense(units = 1,activation = 'sigmoid'))"
      ]
    },
    {
      "cell_type": "code",
      "execution_count": 36,
      "metadata": {
        "colab": {
          "base_uri": "https://localhost:8080/"
        },
        "id": "6RIoLTzXV4ti",
        "outputId": "535ed743-379e-4749-ee44-9f44139e2735"
      },
      "outputs": [
        {
          "output_type": "stream",
          "name": "stdout",
          "text": [
            "Epoch 1/100\n",
            "15/15 [==============================] - 1s 18ms/step - loss: 0.7993 - accuracy: 0.5890 - val_loss: 0.4661 - val_accuracy: 0.8596\n",
            "Epoch 2/100\n",
            "15/15 [==============================] - 0s 6ms/step - loss: 0.5506 - accuracy: 0.7626 - val_loss: 0.3716 - val_accuracy: 0.8772\n",
            "Epoch 3/100\n",
            "15/15 [==============================] - 0s 5ms/step - loss: 0.4133 - accuracy: 0.8198 - val_loss: 0.3124 - val_accuracy: 0.9035\n",
            "Epoch 4/100\n",
            "15/15 [==============================] - 0s 4ms/step - loss: 0.3509 - accuracy: 0.8374 - val_loss: 0.2705 - val_accuracy: 0.9298\n",
            "Epoch 5/100\n",
            "15/15 [==============================] - 0s 6ms/step - loss: 0.3282 - accuracy: 0.8615 - val_loss: 0.2428 - val_accuracy: 0.9386\n",
            "Epoch 6/100\n",
            "15/15 [==============================] - 0s 6ms/step - loss: 0.3329 - accuracy: 0.8615 - val_loss: 0.2215 - val_accuracy: 0.9386\n",
            "Epoch 7/100\n",
            "15/15 [==============================] - 0s 6ms/step - loss: 0.2635 - accuracy: 0.8857 - val_loss: 0.2070 - val_accuracy: 0.9474\n",
            "Epoch 8/100\n",
            "15/15 [==============================] - 0s 5ms/step - loss: 0.2204 - accuracy: 0.9209 - val_loss: 0.1903 - val_accuracy: 0.9474\n",
            "Epoch 9/100\n",
            "15/15 [==============================] - 0s 5ms/step - loss: 0.2067 - accuracy: 0.9187 - val_loss: 0.1764 - val_accuracy: 0.9474\n",
            "Epoch 10/100\n",
            "15/15 [==============================] - 0s 6ms/step - loss: 0.2035 - accuracy: 0.9231 - val_loss: 0.1656 - val_accuracy: 0.9474\n",
            "Epoch 11/100\n",
            "15/15 [==============================] - 0s 5ms/step - loss: 0.2125 - accuracy: 0.9121 - val_loss: 0.1574 - val_accuracy: 0.9474\n",
            "Epoch 12/100\n",
            "15/15 [==============================] - 0s 6ms/step - loss: 0.1562 - accuracy: 0.9495 - val_loss: 0.1535 - val_accuracy: 0.9474\n",
            "Epoch 13/100\n",
            "15/15 [==============================] - 0s 5ms/step - loss: 0.1824 - accuracy: 0.9341 - val_loss: 0.1458 - val_accuracy: 0.9474\n",
            "Epoch 14/100\n",
            "15/15 [==============================] - 0s 5ms/step - loss: 0.1508 - accuracy: 0.9429 - val_loss: 0.1409 - val_accuracy: 0.9474\n",
            "Epoch 15/100\n",
            "15/15 [==============================] - 0s 7ms/step - loss: 0.1700 - accuracy: 0.9297 - val_loss: 0.1386 - val_accuracy: 0.9474\n",
            "Epoch 16/100\n",
            "15/15 [==============================] - 0s 5ms/step - loss: 0.1611 - accuracy: 0.9385 - val_loss: 0.1350 - val_accuracy: 0.9474\n",
            "Epoch 17/100\n",
            "15/15 [==============================] - 0s 6ms/step - loss: 0.1590 - accuracy: 0.9429 - val_loss: 0.1336 - val_accuracy: 0.9474\n",
            "Epoch 18/100\n",
            "15/15 [==============================] - 0s 6ms/step - loss: 0.1343 - accuracy: 0.9538 - val_loss: 0.1251 - val_accuracy: 0.9474\n",
            "Epoch 19/100\n",
            "15/15 [==============================] - 0s 5ms/step - loss: 0.1672 - accuracy: 0.9341 - val_loss: 0.1217 - val_accuracy: 0.9474\n",
            "Epoch 20/100\n",
            "15/15 [==============================] - 0s 5ms/step - loss: 0.1462 - accuracy: 0.9516 - val_loss: 0.1184 - val_accuracy: 0.9474\n",
            "Epoch 21/100\n",
            "15/15 [==============================] - 0s 7ms/step - loss: 0.1344 - accuracy: 0.9451 - val_loss: 0.1174 - val_accuracy: 0.9474\n",
            "Epoch 22/100\n",
            "15/15 [==============================] - 0s 4ms/step - loss: 0.1201 - accuracy: 0.9626 - val_loss: 0.1152 - val_accuracy: 0.9474\n",
            "Epoch 23/100\n",
            "15/15 [==============================] - 0s 5ms/step - loss: 0.1361 - accuracy: 0.9516 - val_loss: 0.1155 - val_accuracy: 0.9474\n",
            "Epoch 24/100\n",
            "15/15 [==============================] - 0s 5ms/step - loss: 0.1234 - accuracy: 0.9582 - val_loss: 0.1134 - val_accuracy: 0.9474\n",
            "Epoch 25/100\n",
            "15/15 [==============================] - 0s 6ms/step - loss: 0.1253 - accuracy: 0.9516 - val_loss: 0.1113 - val_accuracy: 0.9474\n",
            "Epoch 26/100\n",
            "15/15 [==============================] - 0s 5ms/step - loss: 0.1167 - accuracy: 0.9582 - val_loss: 0.1089 - val_accuracy: 0.9474\n",
            "Epoch 27/100\n",
            "15/15 [==============================] - 0s 6ms/step - loss: 0.1263 - accuracy: 0.9495 - val_loss: 0.1071 - val_accuracy: 0.9474\n",
            "Epoch 28/100\n",
            "15/15 [==============================] - 0s 5ms/step - loss: 0.1004 - accuracy: 0.9648 - val_loss: 0.1059 - val_accuracy: 0.9474\n",
            "Epoch 29/100\n",
            "15/15 [==============================] - 0s 7ms/step - loss: 0.1212 - accuracy: 0.9560 - val_loss: 0.1066 - val_accuracy: 0.9474\n",
            "Epoch 30/100\n",
            "15/15 [==============================] - 0s 5ms/step - loss: 0.1044 - accuracy: 0.9648 - val_loss: 0.1022 - val_accuracy: 0.9474\n",
            "Epoch 31/100\n",
            "15/15 [==============================] - 0s 6ms/step - loss: 0.1247 - accuracy: 0.9538 - val_loss: 0.1020 - val_accuracy: 0.9474\n",
            "Epoch 32/100\n",
            "15/15 [==============================] - 0s 5ms/step - loss: 0.0932 - accuracy: 0.9758 - val_loss: 0.1029 - val_accuracy: 0.9474\n",
            "Epoch 33/100\n",
            "15/15 [==============================] - 0s 5ms/step - loss: 0.1174 - accuracy: 0.9516 - val_loss: 0.1030 - val_accuracy: 0.9474\n",
            "Epoch 34/100\n",
            "15/15 [==============================] - 0s 4ms/step - loss: 0.0925 - accuracy: 0.9648 - val_loss: 0.1029 - val_accuracy: 0.9474\n",
            "Epoch 35/100\n",
            "15/15 [==============================] - 0s 5ms/step - loss: 0.1046 - accuracy: 0.9648 - val_loss: 0.1015 - val_accuracy: 0.9474\n",
            "Epoch 36/100\n",
            "15/15 [==============================] - 0s 6ms/step - loss: 0.1211 - accuracy: 0.9407 - val_loss: 0.0992 - val_accuracy: 0.9561\n",
            "Epoch 37/100\n",
            "15/15 [==============================] - 0s 5ms/step - loss: 0.1002 - accuracy: 0.9582 - val_loss: 0.0993 - val_accuracy: 0.9561\n",
            "Epoch 38/100\n",
            "15/15 [==============================] - 0s 5ms/step - loss: 0.0939 - accuracy: 0.9626 - val_loss: 0.0991 - val_accuracy: 0.9561\n",
            "Epoch 39/100\n",
            "15/15 [==============================] - 0s 5ms/step - loss: 0.0946 - accuracy: 0.9604 - val_loss: 0.0966 - val_accuracy: 0.9561\n",
            "Epoch 40/100\n",
            "15/15 [==============================] - 0s 6ms/step - loss: 0.0968 - accuracy: 0.9670 - val_loss: 0.0954 - val_accuracy: 0.9561\n",
            "Epoch 41/100\n",
            "15/15 [==============================] - 0s 5ms/step - loss: 0.1061 - accuracy: 0.9582 - val_loss: 0.0950 - val_accuracy: 0.9561\n",
            "Epoch 42/100\n",
            "15/15 [==============================] - 0s 4ms/step - loss: 0.0782 - accuracy: 0.9670 - val_loss: 0.0959 - val_accuracy: 0.9561\n",
            "Epoch 43/100\n",
            "15/15 [==============================] - 0s 5ms/step - loss: 0.0845 - accuracy: 0.9780 - val_loss: 0.0968 - val_accuracy: 0.9561\n",
            "Epoch 44/100\n",
            "15/15 [==============================] - 0s 5ms/step - loss: 0.0704 - accuracy: 0.9758 - val_loss: 0.0968 - val_accuracy: 0.9561\n",
            "Epoch 45/100\n",
            "15/15 [==============================] - 0s 5ms/step - loss: 0.1033 - accuracy: 0.9582 - val_loss: 0.0975 - val_accuracy: 0.9561\n",
            "Epoch 46/100\n",
            "15/15 [==============================] - 0s 5ms/step - loss: 0.1099 - accuracy: 0.9516 - val_loss: 0.0949 - val_accuracy: 0.9561\n",
            "Epoch 47/100\n",
            "15/15 [==============================] - 0s 5ms/step - loss: 0.0767 - accuracy: 0.9692 - val_loss: 0.0956 - val_accuracy: 0.9561\n",
            "Epoch 48/100\n",
            "15/15 [==============================] - 0s 5ms/step - loss: 0.0847 - accuracy: 0.9714 - val_loss: 0.0960 - val_accuracy: 0.9561\n",
            "Epoch 49/100\n",
            "15/15 [==============================] - 0s 6ms/step - loss: 0.0635 - accuracy: 0.9802 - val_loss: 0.0951 - val_accuracy: 0.9561\n",
            "Epoch 50/100\n",
            "15/15 [==============================] - 0s 5ms/step - loss: 0.0858 - accuracy: 0.9714 - val_loss: 0.0931 - val_accuracy: 0.9561\n",
            "Epoch 51/100\n",
            "15/15 [==============================] - 0s 6ms/step - loss: 0.0828 - accuracy: 0.9692 - val_loss: 0.0924 - val_accuracy: 0.9561\n",
            "Epoch 52/100\n",
            "15/15 [==============================] - 0s 5ms/step - loss: 0.0895 - accuracy: 0.9714 - val_loss: 0.0920 - val_accuracy: 0.9561\n",
            "Epoch 53/100\n",
            "15/15 [==============================] - 0s 5ms/step - loss: 0.0902 - accuracy: 0.9648 - val_loss: 0.0925 - val_accuracy: 0.9561\n",
            "Epoch 54/100\n",
            "15/15 [==============================] - 0s 6ms/step - loss: 0.0644 - accuracy: 0.9780 - val_loss: 0.0941 - val_accuracy: 0.9561\n",
            "Epoch 55/100\n",
            "15/15 [==============================] - 0s 6ms/step - loss: 0.0763 - accuracy: 0.9736 - val_loss: 0.0956 - val_accuracy: 0.9561\n",
            "Epoch 56/100\n",
            "15/15 [==============================] - 0s 5ms/step - loss: 0.0801 - accuracy: 0.9780 - val_loss: 0.0947 - val_accuracy: 0.9561\n",
            "Epoch 57/100\n",
            "15/15 [==============================] - 0s 5ms/step - loss: 0.0868 - accuracy: 0.9736 - val_loss: 0.0950 - val_accuracy: 0.9561\n",
            "Epoch 58/100\n",
            "15/15 [==============================] - 0s 5ms/step - loss: 0.0801 - accuracy: 0.9714 - val_loss: 0.0954 - val_accuracy: 0.9561\n",
            "Epoch 59/100\n",
            "15/15 [==============================] - 0s 5ms/step - loss: 0.0752 - accuracy: 0.9714 - val_loss: 0.0953 - val_accuracy: 0.9561\n",
            "Epoch 60/100\n",
            "15/15 [==============================] - 0s 5ms/step - loss: 0.0784 - accuracy: 0.9736 - val_loss: 0.0931 - val_accuracy: 0.9561\n",
            "Epoch 61/100\n",
            "15/15 [==============================] - 0s 6ms/step - loss: 0.0965 - accuracy: 0.9604 - val_loss: 0.0920 - val_accuracy: 0.9561\n",
            "Epoch 62/100\n",
            "15/15 [==============================] - 0s 4ms/step - loss: 0.0835 - accuracy: 0.9692 - val_loss: 0.0923 - val_accuracy: 0.9561\n",
            "Epoch 63/100\n",
            "15/15 [==============================] - 0s 5ms/step - loss: 0.1153 - accuracy: 0.9538 - val_loss: 0.0943 - val_accuracy: 0.9474\n",
            "Epoch 64/100\n",
            "15/15 [==============================] - 0s 5ms/step - loss: 0.0812 - accuracy: 0.9714 - val_loss: 0.0940 - val_accuracy: 0.9474\n",
            "Epoch 65/100\n",
            "15/15 [==============================] - 0s 5ms/step - loss: 0.0738 - accuracy: 0.9670 - val_loss: 0.0934 - val_accuracy: 0.9474\n",
            "Epoch 66/100\n",
            "15/15 [==============================] - 0s 4ms/step - loss: 0.0822 - accuracy: 0.9692 - val_loss: 0.0948 - val_accuracy: 0.9474\n",
            "Epoch 67/100\n",
            "15/15 [==============================] - 0s 6ms/step - loss: 0.0655 - accuracy: 0.9802 - val_loss: 0.0941 - val_accuracy: 0.9561\n",
            "Epoch 68/100\n",
            "15/15 [==============================] - 0s 6ms/step - loss: 0.1030 - accuracy: 0.9714 - val_loss: 0.0903 - val_accuracy: 0.9561\n",
            "Epoch 69/100\n",
            "15/15 [==============================] - 0s 6ms/step - loss: 0.0731 - accuracy: 0.9714 - val_loss: 0.0899 - val_accuracy: 0.9561\n",
            "Epoch 70/100\n",
            "15/15 [==============================] - 0s 5ms/step - loss: 0.0927 - accuracy: 0.9714 - val_loss: 0.0920 - val_accuracy: 0.9649\n",
            "Epoch 71/100\n",
            "15/15 [==============================] - 0s 5ms/step - loss: 0.0630 - accuracy: 0.9802 - val_loss: 0.0929 - val_accuracy: 0.9649\n",
            "Epoch 72/100\n",
            "15/15 [==============================] - 0s 5ms/step - loss: 0.0775 - accuracy: 0.9758 - val_loss: 0.0928 - val_accuracy: 0.9649\n",
            "Epoch 73/100\n",
            "15/15 [==============================] - 0s 6ms/step - loss: 0.0650 - accuracy: 0.9758 - val_loss: 0.0922 - val_accuracy: 0.9649\n",
            "Epoch 74/100\n",
            "15/15 [==============================] - 0s 5ms/step - loss: 0.0687 - accuracy: 0.9758 - val_loss: 0.0923 - val_accuracy: 0.9649\n",
            "Epoch 75/100\n",
            "15/15 [==============================] - 0s 5ms/step - loss: 0.0997 - accuracy: 0.9516 - val_loss: 0.0957 - val_accuracy: 0.9561\n",
            "Epoch 76/100\n",
            "15/15 [==============================] - 0s 7ms/step - loss: 0.0789 - accuracy: 0.9714 - val_loss: 0.0976 - val_accuracy: 0.9561\n",
            "Epoch 77/100\n",
            "15/15 [==============================] - 0s 4ms/step - loss: 0.0812 - accuracy: 0.9780 - val_loss: 0.0990 - val_accuracy: 0.9561\n",
            "Epoch 78/100\n",
            "15/15 [==============================] - 0s 6ms/step - loss: 0.0797 - accuracy: 0.9758 - val_loss: 0.1037 - val_accuracy: 0.9561\n",
            "Epoch 79/100\n",
            "15/15 [==============================] - 0s 5ms/step - loss: 0.0614 - accuracy: 0.9846 - val_loss: 0.1016 - val_accuracy: 0.9649\n",
            "Epoch 80/100\n",
            "15/15 [==============================] - 0s 5ms/step - loss: 0.0949 - accuracy: 0.9560 - val_loss: 0.1003 - val_accuracy: 0.9649\n",
            "Epoch 81/100\n",
            "15/15 [==============================] - 0s 5ms/step - loss: 0.0701 - accuracy: 0.9780 - val_loss: 0.0979 - val_accuracy: 0.9737\n",
            "Epoch 82/100\n",
            "15/15 [==============================] - 0s 5ms/step - loss: 0.0998 - accuracy: 0.9692 - val_loss: 0.0973 - val_accuracy: 0.9737\n",
            "Epoch 83/100\n",
            "15/15 [==============================] - 0s 5ms/step - loss: 0.0686 - accuracy: 0.9692 - val_loss: 0.0956 - val_accuracy: 0.9737\n",
            "Epoch 84/100\n",
            "15/15 [==============================] - 0s 5ms/step - loss: 0.0625 - accuracy: 0.9802 - val_loss: 0.0932 - val_accuracy: 0.9737\n",
            "Epoch 85/100\n",
            "15/15 [==============================] - 0s 6ms/step - loss: 0.0896 - accuracy: 0.9692 - val_loss: 0.0925 - val_accuracy: 0.9737\n",
            "Epoch 86/100\n",
            "15/15 [==============================] - 0s 4ms/step - loss: 0.0800 - accuracy: 0.9758 - val_loss: 0.0916 - val_accuracy: 0.9737\n",
            "Epoch 87/100\n",
            "15/15 [==============================] - 0s 4ms/step - loss: 0.0790 - accuracy: 0.9692 - val_loss: 0.0914 - val_accuracy: 0.9737\n",
            "Epoch 88/100\n",
            "15/15 [==============================] - 0s 6ms/step - loss: 0.0784 - accuracy: 0.9802 - val_loss: 0.0908 - val_accuracy: 0.9737\n",
            "Epoch 89/100\n",
            "15/15 [==============================] - 0s 4ms/step - loss: 0.0527 - accuracy: 0.9846 - val_loss: 0.0906 - val_accuracy: 0.9649\n",
            "Epoch 90/100\n",
            "15/15 [==============================] - 0s 6ms/step - loss: 0.0714 - accuracy: 0.9736 - val_loss: 0.0910 - val_accuracy: 0.9737\n",
            "Epoch 91/100\n",
            "15/15 [==============================] - 0s 6ms/step - loss: 0.0601 - accuracy: 0.9758 - val_loss: 0.0896 - val_accuracy: 0.9737\n",
            "Epoch 92/100\n",
            "15/15 [==============================] - 0s 6ms/step - loss: 0.1006 - accuracy: 0.9604 - val_loss: 0.0880 - val_accuracy: 0.9737\n",
            "Epoch 93/100\n",
            "15/15 [==============================] - 0s 5ms/step - loss: 0.0749 - accuracy: 0.9824 - val_loss: 0.0880 - val_accuracy: 0.9737\n",
            "Epoch 94/100\n",
            "15/15 [==============================] - 0s 6ms/step - loss: 0.0611 - accuracy: 0.9824 - val_loss: 0.0882 - val_accuracy: 0.9737\n",
            "Epoch 95/100\n",
            "15/15 [==============================] - 0s 5ms/step - loss: 0.0698 - accuracy: 0.9758 - val_loss: 0.0913 - val_accuracy: 0.9649\n",
            "Epoch 96/100\n",
            "15/15 [==============================] - 0s 5ms/step - loss: 0.0608 - accuracy: 0.9824 - val_loss: 0.0902 - val_accuracy: 0.9649\n",
            "Epoch 97/100\n",
            "15/15 [==============================] - 0s 6ms/step - loss: 0.0606 - accuracy: 0.9846 - val_loss: 0.0931 - val_accuracy: 0.9737\n",
            "Epoch 98/100\n",
            "15/15 [==============================] - 0s 5ms/step - loss: 0.0711 - accuracy: 0.9758 - val_loss: 0.0954 - val_accuracy: 0.9649\n",
            "Epoch 99/100\n",
            "15/15 [==============================] - 0s 6ms/step - loss: 0.0702 - accuracy: 0.9846 - val_loss: 0.0952 - val_accuracy: 0.9649\n",
            "Epoch 100/100\n",
            "15/15 [==============================] - 0s 4ms/step - loss: 0.0732 - accuracy: 0.9802 - val_loss: 0.0948 - val_accuracy: 0.9649\n"
          ]
        }
      ],
      "source": [
        "#COMPILING THE ANN USING STOCHASTIC GRADIENT DESCENT (optimizer = 'adam')\n",
        "ann.compile(optimizer = 'adam', loss = 'binary_crossentropy', metrics = ['accuracy'])\n",
        "\n",
        "#setting callbacks for monitoring maximum accuracy\n",
        "from tensorflow.keras.callbacks import EarlyStopping\n",
        "early_stop = EarlyStopping(monitor='val_loss', mode='min', verbose=1, patience=25)\n",
        "\n",
        "#TRAINING THE ANN WITH BATCH SIZE OF 32 (THIS IS A BATCH LEARNING)\n",
        "model=ann.fit(xtrain, ytrain,batch_size = 32, validation_data=(xtest, ytest),epochs =100,callbacks = [early_stop])"
      ]
    },
    {
      "cell_type": "code",
      "execution_count": 37,
      "metadata": {
        "colab": {
          "base_uri": "https://localhost:8080/"
        },
        "id": "nRninLCxV4ti",
        "outputId": "2ae9b47f-9678-405f-a85c-0b788afa2ebe"
      },
      "outputs": [
        {
          "output_type": "stream",
          "name": "stdout",
          "text": [
            "Model: \"sequential_2\"\n",
            "_________________________________________________________________\n",
            " Layer (type)                Output Shape              Param #   \n",
            "=================================================================\n",
            " dense_4 (Dense)             (None, 30)                720       \n",
            "                                                                 \n",
            " batch_normalization_2 (Batc  (None, 30)               120       \n",
            " hNormalization)                                                 \n",
            "                                                                 \n",
            " dropout_2 (Dropout)         (None, 30)                0         \n",
            "                                                                 \n",
            " dense_5 (Dense)             (None, 1)                 31        \n",
            "                                                                 \n",
            "=================================================================\n",
            "Total params: 871\n",
            "Trainable params: 811\n",
            "Non-trainable params: 60\n",
            "_________________________________________________________________\n"
          ]
        }
      ],
      "source": [
        "#taking summary of layers\n",
        "ann.summary()"
      ]
    },
    {
      "cell_type": "code",
      "execution_count": 38,
      "metadata": {
        "colab": {
          "base_uri": "https://localhost:8080/",
          "height": 282
        },
        "id": "XB7bnL5cV4ti",
        "outputId": "f0c18d51-6ada-4000-ff5f-076cc5c40f61"
      },
      "outputs": [
        {
          "output_type": "execute_result",
          "data": {
            "text/plain": [
              "<matplotlib.axes._subplots.AxesSubplot at 0x7fc78a727d50>"
            ]
          },
          "metadata": {},
          "execution_count": 38
        },
        {
          "output_type": "display_data",
          "data": {
            "text/plain": [
              "<Figure size 432x288 with 1 Axes>"
            ],
            "image/png": "[encoded data removed]"
          },
          "metadata": {
            "needs_background": "light"
          }
        }
      ],
      "source": [
        "losses = pd.DataFrame(ann.history.history)\n",
        "losses.plot()"
      ]
    },
    {
      "cell_type": "code",
      "execution_count": 39,
      "metadata": {
        "colab": {
          "base_uri": "https://localhost:8080/"
        },
        "id": "SqKqbthrV4ti",
        "outputId": "a3eee0ef-319c-49da-85cc-574bef353d17"
      },
      "outputs": [
        {
          "output_type": "stream",
          "name": "stdout",
          "text": [
            "4/4 [==============================] - 0s 3ms/step\n"
          ]
        }
      ],
      "source": [
        "#now testing for Test data\n",
        "y_pred = ann.predict(xtest)\n",
        "#converting values\n",
        "y_pred = (y_pred>0.5)"
      ]
    },
    {
      "cell_type": "code",
      "execution_count": 40,
      "metadata": {
        "colab": {
          "base_uri": "https://localhost:8080/"
        },
        "id": "7TI11bSkV4ti",
        "outputId": "dd033e75-a0a9-44d8-c27d-598338b67163"
      },
      "outputs": [
        {
          "output_type": "stream",
          "name": "stdout",
          "text": [
            "[[73  2]\n",
            " [ 2 37]]\n",
            "score is: 0.9649122807017544\n"
          ]
        }
      ],
      "source": [
        "from sklearn.metrics import confusion_matrix\n",
        "from sklearn.metrics import accuracy_score\n",
        "cm = confusion_matrix(ytest,y_pred)\n",
        "score3 = accuracy_score(ytest,y_pred)\n",
        "print(cm)\n",
        "print('score is:',score3)"
      ]
    },
    {
      "cell_type": "code",
      "execution_count": 41,
      "metadata": {
        "colab": {
          "base_uri": "https://localhost:8080/"
        },
        "id": "Wxp9wdujV4tj",
        "outputId": "25356047-790a-458e-fd05-3e612126da98"
      },
      "outputs": [
        {
          "output_type": "stream",
          "name": "stdout",
          "text": [
            "              precision    recall  f1-score   support\n",
            "\n",
            "           0       0.97      0.97      0.97        75\n",
            "           1       0.95      0.95      0.95        39\n",
            "\n",
            "    accuracy                           0.96       114\n",
            "   macro avg       0.96      0.96      0.96       114\n",
            "weighted avg       0.96      0.96      0.96       114\n",
            "\n"
          ]
        }
      ],
      "source": [
        "from sklearn.metrics import classification_report,confusion_matrix\n",
        "print(classification_report(ytest,y_pred))"
      ]
    },
    {
      "cell_type": "code",
      "execution_count": 42,
      "metadata": {
        "colab": {
          "base_uri": "https://localhost:8080/",
          "height": 428
        },
        "id": "WwzkyX5aV4tj",
        "outputId": "e59e8d0b-e600-49db-9f01-8d284bad0d91"
      },
      "outputs": [
        {
          "output_type": "display_data",
          "data": {
            "text/plain": [
              "<Figure size 1008x504 with 2 Axes>"
            ],
            "image/png": "[encoded data removed]"
          },
          "metadata": {
            "needs_background": "light"
          }
        }
      ],
      "source": [
        "# creating heatmap of comfussion matrix\n",
        "plt.figure(figsize=[14,7])\n",
        "sns.heatmap(cm,annot=True)\n",
        "plt.show()"
      ]
    },
    {
      "cell_type": "code",
      "execution_count": 42,
      "metadata": {
        "id": "v4J23dYWV4tj"
      },
      "outputs": [],
      "source": []
    },
    {
      "cell_type": "code",
      "execution_count": 42,
      "metadata": {
        "id": "3RBahClrV4tj"
      },
      "outputs": [],
      "source": []
    },
    {
      "cell_type": "markdown",
      "metadata": {
        "id": "MKLBzXTwV4tj"
      },
      "source": [
        "# 4.SOFTMAX"
      ]
    },
    {
      "cell_type": "code",
      "execution_count": 43,
      "metadata": {
        "id": "3VU3a-8qV4tj"
      },
      "outputs": [],
      "source": [
        "from tensorflow.keras.layers import BatchNormalization\n",
        "#CREATING THE ANN AS SEQUENCE OF LAYERS\n",
        "ann =Sequential()\n",
        "\n",
        "#ADDING FIRST HIDDEN LAYER WITH 30 NEURONS, THE INPUT LAYER WILL BE ADDED AUTOMATICALLY,\n",
        "ann.add(Dense(units = 30,activation = 'softmax'))\n",
        "ann.add(BatchNormalization())\n",
        "ann.add(Dropout(0.5))\n",
        "\n",
        "\n",
        "\n",
        "#ADDING OUTPUT LAYER WITH 1 NEURON , AS THIS IS A BINARY CLASSIFICATION\n",
        "ann.add(Dense(units = 1,activation = 'sigmoid'))"
      ]
    },
    {
      "cell_type": "code",
      "execution_count": 44,
      "metadata": {
        "colab": {
          "base_uri": "https://localhost:8080/"
        },
        "id": "0gYIHrXaV4tj",
        "outputId": "5c72f72c-95bd-4784-a8c8-72311166647c"
      },
      "outputs": [
        {
          "output_type": "stream",
          "name": "stdout",
          "text": [
            "Epoch 1/100\n",
            "15/15 [==============================] - 1s 20ms/step - loss: 0.4961 - accuracy: 0.7626 - val_loss: 0.6410 - val_accuracy: 0.6842\n",
            "Epoch 2/100\n",
            "15/15 [==============================] - 0s 5ms/step - loss: 0.3946 - accuracy: 0.8286 - val_loss: 0.6185 - val_accuracy: 0.6754\n",
            "Epoch 3/100\n",
            "15/15 [==============================] - 0s 5ms/step - loss: 0.3340 - accuracy: 0.8637 - val_loss: 0.6008 - val_accuracy: 0.6667\n",
            "Epoch 4/100\n",
            "15/15 [==============================] - 0s 6ms/step - loss: 0.3167 - accuracy: 0.8835 - val_loss: 0.5849 - val_accuracy: 0.6579\n",
            "Epoch 5/100\n",
            "15/15 [==============================] - 0s 6ms/step - loss: 0.2569 - accuracy: 0.9055 - val_loss: 0.5709 - val_accuracy: 0.6579\n",
            "Epoch 6/100\n",
            "15/15 [==============================] - 0s 5ms/step - loss: 0.2762 - accuracy: 0.8945 - val_loss: 0.5597 - val_accuracy: 0.6579\n",
            "Epoch 7/100\n",
            "15/15 [==============================] - 0s 4ms/step - loss: 0.2242 - accuracy: 0.9209 - val_loss: 0.5486 - val_accuracy: 0.6579\n",
            "Epoch 8/100\n",
            "15/15 [==============================] - 0s 6ms/step - loss: 0.2107 - accuracy: 0.9187 - val_loss: 0.5365 - val_accuracy: 0.6579\n",
            "Epoch 9/100\n",
            "15/15 [==============================] - 0s 6ms/step - loss: 0.1921 - accuracy: 0.9341 - val_loss: 0.5243 - val_accuracy: 0.6667\n",
            "Epoch 10/100\n",
            "15/15 [==============================] - 0s 5ms/step - loss: 0.1884 - accuracy: 0.9473 - val_loss: 0.5112 - val_accuracy: 0.6754\n",
            "Epoch 11/100\n",
            "15/15 [==============================] - 0s 5ms/step - loss: 0.1746 - accuracy: 0.9451 - val_loss: 0.4972 - val_accuracy: 0.7281\n",
            "Epoch 12/100\n",
            "15/15 [==============================] - 0s 5ms/step - loss: 0.1677 - accuracy: 0.9363 - val_loss: 0.4841 - val_accuracy: 0.7281\n",
            "Epoch 13/100\n",
            "15/15 [==============================] - 0s 6ms/step - loss: 0.1760 - accuracy: 0.9341 - val_loss: 0.4709 - val_accuracy: 0.7456\n",
            "Epoch 14/100\n",
            "15/15 [==============================] - 0s 5ms/step - loss: 0.1615 - accuracy: 0.9451 - val_loss: 0.4573 - val_accuracy: 0.7544\n",
            "Epoch 15/100\n",
            "15/15 [==============================] - 0s 5ms/step - loss: 0.1421 - accuracy: 0.9516 - val_loss: 0.4420 - val_accuracy: 0.7719\n",
            "Epoch 16/100\n",
            "15/15 [==============================] - 0s 7ms/step - loss: 0.1347 - accuracy: 0.9560 - val_loss: 0.4245 - val_accuracy: 0.7895\n",
            "Epoch 17/100\n",
            "15/15 [==============================] - 0s 7ms/step - loss: 0.1421 - accuracy: 0.9560 - val_loss: 0.4070 - val_accuracy: 0.8333\n",
            "Epoch 18/100\n",
            "15/15 [==============================] - 0s 5ms/step - loss: 0.1132 - accuracy: 0.9626 - val_loss: 0.3886 - val_accuracy: 0.8421\n",
            "Epoch 19/100\n",
            "15/15 [==============================] - 0s 5ms/step - loss: 0.1267 - accuracy: 0.9538 - val_loss: 0.3704 - val_accuracy: 0.8684\n",
            "Epoch 20/100\n",
            "15/15 [==============================] - 0s 5ms/step - loss: 0.1391 - accuracy: 0.9516 - val_loss: 0.3506 - val_accuracy: 0.8860\n",
            "Epoch 21/100\n",
            "15/15 [==============================] - 0s 8ms/step - loss: 0.1102 - accuracy: 0.9626 - val_loss: 0.3321 - val_accuracy: 0.9035\n",
            "Epoch 22/100\n",
            "15/15 [==============================] - 0s 6ms/step - loss: 0.1025 - accuracy: 0.9758 - val_loss: 0.3122 - val_accuracy: 0.9123\n",
            "Epoch 23/100\n",
            "15/15 [==============================] - 0s 6ms/step - loss: 0.1123 - accuracy: 0.9626 - val_loss: 0.2928 - val_accuracy: 0.9211\n",
            "Epoch 24/100\n",
            "15/15 [==============================] - 0s 5ms/step - loss: 0.0974 - accuracy: 0.9692 - val_loss: 0.2731 - val_accuracy: 0.9386\n",
            "Epoch 25/100\n",
            "15/15 [==============================] - 0s 6ms/step - loss: 0.1156 - accuracy: 0.9560 - val_loss: 0.2551 - val_accuracy: 0.9386\n",
            "Epoch 26/100\n",
            "15/15 [==============================] - 0s 6ms/step - loss: 0.1022 - accuracy: 0.9604 - val_loss: 0.2383 - val_accuracy: 0.9561\n",
            "Epoch 27/100\n",
            "15/15 [==============================] - 0s 6ms/step - loss: 0.1215 - accuracy: 0.9538 - val_loss: 0.2244 - val_accuracy: 0.9561\n",
            "Epoch 28/100\n",
            "15/15 [==============================] - 0s 5ms/step - loss: 0.1053 - accuracy: 0.9560 - val_loss: 0.2078 - val_accuracy: 0.9649\n",
            "Epoch 29/100\n",
            "15/15 [==============================] - 0s 6ms/step - loss: 0.1062 - accuracy: 0.9604 - val_loss: 0.1938 - val_accuracy: 0.9649\n",
            "Epoch 30/100\n",
            "15/15 [==============================] - 0s 6ms/step - loss: 0.0979 - accuracy: 0.9714 - val_loss: 0.1798 - val_accuracy: 0.9649\n",
            "Epoch 31/100\n",
            "15/15 [==============================] - 0s 7ms/step - loss: 0.0868 - accuracy: 0.9648 - val_loss: 0.1668 - val_accuracy: 0.9737\n",
            "Epoch 32/100\n",
            "15/15 [==============================] - 0s 6ms/step - loss: 0.0880 - accuracy: 0.9758 - val_loss: 0.1551 - val_accuracy: 0.9737\n",
            "Epoch 33/100\n",
            "15/15 [==============================] - 0s 6ms/step - loss: 0.1052 - accuracy: 0.9670 - val_loss: 0.1457 - val_accuracy: 0.9737\n",
            "Epoch 34/100\n",
            "15/15 [==============================] - 0s 5ms/step - loss: 0.0740 - accuracy: 0.9758 - val_loss: 0.1369 - val_accuracy: 0.9737\n",
            "Epoch 35/100\n",
            "15/15 [==============================] - 0s 5ms/step - loss: 0.0704 - accuracy: 0.9758 - val_loss: 0.1277 - val_accuracy: 0.9737\n",
            "Epoch 36/100\n",
            "15/15 [==============================] - 0s 6ms/step - loss: 0.0780 - accuracy: 0.9802 - val_loss: 0.1214 - val_accuracy: 0.9737\n",
            "Epoch 37/100\n",
            "15/15 [==============================] - 0s 6ms/step - loss: 0.0804 - accuracy: 0.9736 - val_loss: 0.1144 - val_accuracy: 0.9825\n",
            "Epoch 38/100\n",
            "15/15 [==============================] - 0s 5ms/step - loss: 0.0804 - accuracy: 0.9692 - val_loss: 0.1066 - val_accuracy: 0.9825\n",
            "Epoch 39/100\n",
            "15/15 [==============================] - 0s 5ms/step - loss: 0.0951 - accuracy: 0.9670 - val_loss: 0.1050 - val_accuracy: 0.9825\n",
            "Epoch 40/100\n",
            "15/15 [==============================] - 0s 5ms/step - loss: 0.0717 - accuracy: 0.9802 - val_loss: 0.0996 - val_accuracy: 0.9825\n",
            "Epoch 41/100\n",
            "15/15 [==============================] - 0s 6ms/step - loss: 0.1075 - accuracy: 0.9516 - val_loss: 0.0950 - val_accuracy: 0.9825\n",
            "Epoch 42/100\n",
            "15/15 [==============================] - 0s 7ms/step - loss: 0.1100 - accuracy: 0.9560 - val_loss: 0.0911 - val_accuracy: 0.9825\n",
            "Epoch 43/100\n",
            "15/15 [==============================] - 0s 6ms/step - loss: 0.0780 - accuracy: 0.9758 - val_loss: 0.0892 - val_accuracy: 0.9825\n",
            "Epoch 44/100\n",
            "15/15 [==============================] - 0s 5ms/step - loss: 0.0911 - accuracy: 0.9692 - val_loss: 0.0864 - val_accuracy: 0.9825\n",
            "Epoch 45/100\n",
            "15/15 [==============================] - 0s 5ms/step - loss: 0.0790 - accuracy: 0.9626 - val_loss: 0.0813 - val_accuracy: 0.9737\n",
            "Epoch 46/100\n",
            "15/15 [==============================] - 0s 5ms/step - loss: 0.1057 - accuracy: 0.9670 - val_loss: 0.0779 - val_accuracy: 0.9825\n",
            "Epoch 47/100\n",
            "15/15 [==============================] - 0s 5ms/step - loss: 0.0686 - accuracy: 0.9714 - val_loss: 0.0779 - val_accuracy: 0.9825\n",
            "Epoch 48/100\n",
            "15/15 [==============================] - 0s 6ms/step - loss: 0.0838 - accuracy: 0.9670 - val_loss: 0.0777 - val_accuracy: 0.9737\n",
            "Epoch 49/100\n",
            "15/15 [==============================] - 0s 5ms/step - loss: 0.0916 - accuracy: 0.9604 - val_loss: 0.0776 - val_accuracy: 0.9737\n",
            "Epoch 50/100\n",
            "15/15 [==============================] - 0s 5ms/step - loss: 0.0812 - accuracy: 0.9714 - val_loss: 0.0776 - val_accuracy: 0.9737\n",
            "Epoch 51/100\n",
            "15/15 [==============================] - 0s 5ms/step - loss: 0.0784 - accuracy: 0.9670 - val_loss: 0.0786 - val_accuracy: 0.9737\n",
            "Epoch 52/100\n",
            "15/15 [==============================] - 0s 5ms/step - loss: 0.0751 - accuracy: 0.9758 - val_loss: 0.0782 - val_accuracy: 0.9737\n",
            "Epoch 53/100\n",
            "15/15 [==============================] - 0s 7ms/step - loss: 0.0739 - accuracy: 0.9780 - val_loss: 0.0743 - val_accuracy: 0.9737\n",
            "Epoch 54/100\n",
            "15/15 [==============================] - 0s 6ms/step - loss: 0.0754 - accuracy: 0.9780 - val_loss: 0.0713 - val_accuracy: 0.9737\n",
            "Epoch 55/100\n",
            "15/15 [==============================] - 0s 6ms/step - loss: 0.0706 - accuracy: 0.9758 - val_loss: 0.0726 - val_accuracy: 0.9737\n",
            "Epoch 56/100\n",
            "15/15 [==============================] - 0s 5ms/step - loss: 0.0911 - accuracy: 0.9582 - val_loss: 0.0739 - val_accuracy: 0.9737\n",
            "Epoch 57/100\n",
            "15/15 [==============================] - 0s 6ms/step - loss: 0.0802 - accuracy: 0.9648 - val_loss: 0.0737 - val_accuracy: 0.9737\n",
            "Epoch 58/100\n",
            "15/15 [==============================] - 0s 6ms/step - loss: 0.0661 - accuracy: 0.9692 - val_loss: 0.0730 - val_accuracy: 0.9737\n",
            "Epoch 59/100\n",
            "15/15 [==============================] - 0s 5ms/step - loss: 0.0802 - accuracy: 0.9648 - val_loss: 0.0751 - val_accuracy: 0.9737\n",
            "Epoch 60/100\n",
            "15/15 [==============================] - 0s 6ms/step - loss: 0.0863 - accuracy: 0.9758 - val_loss: 0.0756 - val_accuracy: 0.9737\n",
            "Epoch 61/100\n",
            "15/15 [==============================] - 0s 6ms/step - loss: 0.0676 - accuracy: 0.9758 - val_loss: 0.0752 - val_accuracy: 0.9649\n",
            "Epoch 62/100\n",
            "15/15 [==============================] - 0s 5ms/step - loss: 0.0826 - accuracy: 0.9648 - val_loss: 0.0804 - val_accuracy: 0.9561\n",
            "Epoch 63/100\n",
            "15/15 [==============================] - 0s 5ms/step - loss: 0.0788 - accuracy: 0.9692 - val_loss: 0.0820 - val_accuracy: 0.9561\n",
            "Epoch 64/100\n",
            "15/15 [==============================] - 0s 6ms/step - loss: 0.0715 - accuracy: 0.9780 - val_loss: 0.0795 - val_accuracy: 0.9561\n",
            "Epoch 65/100\n",
            "15/15 [==============================] - 0s 6ms/step - loss: 0.0624 - accuracy: 0.9780 - val_loss: 0.0777 - val_accuracy: 0.9561\n",
            "Epoch 66/100\n",
            "15/15 [==============================] - 0s 5ms/step - loss: 0.0878 - accuracy: 0.9692 - val_loss: 0.0749 - val_accuracy: 0.9737\n",
            "Epoch 67/100\n",
            "15/15 [==============================] - 0s 6ms/step - loss: 0.0574 - accuracy: 0.9802 - val_loss: 0.0726 - val_accuracy: 0.9737\n",
            "Epoch 68/100\n",
            "15/15 [==============================] - 0s 5ms/step - loss: 0.0612 - accuracy: 0.9802 - val_loss: 0.0733 - val_accuracy: 0.9737\n",
            "Epoch 69/100\n",
            "15/15 [==============================] - 0s 5ms/step - loss: 0.0651 - accuracy: 0.9714 - val_loss: 0.0738 - val_accuracy: 0.9737\n",
            "Epoch 70/100\n",
            "15/15 [==============================] - 0s 5ms/step - loss: 0.0656 - accuracy: 0.9692 - val_loss: 0.0726 - val_accuracy: 0.9649\n",
            "Epoch 71/100\n",
            "15/15 [==============================] - 0s 4ms/step - loss: 0.0513 - accuracy: 0.9802 - val_loss: 0.0716 - val_accuracy: 0.9649\n",
            "Epoch 72/100\n",
            "15/15 [==============================] - 0s 5ms/step - loss: 0.0678 - accuracy: 0.9736 - val_loss: 0.0681 - val_accuracy: 0.9825\n",
            "Epoch 73/100\n",
            "15/15 [==============================] - 0s 5ms/step - loss: 0.0702 - accuracy: 0.9758 - val_loss: 0.0669 - val_accuracy: 0.9825\n",
            "Epoch 74/100\n",
            "15/15 [==============================] - 0s 5ms/step - loss: 0.0635 - accuracy: 0.9758 - val_loss: 0.0658 - val_accuracy: 0.9825\n",
            "Epoch 75/100\n",
            "15/15 [==============================] - 0s 6ms/step - loss: 0.0852 - accuracy: 0.9714 - val_loss: 0.0660 - val_accuracy: 0.9912\n",
            "Epoch 76/100\n",
            "15/15 [==============================] - 0s 6ms/step - loss: 0.0752 - accuracy: 0.9648 - val_loss: 0.0647 - val_accuracy: 0.9912\n",
            "Epoch 77/100\n",
            "15/15 [==============================] - 0s 5ms/step - loss: 0.0635 - accuracy: 0.9736 - val_loss: 0.0650 - val_accuracy: 0.9825\n",
            "Epoch 78/100\n",
            "15/15 [==============================] - 0s 5ms/step - loss: 0.0731 - accuracy: 0.9626 - val_loss: 0.0663 - val_accuracy: 0.9825\n",
            "Epoch 79/100\n",
            "15/15 [==============================] - 0s 5ms/step - loss: 0.0819 - accuracy: 0.9736 - val_loss: 0.0663 - val_accuracy: 0.9825\n",
            "Epoch 80/100\n",
            "15/15 [==============================] - 0s 5ms/step - loss: 0.0679 - accuracy: 0.9736 - val_loss: 0.0659 - val_accuracy: 0.9825\n",
            "Epoch 81/100\n",
            "15/15 [==============================] - 0s 5ms/step - loss: 0.0473 - accuracy: 0.9846 - val_loss: 0.0671 - val_accuracy: 0.9825\n",
            "Epoch 82/100\n",
            "15/15 [==============================] - 0s 5ms/step - loss: 0.0750 - accuracy: 0.9692 - val_loss: 0.0634 - val_accuracy: 0.9912\n",
            "Epoch 83/100\n",
            "15/15 [==============================] - 0s 6ms/step - loss: 0.0661 - accuracy: 0.9758 - val_loss: 0.0646 - val_accuracy: 0.9912\n",
            "Epoch 84/100\n",
            "15/15 [==============================] - 0s 5ms/step - loss: 0.0577 - accuracy: 0.9802 - val_loss: 0.0649 - val_accuracy: 0.9825\n",
            "Epoch 85/100\n",
            "15/15 [==============================] - 0s 5ms/step - loss: 0.0526 - accuracy: 0.9802 - val_loss: 0.0649 - val_accuracy: 0.9825\n",
            "Epoch 86/100\n",
            "15/15 [==============================] - 0s 5ms/step - loss: 0.0622 - accuracy: 0.9714 - val_loss: 0.0648 - val_accuracy: 0.9912\n",
            "Epoch 87/100\n",
            "15/15 [==============================] - 0s 7ms/step - loss: 0.0468 - accuracy: 0.9824 - val_loss: 0.0643 - val_accuracy: 0.9912\n",
            "Epoch 88/100\n",
            "15/15 [==============================] - 0s 5ms/step - loss: 0.0511 - accuracy: 0.9868 - val_loss: 0.0652 - val_accuracy: 0.9912\n",
            "Epoch 89/100\n",
            "15/15 [==============================] - 0s 5ms/step - loss: 0.0553 - accuracy: 0.9780 - val_loss: 0.0658 - val_accuracy: 0.9912\n",
            "Epoch 90/100\n",
            "15/15 [==============================] - 0s 5ms/step - loss: 0.0584 - accuracy: 0.9824 - val_loss: 0.0636 - val_accuracy: 0.9912\n",
            "Epoch 91/100\n",
            "15/15 [==============================] - 0s 4ms/step - loss: 0.0533 - accuracy: 0.9758 - val_loss: 0.0625 - val_accuracy: 0.9912\n",
            "Epoch 92/100\n",
            "15/15 [==============================] - 0s 5ms/step - loss: 0.0641 - accuracy: 0.9736 - val_loss: 0.0630 - val_accuracy: 0.9912\n",
            "Epoch 93/100\n",
            "15/15 [==============================] - 0s 5ms/step - loss: 0.0623 - accuracy: 0.9846 - val_loss: 0.0630 - val_accuracy: 0.9912\n",
            "Epoch 94/100\n",
            "15/15 [==============================] - 0s 6ms/step - loss: 0.0627 - accuracy: 0.9758 - val_loss: 0.0642 - val_accuracy: 0.9825\n",
            "Epoch 95/100\n",
            "15/15 [==============================] - 0s 5ms/step - loss: 0.0553 - accuracy: 0.9780 - val_loss: 0.0633 - val_accuracy: 0.9912\n",
            "Epoch 96/100\n",
            "15/15 [==============================] - 0s 5ms/step - loss: 0.0578 - accuracy: 0.9802 - val_loss: 0.0645 - val_accuracy: 0.9825\n",
            "Epoch 97/100\n",
            "15/15 [==============================] - 0s 9ms/step - loss: 0.0471 - accuracy: 0.9846 - val_loss: 0.0660 - val_accuracy: 0.9825\n",
            "Epoch 98/100\n",
            "15/15 [==============================] - 0s 7ms/step - loss: 0.0575 - accuracy: 0.9802 - val_loss: 0.0669 - val_accuracy: 0.9737\n",
            "Epoch 99/100\n",
            "15/15 [==============================] - 0s 6ms/step - loss: 0.0883 - accuracy: 0.9692 - val_loss: 0.0665 - val_accuracy: 0.9825\n",
            "Epoch 100/100\n",
            "15/15 [==============================] - 0s 5ms/step - loss: 0.0466 - accuracy: 0.9802 - val_loss: 0.0683 - val_accuracy: 0.9737\n"
          ]
        }
      ],
      "source": [
        "#COMPILING THE ANN USING STOCHASTIC GRADIENT DESCENT (optimizer = 'adam')\n",
        "ann.compile(optimizer = 'adam', loss = 'binary_crossentropy', metrics = ['accuracy'])\n",
        "\n",
        "#setting callbacks for monitoring maximum accuracy\n",
        "from tensorflow.keras.callbacks import EarlyStopping\n",
        "early_stop = EarlyStopping(monitor='val_loss', mode='min', verbose=1, patience=25)\n",
        "\n",
        "#TRAINING THE ANN WITH BATCH SIZE OF 32 (THIS IS A BATCH LEARNING)\n",
        "model=ann.fit(xtrain, ytrain,batch_size = 32, validation_data=(xtest, ytest),epochs =100,callbacks = [early_stop])"
      ]
    },
    {
      "cell_type": "code",
      "execution_count": 45,
      "metadata": {
        "scrolled": true,
        "colab": {
          "base_uri": "https://localhost:8080/"
        },
        "id": "4hEhS6FsV4tj",
        "outputId": "1ba58b42-866b-45c3-f963-7de1c2b4faa2"
      },
      "outputs": [
        {
          "output_type": "stream",
          "name": "stdout",
          "text": [
            "Model: \"sequential_3\"\n",
            "_________________________________________________________________\n",
            " Layer (type)                Output Shape              Param #   \n",
            "=================================================================\n",
            " dense_6 (Dense)             (None, 30)                720       \n",
            "                                                                 \n",
            " batch_normalization_3 (Batc  (None, 30)               120       \n",
            " hNormalization)                                                 \n",
            "                                                                 \n",
            " dropout_3 (Dropout)         (None, 30)                0         \n",
            "                                                                 \n",
            " dense_7 (Dense)             (None, 1)                 31        \n",
            "                                                                 \n",
            "=================================================================\n",
            "Total params: 871\n",
            "Trainable params: 811\n",
            "Non-trainable params: 60\n",
            "_________________________________________________________________\n"
          ]
        }
      ],
      "source": [
        "#taking summary of layers\n",
        "ann.summary()"
      ]
    },
    {
      "cell_type": "code",
      "execution_count": 46,
      "metadata": {
        "colab": {
          "base_uri": "https://localhost:8080/",
          "height": 282
        },
        "id": "wRk4OefRV4tj",
        "outputId": "8a7f3efc-348c-4811-f6e2-a4fed2d3c1aa"
      },
      "outputs": [
        {
          "output_type": "execute_result",
          "data": {
            "text/plain": [
              "<matplotlib.axes._subplots.AxesSubplot at 0x7fc784b1ac10>"
            ]
          },
          "metadata": {},
          "execution_count": 46
        },
        {
          "output_type": "display_data",
          "data": {
            "text/plain": [
              "<Figure size 432x288 with 1 Axes>"
            ],
            "image/png": "[encoded data removed]"
          },
          "metadata": {
            "needs_background": "light"
          }
        }
      ],
      "source": [
        "losses = pd.DataFrame(ann.history.history)\n",
        "losses.plot()"
      ]
    },
    {
      "cell_type": "code",
      "execution_count": 47,
      "metadata": {
        "colab": {
          "base_uri": "https://localhost:8080/"
        },
        "id": "0Zn1LNavV4tk",
        "outputId": "fec812b0-c684-4f2b-fd7e-8c90832ec3e5"
      },
      "outputs": [
        {
          "output_type": "stream",
          "name": "stdout",
          "text": [
            "4/4 [==============================] - 0s 4ms/step\n"
          ]
        }
      ],
      "source": [
        "#now testing for Test data\n",
        "y_pred = ann.predict(xtest)\n",
        "#converting values\n",
        "y_pred = (y_pred>0.5)"
      ]
    },
    {
      "cell_type": "code",
      "execution_count": 48,
      "metadata": {
        "colab": {
          "base_uri": "https://localhost:8080/"
        },
        "id": "_m6V1x-8V4tk",
        "outputId": "9f61e89f-c444-4837-89b3-67189b38cd67"
      },
      "outputs": [
        {
          "output_type": "stream",
          "name": "stdout",
          "text": [
            "[[74  1]\n",
            " [ 2 37]]\n",
            "score is: 0.9736842105263158\n"
          ]
        }
      ],
      "source": [
        "from sklearn.metrics import confusion_matrix\n",
        "from sklearn.metrics import accuracy_score\n",
        "cm = confusion_matrix(ytest,y_pred)\n",
        "score4 = accuracy_score(ytest,y_pred)\n",
        "print(cm)\n",
        "print('score is:',score4)"
      ]
    },
    {
      "cell_type": "code",
      "execution_count": 49,
      "metadata": {
        "colab": {
          "base_uri": "https://localhost:8080/"
        },
        "id": "Nh5xvCrvV4tk",
        "outputId": "a10b0c00-acd3-4253-87f9-fcf9abe2bf8d"
      },
      "outputs": [
        {
          "output_type": "stream",
          "name": "stdout",
          "text": [
            "              precision    recall  f1-score   support\n",
            "\n",
            "           0       0.97      0.99      0.98        75\n",
            "           1       0.97      0.95      0.96        39\n",
            "\n",
            "    accuracy                           0.97       114\n",
            "   macro avg       0.97      0.97      0.97       114\n",
            "weighted avg       0.97      0.97      0.97       114\n",
            "\n"
          ]
        }
      ],
      "source": [
        "from sklearn.metrics import classification_report,confusion_matrix\n",
        "print(classification_report(ytest,y_pred))"
      ]
    },
    {
      "cell_type": "code",
      "execution_count": 50,
      "metadata": {
        "colab": {
          "base_uri": "https://localhost:8080/",
          "height": 428
        },
        "id": "M4vLvY_gV4tk",
        "outputId": "f1f00bfe-007d-498b-c41b-c99536639dfa"
      },
      "outputs": [
        {
          "output_type": "display_data",
          "data": {
            "text/plain": [
              "<Figure size 1008x504 with 2 Axes>"
            ],
            "image/png": "[encoded data removed]"
          },
          "metadata": {
            "needs_background": "light"
          }
        }
      ],
      "source": [
        "# creating heatmap of comfussion matrix\n",
        "plt.figure(figsize=[14,7])\n",
        "sns.heatmap(cm,annot=True)\n",
        "plt.show()"
      ]
    },
    {
      "cell_type": "markdown",
      "metadata": {
        "id": "qmw3SBidV4tk"
      },
      "source": [
        "# 5.SOFTSIGN"
      ]
    },
    {
      "cell_type": "code",
      "execution_count": 51,
      "metadata": {
        "id": "8PnmWL2GV4tk"
      },
      "outputs": [],
      "source": [
        "from tensorflow.keras.layers import BatchNormalization\n",
        "#CREATING THE ANN AS SEQUENCE OF LAYERS\n",
        "ann =Sequential()\n",
        "\n",
        "#ADDING FIRST HIDDEN LAYER WITH 30 NEURONS, THE INPUT LAYER WILL BE ADDED AUTOMATICALLY,\n",
        "ann.add(Dense(units = 30,activation = 'softsign'))\n",
        "ann.add(BatchNormalization())\n",
        "ann.add(Dropout(0.5))\n",
        "\n",
        "\n",
        "\n",
        "#ADDING OUTPUT LAYER WITH 1 NEURON , AS THIS IS A BINARY CLASSIFICATION\n",
        "ann.add(Dense(units = 1,activation = 'sigmoid'))"
      ]
    },
    {
      "cell_type": "code",
      "execution_count": 52,
      "metadata": {
        "colab": {
          "base_uri": "https://localhost:8080/"
        },
        "id": "kHybHIucV4tk",
        "outputId": "4863b681-8dda-47ee-dc6d-5b481b858843"
      },
      "outputs": [
        {
          "output_type": "stream",
          "name": "stdout",
          "text": [
            "Epoch 1/100\n",
            "15/15 [==============================] - 1s 23ms/step - loss: 0.5418 - accuracy: 0.7604 - val_loss: 0.4504 - val_accuracy: 0.8509\n",
            "Epoch 2/100\n",
            "15/15 [==============================] - 0s 7ms/step - loss: 0.4104 - accuracy: 0.8154 - val_loss: 0.3635 - val_accuracy: 0.9298\n",
            "Epoch 3/100\n",
            "15/15 [==============================] - 0s 5ms/step - loss: 0.3333 - accuracy: 0.8418 - val_loss: 0.3058 - val_accuracy: 0.9298\n",
            "Epoch 4/100\n",
            "15/15 [==============================] - 0s 5ms/step - loss: 0.2965 - accuracy: 0.8615 - val_loss: 0.2683 - val_accuracy: 0.9474\n",
            "Epoch 5/100\n",
            "15/15 [==============================] - 0s 6ms/step - loss: 0.2551 - accuracy: 0.8945 - val_loss: 0.2390 - val_accuracy: 0.9474\n",
            "Epoch 6/100\n",
            "15/15 [==============================] - 0s 6ms/step - loss: 0.2045 - accuracy: 0.9209 - val_loss: 0.2170 - val_accuracy: 0.9386\n",
            "Epoch 7/100\n",
            "15/15 [==============================] - 0s 7ms/step - loss: 0.1958 - accuracy: 0.9319 - val_loss: 0.1980 - val_accuracy: 0.9474\n",
            "Epoch 8/100\n",
            "15/15 [==============================] - 0s 5ms/step - loss: 0.2112 - accuracy: 0.9253 - val_loss: 0.1855 - val_accuracy: 0.9561\n",
            "Epoch 9/100\n",
            "15/15 [==============================] - 0s 5ms/step - loss: 0.1594 - accuracy: 0.9385 - val_loss: 0.1755 - val_accuracy: 0.9561\n",
            "Epoch 10/100\n",
            "15/15 [==============================] - 0s 5ms/step - loss: 0.1648 - accuracy: 0.9319 - val_loss: 0.1639 - val_accuracy: 0.9561\n",
            "Epoch 11/100\n",
            "15/15 [==============================] - 0s 5ms/step - loss: 0.1473 - accuracy: 0.9473 - val_loss: 0.1519 - val_accuracy: 0.9561\n",
            "Epoch 12/100\n",
            "15/15 [==============================] - 0s 6ms/step - loss: 0.1662 - accuracy: 0.9253 - val_loss: 0.1446 - val_accuracy: 0.9561\n",
            "Epoch 13/100\n",
            "15/15 [==============================] - 0s 6ms/step - loss: 0.1541 - accuracy: 0.9451 - val_loss: 0.1415 - val_accuracy: 0.9561\n",
            "Epoch 14/100\n",
            "15/15 [==============================] - 0s 5ms/step - loss: 0.1459 - accuracy: 0.9538 - val_loss: 0.1394 - val_accuracy: 0.9561\n",
            "Epoch 15/100\n",
            "15/15 [==============================] - 0s 6ms/step - loss: 0.1297 - accuracy: 0.9626 - val_loss: 0.1330 - val_accuracy: 0.9561\n",
            "Epoch 16/100\n",
            "15/15 [==============================] - 0s 6ms/step - loss: 0.1333 - accuracy: 0.9516 - val_loss: 0.1292 - val_accuracy: 0.9561\n",
            "Epoch 17/100\n",
            "15/15 [==============================] - 0s 6ms/step - loss: 0.1082 - accuracy: 0.9626 - val_loss: 0.1263 - val_accuracy: 0.9561\n",
            "Epoch 18/100\n",
            "15/15 [==============================] - 0s 6ms/step - loss: 0.1422 - accuracy: 0.9473 - val_loss: 0.1202 - val_accuracy: 0.9561\n",
            "Epoch 19/100\n",
            "15/15 [==============================] - 0s 7ms/step - loss: 0.1223 - accuracy: 0.9604 - val_loss: 0.1214 - val_accuracy: 0.9561\n",
            "Epoch 20/100\n",
            "15/15 [==============================] - 0s 6ms/step - loss: 0.1212 - accuracy: 0.9516 - val_loss: 0.1203 - val_accuracy: 0.9561\n",
            "Epoch 21/100\n",
            "15/15 [==============================] - 0s 5ms/step - loss: 0.1272 - accuracy: 0.9516 - val_loss: 0.1198 - val_accuracy: 0.9561\n",
            "Epoch 22/100\n",
            "15/15 [==============================] - 0s 5ms/step - loss: 0.0942 - accuracy: 0.9714 - val_loss: 0.1167 - val_accuracy: 0.9561\n",
            "Epoch 23/100\n",
            "15/15 [==============================] - 0s 5ms/step - loss: 0.0962 - accuracy: 0.9670 - val_loss: 0.1139 - val_accuracy: 0.9561\n",
            "Epoch 24/100\n",
            "15/15 [==============================] - 0s 6ms/step - loss: 0.0989 - accuracy: 0.9582 - val_loss: 0.1131 - val_accuracy: 0.9561\n",
            "Epoch 25/100\n",
            "15/15 [==============================] - 0s 5ms/step - loss: 0.1105 - accuracy: 0.9582 - val_loss: 0.1130 - val_accuracy: 0.9561\n",
            "Epoch 26/100\n",
            "15/15 [==============================] - 0s 5ms/step - loss: 0.0918 - accuracy: 0.9714 - val_loss: 0.1125 - val_accuracy: 0.9561\n",
            "Epoch 27/100\n",
            "15/15 [==============================] - 0s 5ms/step - loss: 0.1027 - accuracy: 0.9670 - val_loss: 0.1127 - val_accuracy: 0.9561\n",
            "Epoch 28/100\n",
            "15/15 [==============================] - 0s 5ms/step - loss: 0.0796 - accuracy: 0.9648 - val_loss: 0.1106 - val_accuracy: 0.9561\n",
            "Epoch 29/100\n",
            "15/15 [==============================] - 0s 6ms/step - loss: 0.1100 - accuracy: 0.9560 - val_loss: 0.1062 - val_accuracy: 0.9561\n",
            "Epoch 30/100\n",
            "15/15 [==============================] - 0s 5ms/step - loss: 0.1141 - accuracy: 0.9582 - val_loss: 0.1083 - val_accuracy: 0.9561\n",
            "Epoch 31/100\n",
            "15/15 [==============================] - 0s 6ms/step - loss: 0.0910 - accuracy: 0.9780 - val_loss: 0.1098 - val_accuracy: 0.9561\n",
            "Epoch 32/100\n",
            "15/15 [==============================] - 0s 4ms/step - loss: 0.0809 - accuracy: 0.9780 - val_loss: 0.1115 - val_accuracy: 0.9561\n",
            "Epoch 33/100\n",
            "15/15 [==============================] - 0s 5ms/step - loss: 0.0970 - accuracy: 0.9626 - val_loss: 0.1103 - val_accuracy: 0.9561\n",
            "Epoch 34/100\n",
            "15/15 [==============================] - 0s 6ms/step - loss: 0.0944 - accuracy: 0.9626 - val_loss: 0.1111 - val_accuracy: 0.9561\n",
            "Epoch 35/100\n",
            "15/15 [==============================] - 0s 6ms/step - loss: 0.1014 - accuracy: 0.9560 - val_loss: 0.1086 - val_accuracy: 0.9561\n",
            "Epoch 36/100\n",
            "15/15 [==============================] - 0s 4ms/step - loss: 0.0855 - accuracy: 0.9670 - val_loss: 0.1109 - val_accuracy: 0.9561\n",
            "Epoch 37/100\n",
            "15/15 [==============================] - 0s 5ms/step - loss: 0.1003 - accuracy: 0.9604 - val_loss: 0.1145 - val_accuracy: 0.9561\n",
            "Epoch 38/100\n",
            "15/15 [==============================] - 0s 5ms/step - loss: 0.1050 - accuracy: 0.9670 - val_loss: 0.1120 - val_accuracy: 0.9561\n",
            "Epoch 39/100\n",
            "15/15 [==============================] - 0s 6ms/step - loss: 0.0897 - accuracy: 0.9670 - val_loss: 0.1134 - val_accuracy: 0.9561\n",
            "Epoch 40/100\n",
            "15/15 [==============================] - 0s 5ms/step - loss: 0.0870 - accuracy: 0.9692 - val_loss: 0.1126 - val_accuracy: 0.9561\n",
            "Epoch 41/100\n",
            "15/15 [==============================] - 0s 5ms/step - loss: 0.0818 - accuracy: 0.9714 - val_loss: 0.1078 - val_accuracy: 0.9561\n",
            "Epoch 42/100\n",
            "15/15 [==============================] - 0s 5ms/step - loss: 0.0789 - accuracy: 0.9692 - val_loss: 0.1065 - val_accuracy: 0.9561\n",
            "Epoch 43/100\n",
            "15/15 [==============================] - 0s 6ms/step - loss: 0.0860 - accuracy: 0.9670 - val_loss: 0.1106 - val_accuracy: 0.9561\n",
            "Epoch 44/100\n",
            "15/15 [==============================] - 0s 6ms/step - loss: 0.0774 - accuracy: 0.9758 - val_loss: 0.1127 - val_accuracy: 0.9561\n",
            "Epoch 45/100\n",
            "15/15 [==============================] - 0s 4ms/step - loss: 0.0958 - accuracy: 0.9692 - val_loss: 0.1118 - val_accuracy: 0.9561\n",
            "Epoch 46/100\n",
            "15/15 [==============================] - 0s 5ms/step - loss: 0.1057 - accuracy: 0.9692 - val_loss: 0.1104 - val_accuracy: 0.9561\n",
            "Epoch 47/100\n",
            "15/15 [==============================] - 0s 5ms/step - loss: 0.0979 - accuracy: 0.9582 - val_loss: 0.1063 - val_accuracy: 0.9561\n",
            "Epoch 48/100\n",
            "15/15 [==============================] - 0s 6ms/step - loss: 0.0738 - accuracy: 0.9780 - val_loss: 0.1041 - val_accuracy: 0.9649\n",
            "Epoch 49/100\n",
            "15/15 [==============================] - 0s 6ms/step - loss: 0.0790 - accuracy: 0.9670 - val_loss: 0.1049 - val_accuracy: 0.9561\n",
            "Epoch 50/100\n",
            "15/15 [==============================] - 0s 5ms/step - loss: 0.0646 - accuracy: 0.9824 - val_loss: 0.1066 - val_accuracy: 0.9561\n",
            "Epoch 51/100\n",
            "15/15 [==============================] - 0s 7ms/step - loss: 0.0876 - accuracy: 0.9670 - val_loss: 0.1077 - val_accuracy: 0.9561\n",
            "Epoch 52/100\n",
            "15/15 [==============================] - 0s 6ms/step - loss: 0.0884 - accuracy: 0.9714 - val_loss: 0.1081 - val_accuracy: 0.9561\n",
            "Epoch 53/100\n",
            "15/15 [==============================] - 0s 6ms/step - loss: 0.0715 - accuracy: 0.9714 - val_loss: 0.1083 - val_accuracy: 0.9561\n",
            "Epoch 54/100\n",
            "15/15 [==============================] - 0s 5ms/step - loss: 0.0701 - accuracy: 0.9802 - val_loss: 0.1094 - val_accuracy: 0.9561\n",
            "Epoch 55/100\n",
            "15/15 [==============================] - 0s 5ms/step - loss: 0.0678 - accuracy: 0.9758 - val_loss: 0.1098 - val_accuracy: 0.9561\n",
            "Epoch 56/100\n",
            "15/15 [==============================] - 0s 5ms/step - loss: 0.0728 - accuracy: 0.9714 - val_loss: 0.1102 - val_accuracy: 0.9561\n",
            "Epoch 57/100\n",
            "15/15 [==============================] - 0s 4ms/step - loss: 0.0897 - accuracy: 0.9670 - val_loss: 0.1105 - val_accuracy: 0.9561\n",
            "Epoch 58/100\n",
            "15/15 [==============================] - 0s 5ms/step - loss: 0.0627 - accuracy: 0.9736 - val_loss: 0.1104 - val_accuracy: 0.9561\n",
            "Epoch 59/100\n",
            "15/15 [==============================] - 0s 5ms/step - loss: 0.0886 - accuracy: 0.9670 - val_loss: 0.1094 - val_accuracy: 0.9561\n",
            "Epoch 60/100\n",
            "15/15 [==============================] - 0s 5ms/step - loss: 0.1119 - accuracy: 0.9516 - val_loss: 0.1096 - val_accuracy: 0.9561\n",
            "Epoch 61/100\n",
            "15/15 [==============================] - 0s 5ms/step - loss: 0.0719 - accuracy: 0.9692 - val_loss: 0.1091 - val_accuracy: 0.9649\n",
            "Epoch 62/100\n",
            "15/15 [==============================] - 0s 6ms/step - loss: 0.0723 - accuracy: 0.9780 - val_loss: 0.1096 - val_accuracy: 0.9649\n",
            "Epoch 63/100\n",
            "15/15 [==============================] - 0s 5ms/step - loss: 0.0899 - accuracy: 0.9648 - val_loss: 0.1092 - val_accuracy: 0.9649\n",
            "Epoch 64/100\n",
            "15/15 [==============================] - 0s 4ms/step - loss: 0.0844 - accuracy: 0.9582 - val_loss: 0.1023 - val_accuracy: 0.9649\n",
            "Epoch 65/100\n",
            "15/15 [==============================] - 0s 5ms/step - loss: 0.0863 - accuracy: 0.9714 - val_loss: 0.1031 - val_accuracy: 0.9649\n",
            "Epoch 66/100\n",
            "15/15 [==============================] - 0s 5ms/step - loss: 0.0742 - accuracy: 0.9736 - val_loss: 0.1042 - val_accuracy: 0.9649\n",
            "Epoch 67/100\n",
            "15/15 [==============================] - 0s 6ms/step - loss: 0.0678 - accuracy: 0.9824 - val_loss: 0.1047 - val_accuracy: 0.9649\n",
            "Epoch 68/100\n",
            "15/15 [==============================] - 0s 6ms/step - loss: 0.0752 - accuracy: 0.9758 - val_loss: 0.1070 - val_accuracy: 0.9649\n",
            "Epoch 69/100\n",
            "15/15 [==============================] - 0s 5ms/step - loss: 0.0962 - accuracy: 0.9736 - val_loss: 0.1070 - val_accuracy: 0.9649\n",
            "Epoch 70/100\n",
            "15/15 [==============================] - 0s 5ms/step - loss: 0.0752 - accuracy: 0.9714 - val_loss: 0.1083 - val_accuracy: 0.9649\n",
            "Epoch 71/100\n",
            "15/15 [==============================] - 0s 5ms/step - loss: 0.0711 - accuracy: 0.9692 - val_loss: 0.1084 - val_accuracy: 0.9649\n",
            "Epoch 72/100\n",
            "15/15 [==============================] - 0s 5ms/step - loss: 0.0595 - accuracy: 0.9802 - val_loss: 0.1081 - val_accuracy: 0.9561\n",
            "Epoch 73/100\n",
            "15/15 [==============================] - 0s 4ms/step - loss: 0.1194 - accuracy: 0.9626 - val_loss: 0.1118 - val_accuracy: 0.9474\n",
            "Epoch 74/100\n",
            "15/15 [==============================] - 0s 6ms/step - loss: 0.0758 - accuracy: 0.9802 - val_loss: 0.1116 - val_accuracy: 0.9474\n",
            "Epoch 75/100\n",
            "15/15 [==============================] - 0s 5ms/step - loss: 0.0774 - accuracy: 0.9714 - val_loss: 0.1067 - val_accuracy: 0.9474\n",
            "Epoch 76/100\n",
            "15/15 [==============================] - 0s 4ms/step - loss: 0.0548 - accuracy: 0.9824 - val_loss: 0.1082 - val_accuracy: 0.9561\n",
            "Epoch 77/100\n",
            "15/15 [==============================] - 0s 7ms/step - loss: 0.0676 - accuracy: 0.9780 - val_loss: 0.1088 - val_accuracy: 0.9561\n",
            "Epoch 78/100\n",
            "15/15 [==============================] - 0s 5ms/step - loss: 0.0786 - accuracy: 0.9626 - val_loss: 0.1083 - val_accuracy: 0.9561\n",
            "Epoch 79/100\n",
            "15/15 [==============================] - 0s 6ms/step - loss: 0.0601 - accuracy: 0.9736 - val_loss: 0.1072 - val_accuracy: 0.9561\n",
            "Epoch 80/100\n",
            "15/15 [==============================] - 0s 5ms/step - loss: 0.0943 - accuracy: 0.9648 - val_loss: 0.1109 - val_accuracy: 0.9561\n",
            "Epoch 81/100\n",
            "15/15 [==============================] - 0s 6ms/step - loss: 0.0726 - accuracy: 0.9670 - val_loss: 0.1095 - val_accuracy: 0.9561\n",
            "Epoch 82/100\n",
            "15/15 [==============================] - 0s 6ms/step - loss: 0.0672 - accuracy: 0.9802 - val_loss: 0.1080 - val_accuracy: 0.9561\n",
            "Epoch 83/100\n",
            "15/15 [==============================] - 0s 5ms/step - loss: 0.0656 - accuracy: 0.9758 - val_loss: 0.1017 - val_accuracy: 0.9649\n",
            "Epoch 84/100\n",
            "15/15 [==============================] - 0s 7ms/step - loss: 0.0583 - accuracy: 0.9714 - val_loss: 0.1003 - val_accuracy: 0.9649\n",
            "Epoch 85/100\n",
            "15/15 [==============================] - 0s 5ms/step - loss: 0.0778 - accuracy: 0.9824 - val_loss: 0.1021 - val_accuracy: 0.9649\n",
            "Epoch 86/100\n",
            "15/15 [==============================] - 0s 5ms/step - loss: 0.0843 - accuracy: 0.9714 - val_loss: 0.1034 - val_accuracy: 0.9649\n",
            "Epoch 87/100\n",
            "15/15 [==============================] - 0s 5ms/step - loss: 0.1054 - accuracy: 0.9670 - val_loss: 0.1050 - val_accuracy: 0.9649\n",
            "Epoch 88/100\n",
            "15/15 [==============================] - 0s 6ms/step - loss: 0.0529 - accuracy: 0.9846 - val_loss: 0.1043 - val_accuracy: 0.9561\n",
            "Epoch 89/100\n",
            "15/15 [==============================] - 0s 5ms/step - loss: 0.0977 - accuracy: 0.9648 - val_loss: 0.1022 - val_accuracy: 0.9561\n",
            "Epoch 90/100\n",
            "15/15 [==============================] - 0s 5ms/step - loss: 0.0582 - accuracy: 0.9890 - val_loss: 0.0961 - val_accuracy: 0.9649\n",
            "Epoch 91/100\n",
            "15/15 [==============================] - 0s 5ms/step - loss: 0.0556 - accuracy: 0.9824 - val_loss: 0.0950 - val_accuracy: 0.9649\n",
            "Epoch 92/100\n",
            "15/15 [==============================] - 0s 5ms/step - loss: 0.0665 - accuracy: 0.9780 - val_loss: 0.0951 - val_accuracy: 0.9649\n",
            "Epoch 93/100\n",
            "15/15 [==============================] - 0s 5ms/step - loss: 0.0691 - accuracy: 0.9846 - val_loss: 0.0970 - val_accuracy: 0.9649\n",
            "Epoch 94/100\n",
            "15/15 [==============================] - 0s 6ms/step - loss: 0.0734 - accuracy: 0.9714 - val_loss: 0.0946 - val_accuracy: 0.9649\n",
            "Epoch 95/100\n",
            "15/15 [==============================] - 0s 6ms/step - loss: 0.0742 - accuracy: 0.9648 - val_loss: 0.0941 - val_accuracy: 0.9649\n",
            "Epoch 96/100\n",
            "15/15 [==============================] - 0s 6ms/step - loss: 0.0675 - accuracy: 0.9780 - val_loss: 0.0927 - val_accuracy: 0.9649\n",
            "Epoch 97/100\n",
            "15/15 [==============================] - 0s 5ms/step - loss: 0.1024 - accuracy: 0.9582 - val_loss: 0.0936 - val_accuracy: 0.9649\n",
            "Epoch 98/100\n",
            "15/15 [==============================] - 0s 5ms/step - loss: 0.0933 - accuracy: 0.9692 - val_loss: 0.0899 - val_accuracy: 0.9737\n",
            "Epoch 99/100\n",
            "15/15 [==============================] - 0s 5ms/step - loss: 0.1080 - accuracy: 0.9670 - val_loss: 0.0915 - val_accuracy: 0.9737\n",
            "Epoch 100/100\n",
            "15/15 [==============================] - 0s 5ms/step - loss: 0.0781 - accuracy: 0.9802 - val_loss: 0.0920 - val_accuracy: 0.9649\n"
          ]
        }
      ],
      "source": [
        "#COMPILING THE ANN USING STOCHASTIC GRADIENT DESCENT (optimizer = 'adam')\n",
        "ann.compile(optimizer = 'adam', loss = 'binary_crossentropy', metrics = ['accuracy'])\n",
        "\n",
        "#setting callbacks for monitoring maximum accuracy\n",
        "from tensorflow.keras.callbacks import EarlyStopping\n",
        "early_stop = EarlyStopping(monitor='val_loss', mode='min', verbose=1, patience=25)\n",
        "\n",
        "#TRAINING THE ANN WITH BATCH SIZE OF 32 (THIS IS A BATCH LEARNING)\n",
        "model=ann.fit(xtrain, ytrain,batch_size = 32, validation_data=(xtest, ytest),epochs =100,callbacks = [early_stop])"
      ]
    },
    {
      "cell_type": "code",
      "execution_count": 53,
      "metadata": {
        "colab": {
          "base_uri": "https://localhost:8080/"
        },
        "id": "gERi5SZBV4tl",
        "outputId": "d92e5d85-2d81-4527-892a-f4edf0accf96"
      },
      "outputs": [
        {
          "output_type": "stream",
          "name": "stdout",
          "text": [
            "Model: \"sequential_4\"\n",
            "_________________________________________________________________\n",
            " Layer (type)                Output Shape              Param #   \n",
            "=================================================================\n",
            " dense_8 (Dense)             (None, 30)                720       \n",
            "                                                                 \n",
            " batch_normalization_4 (Batc  (None, 30)               120       \n",
            " hNormalization)                                                 \n",
            "                                                                 \n",
            " dropout_4 (Dropout)         (None, 30)                0         \n",
            "                                                                 \n",
            " dense_9 (Dense)             (None, 1)                 31        \n",
            "                                                                 \n",
            "=================================================================\n",
            "Total params: 871\n",
            "Trainable params: 811\n",
            "Non-trainable params: 60\n",
            "_________________________________________________________________\n"
          ]
        }
      ],
      "source": [
        "#taking summary of layers\n",
        "ann.summary()"
      ]
    },
    {
      "cell_type": "code",
      "execution_count": 54,
      "metadata": {
        "colab": {
          "base_uri": "https://localhost:8080/",
          "height": 282
        },
        "id": "_wsQ3GIkV4tl",
        "outputId": "635b5403-9b85-402c-cb0e-c018bbfaef50"
      },
      "outputs": [
        {
          "output_type": "execute_result",
          "data": {
            "text/plain": [
              "<matplotlib.axes._subplots.AxesSubplot at 0x7fc78ac78110>"
            ]
          },
          "metadata": {},
          "execution_count": 54
        },
        {
          "output_type": "display_data",
          "data": {
            "text/plain": [
              "<Figure size 432x288 with 1 Axes>"
            ],
            "image/png": "[encoded data removed]"
          },
          "metadata": {
            "needs_background": "light"
          }
        }
      ],
      "source": [
        "losses = pd.DataFrame(ann.history.history)\n",
        "losses.plot()"
      ]
    },
    {
      "cell_type": "code",
      "execution_count": 55,
      "metadata": {
        "colab": {
          "base_uri": "https://localhost:8080/"
        },
        "id": "-eCgu0pQV4tl",
        "outputId": "871e6d6c-70cd-46b6-956c-4a416c06db02"
      },
      "outputs": [
        {
          "output_type": "stream",
          "name": "stdout",
          "text": [
            "4/4 [==============================] - 0s 5ms/step\n"
          ]
        }
      ],
      "source": [
        "#now testing for Test data\n",
        "y_pred = ann.predict(xtest)\n",
        "#converting values\n",
        "y_pred = (y_pred>0.5)"
      ]
    },
    {
      "cell_type": "code",
      "execution_count": 56,
      "metadata": {
        "colab": {
          "base_uri": "https://localhost:8080/"
        },
        "id": "bBP-BdVYV4tl",
        "outputId": "0f29adbc-ca65-444c-fdbd-2448077d43ba"
      },
      "outputs": [
        {
          "output_type": "stream",
          "name": "stdout",
          "text": [
            "[[73  2]\n",
            " [ 2 37]]\n",
            "score is: 0.9649122807017544\n"
          ]
        }
      ],
      "source": [
        "from sklearn.metrics import confusion_matrix\n",
        "from sklearn.metrics import accuracy_score\n",
        "cm = confusion_matrix(ytest,y_pred)\n",
        "score5 = accuracy_score(ytest,y_pred)\n",
        "print(cm)\n",
        "print('score is:',score5)"
      ]
    },
    {
      "cell_type": "code",
      "execution_count": 57,
      "metadata": {
        "colab": {
          "base_uri": "https://localhost:8080/"
        },
        "id": "pO_qPpygV4tl",
        "outputId": "f48d3c28-d2ed-4204-8a76-7fb6b8c11dd6"
      },
      "outputs": [
        {
          "output_type": "stream",
          "name": "stdout",
          "text": [
            "              precision    recall  f1-score   support\n",
            "\n",
            "           0       0.97      0.97      0.97        75\n",
            "           1       0.95      0.95      0.95        39\n",
            "\n",
            "    accuracy                           0.96       114\n",
            "   macro avg       0.96      0.96      0.96       114\n",
            "weighted avg       0.96      0.96      0.96       114\n",
            "\n"
          ]
        }
      ],
      "source": [
        "from sklearn.metrics import classification_report,confusion_matrix\n",
        "print(classification_report(ytest,y_pred))"
      ]
    },
    {
      "cell_type": "code",
      "execution_count": 58,
      "metadata": {
        "colab": {
          "base_uri": "https://localhost:8080/",
          "height": 428
        },
        "id": "B_QHtOCbV4tl",
        "outputId": "6d952b91-cfd2-4ad3-c194-6f7c3db8b32c"
      },
      "outputs": [
        {
          "output_type": "display_data",
          "data": {
            "text/plain": [
              "<Figure size 1008x504 with 2 Axes>"
            ],
            "image/png": "[encoded data removed]"
          },
          "metadata": {
            "needs_background": "light"
          }
        }
      ],
      "source": [
        "# creating heatmap of comfussion matrix\n",
        "plt.figure(figsize=[14,7])\n",
        "sns.heatmap(cm,annot=True)\n",
        "plt.show()"
      ]
    },
    {
      "cell_type": "markdown",
      "metadata": {
        "id": "lmul4iKcV4tl"
      },
      "source": [
        "# 6.SWISH\n"
      ]
    },
    {
      "cell_type": "code",
      "execution_count": 59,
      "metadata": {
        "id": "JxSqZd-aV4tl"
      },
      "outputs": [],
      "source": [
        "from tensorflow.keras.layers import BatchNormalization\n",
        "#CREATING THE ANN AS SEQUENCE OF LAYERS\n",
        "ann =Sequential()\n",
        "\n",
        "#ADDING FIRST HIDDEN LAYER WITH 30 NEURONS, THE INPUT LAYER WILL BE ADDED AUTOMATICALLY,\n",
        "ann.add(Dense(units = 30,activation = 'swish'))\n",
        "ann.add(BatchNormalization())\n",
        "ann.add(Dropout(0.5))\n",
        "\n",
        "\n",
        "\n",
        "#ADDING OUTPUT LAYER WITH 1 NEURON , AS THIS IS A BINARY CLASSIFICATION\n",
        "ann.add(Dense(units = 1,activation = 'sigmoid'))"
      ]
    },
    {
      "cell_type": "code",
      "execution_count": 60,
      "metadata": {
        "colab": {
          "base_uri": "https://localhost:8080/"
        },
        "id": "4wq7V9j4V4tm",
        "outputId": "f7bf34bd-e542-44fe-d78d-ea686e0b803c"
      },
      "outputs": [
        {
          "output_type": "stream",
          "name": "stdout",
          "text": [
            "Epoch 1/100\n",
            "15/15 [==============================] - 1s 20ms/step - loss: 0.7485 - accuracy: 0.6044 - val_loss: 0.5543 - val_accuracy: 0.8246\n",
            "Epoch 2/100\n",
            "15/15 [==============================] - 0s 5ms/step - loss: 0.5288 - accuracy: 0.7429 - val_loss: 0.4375 - val_accuracy: 0.9211\n",
            "Epoch 3/100\n",
            "15/15 [==============================] - 0s 5ms/step - loss: 0.3959 - accuracy: 0.8242 - val_loss: 0.3652 - val_accuracy: 0.9211\n",
            "Epoch 4/100\n",
            "15/15 [==============================] - 0s 5ms/step - loss: 0.3623 - accuracy: 0.8505 - val_loss: 0.3165 - val_accuracy: 0.9561\n",
            "Epoch 5/100\n",
            "15/15 [==============================] - 0s 7ms/step - loss: 0.3291 - accuracy: 0.8505 - val_loss: 0.2820 - val_accuracy: 0.9561\n",
            "Epoch 6/100\n",
            "15/15 [==============================] - 0s 6ms/step - loss: 0.2859 - accuracy: 0.8923 - val_loss: 0.2541 - val_accuracy: 0.9561\n",
            "Epoch 7/100\n",
            "15/15 [==============================] - 0s 5ms/step - loss: 0.2689 - accuracy: 0.9011 - val_loss: 0.2306 - val_accuracy: 0.9649\n",
            "Epoch 8/100\n",
            "15/15 [==============================] - 0s 6ms/step - loss: 0.2388 - accuracy: 0.9099 - val_loss: 0.2078 - val_accuracy: 0.9737\n",
            "Epoch 9/100\n",
            "15/15 [==============================] - 0s 7ms/step - loss: 0.2099 - accuracy: 0.9341 - val_loss: 0.1920 - val_accuracy: 0.9737\n",
            "Epoch 10/100\n",
            "15/15 [==============================] - 0s 5ms/step - loss: 0.1767 - accuracy: 0.9495 - val_loss: 0.1739 - val_accuracy: 0.9737\n",
            "Epoch 11/100\n",
            "15/15 [==============================] - 0s 5ms/step - loss: 0.1804 - accuracy: 0.9341 - val_loss: 0.1631 - val_accuracy: 0.9737\n",
            "Epoch 12/100\n",
            "15/15 [==============================] - 0s 5ms/step - loss: 0.1692 - accuracy: 0.9495 - val_loss: 0.1529 - val_accuracy: 0.9737\n",
            "Epoch 13/100\n",
            "15/15 [==============================] - 0s 6ms/step - loss: 0.1498 - accuracy: 0.9582 - val_loss: 0.1459 - val_accuracy: 0.9737\n",
            "Epoch 14/100\n",
            "15/15 [==============================] - 0s 7ms/step - loss: 0.1868 - accuracy: 0.9363 - val_loss: 0.1393 - val_accuracy: 0.9649\n",
            "Epoch 15/100\n",
            "15/15 [==============================] - 0s 4ms/step - loss: 0.1668 - accuracy: 0.9407 - val_loss: 0.1316 - val_accuracy: 0.9737\n",
            "Epoch 16/100\n",
            "15/15 [==============================] - 0s 6ms/step - loss: 0.1722 - accuracy: 0.9385 - val_loss: 0.1250 - val_accuracy: 0.9737\n",
            "Epoch 17/100\n",
            "15/15 [==============================] - 0s 5ms/step - loss: 0.1509 - accuracy: 0.9538 - val_loss: 0.1169 - val_accuracy: 0.9825\n",
            "Epoch 18/100\n",
            "15/15 [==============================] - 0s 4ms/step - loss: 0.1597 - accuracy: 0.9319 - val_loss: 0.1135 - val_accuracy: 0.9825\n",
            "Epoch 19/100\n",
            "15/15 [==============================] - 0s 5ms/step - loss: 0.1380 - accuracy: 0.9582 - val_loss: 0.1133 - val_accuracy: 0.9825\n",
            "Epoch 20/100\n",
            "15/15 [==============================] - 0s 6ms/step - loss: 0.1498 - accuracy: 0.9385 - val_loss: 0.1102 - val_accuracy: 0.9825\n",
            "Epoch 21/100\n",
            "15/15 [==============================] - 0s 5ms/step - loss: 0.1452 - accuracy: 0.9473 - val_loss: 0.1094 - val_accuracy: 0.9825\n",
            "Epoch 22/100\n",
            "15/15 [==============================] - 0s 4ms/step - loss: 0.1155 - accuracy: 0.9648 - val_loss: 0.1063 - val_accuracy: 0.9825\n",
            "Epoch 23/100\n",
            "15/15 [==============================] - 0s 4ms/step - loss: 0.1745 - accuracy: 0.9385 - val_loss: 0.1033 - val_accuracy: 0.9825\n",
            "Epoch 24/100\n",
            "15/15 [==============================] - 0s 5ms/step - loss: 0.1218 - accuracy: 0.9516 - val_loss: 0.1012 - val_accuracy: 0.9825\n",
            "Epoch 25/100\n",
            "15/15 [==============================] - 0s 4ms/step - loss: 0.1172 - accuracy: 0.9538 - val_loss: 0.1009 - val_accuracy: 0.9825\n",
            "Epoch 26/100\n",
            "15/15 [==============================] - 0s 5ms/step - loss: 0.1266 - accuracy: 0.9648 - val_loss: 0.0980 - val_accuracy: 0.9825\n",
            "Epoch 27/100\n",
            "15/15 [==============================] - 0s 6ms/step - loss: 0.1336 - accuracy: 0.9538 - val_loss: 0.0955 - val_accuracy: 0.9825\n",
            "Epoch 28/100\n",
            "15/15 [==============================] - 0s 6ms/step - loss: 0.1374 - accuracy: 0.9385 - val_loss: 0.0956 - val_accuracy: 0.9737\n",
            "Epoch 29/100\n",
            "15/15 [==============================] - 0s 5ms/step - loss: 0.1450 - accuracy: 0.9451 - val_loss: 0.0949 - val_accuracy: 0.9737\n",
            "Epoch 30/100\n",
            "15/15 [==============================] - 0s 5ms/step - loss: 0.1118 - accuracy: 0.9495 - val_loss: 0.0897 - val_accuracy: 0.9825\n",
            "Epoch 31/100\n",
            "15/15 [==============================] - 0s 5ms/step - loss: 0.1401 - accuracy: 0.9407 - val_loss: 0.0891 - val_accuracy: 0.9825\n",
            "Epoch 32/100\n",
            "15/15 [==============================] - 0s 6ms/step - loss: 0.0974 - accuracy: 0.9714 - val_loss: 0.0885 - val_accuracy: 0.9825\n",
            "Epoch 33/100\n",
            "15/15 [==============================] - 0s 6ms/step - loss: 0.1126 - accuracy: 0.9714 - val_loss: 0.0868 - val_accuracy: 0.9825\n",
            "Epoch 34/100\n",
            "15/15 [==============================] - 0s 5ms/step - loss: 0.1309 - accuracy: 0.9495 - val_loss: 0.0864 - val_accuracy: 0.9825\n",
            "Epoch 35/100\n",
            "15/15 [==============================] - 0s 5ms/step - loss: 0.0974 - accuracy: 0.9670 - val_loss: 0.0882 - val_accuracy: 0.9825\n",
            "Epoch 36/100\n",
            "15/15 [==============================] - 0s 6ms/step - loss: 0.1016 - accuracy: 0.9538 - val_loss: 0.0863 - val_accuracy: 0.9825\n",
            "Epoch 37/100\n",
            "15/15 [==============================] - 0s 6ms/step - loss: 0.1161 - accuracy: 0.9495 - val_loss: 0.0897 - val_accuracy: 0.9825\n",
            "Epoch 38/100\n",
            "15/15 [==============================] - 0s 5ms/step - loss: 0.0950 - accuracy: 0.9626 - val_loss: 0.0895 - val_accuracy: 0.9825\n",
            "Epoch 39/100\n",
            "15/15 [==============================] - 0s 6ms/step - loss: 0.1464 - accuracy: 0.9407 - val_loss: 0.0885 - val_accuracy: 0.9825\n",
            "Epoch 40/100\n",
            "15/15 [==============================] - 0s 6ms/step - loss: 0.0966 - accuracy: 0.9604 - val_loss: 0.0865 - val_accuracy: 0.9825\n",
            "Epoch 41/100\n",
            "15/15 [==============================] - 0s 6ms/step - loss: 0.1159 - accuracy: 0.9495 - val_loss: 0.0875 - val_accuracy: 0.9825\n",
            "Epoch 42/100\n",
            "15/15 [==============================] - 0s 7ms/step - loss: 0.0835 - accuracy: 0.9736 - val_loss: 0.0874 - val_accuracy: 0.9737\n",
            "Epoch 43/100\n",
            "15/15 [==============================] - 0s 5ms/step - loss: 0.0900 - accuracy: 0.9670 - val_loss: 0.0856 - val_accuracy: 0.9825\n",
            "Epoch 44/100\n",
            "15/15 [==============================] - 0s 5ms/step - loss: 0.1133 - accuracy: 0.9604 - val_loss: 0.0841 - val_accuracy: 0.9825\n",
            "Epoch 45/100\n",
            "15/15 [==============================] - 0s 5ms/step - loss: 0.1137 - accuracy: 0.9582 - val_loss: 0.0827 - val_accuracy: 0.9825\n",
            "Epoch 46/100\n",
            "15/15 [==============================] - 0s 5ms/step - loss: 0.1235 - accuracy: 0.9538 - val_loss: 0.0809 - val_accuracy: 0.9825\n",
            "Epoch 47/100\n",
            "15/15 [==============================] - 0s 6ms/step - loss: 0.1100 - accuracy: 0.9626 - val_loss: 0.0779 - val_accuracy: 0.9825\n",
            "Epoch 48/100\n",
            "15/15 [==============================] - 0s 5ms/step - loss: 0.1175 - accuracy: 0.9560 - val_loss: 0.0789 - val_accuracy: 0.9825\n",
            "Epoch 49/100\n",
            "15/15 [==============================] - 0s 5ms/step - loss: 0.1160 - accuracy: 0.9429 - val_loss: 0.0813 - val_accuracy: 0.9825\n",
            "Epoch 50/100\n",
            "15/15 [==============================] - 0s 7ms/step - loss: 0.1027 - accuracy: 0.9670 - val_loss: 0.0822 - val_accuracy: 0.9825\n",
            "Epoch 51/100\n",
            "15/15 [==============================] - 0s 5ms/step - loss: 0.1049 - accuracy: 0.9626 - val_loss: 0.0808 - val_accuracy: 0.9825\n",
            "Epoch 52/100\n",
            "15/15 [==============================] - 0s 5ms/step - loss: 0.0834 - accuracy: 0.9692 - val_loss: 0.0782 - val_accuracy: 0.9825\n",
            "Epoch 53/100\n",
            "15/15 [==============================] - 0s 5ms/step - loss: 0.1086 - accuracy: 0.9560 - val_loss: 0.0778 - val_accuracy: 0.9825\n",
            "Epoch 54/100\n",
            "15/15 [==============================] - 0s 6ms/step - loss: 0.1166 - accuracy: 0.9582 - val_loss: 0.0783 - val_accuracy: 0.9825\n",
            "Epoch 55/100\n",
            "15/15 [==============================] - 0s 6ms/step - loss: 0.0964 - accuracy: 0.9670 - val_loss: 0.0809 - val_accuracy: 0.9825\n",
            "Epoch 56/100\n",
            "15/15 [==============================] - 0s 7ms/step - loss: 0.0996 - accuracy: 0.9582 - val_loss: 0.0824 - val_accuracy: 0.9825\n",
            "Epoch 57/100\n",
            "15/15 [==============================] - 0s 6ms/step - loss: 0.0880 - accuracy: 0.9714 - val_loss: 0.0829 - val_accuracy: 0.9825\n",
            "Epoch 58/100\n",
            "15/15 [==============================] - 0s 6ms/step - loss: 0.1023 - accuracy: 0.9648 - val_loss: 0.0825 - val_accuracy: 0.9825\n",
            "Epoch 59/100\n",
            "15/15 [==============================] - 0s 6ms/step - loss: 0.1168 - accuracy: 0.9538 - val_loss: 0.0865 - val_accuracy: 0.9825\n",
            "Epoch 60/100\n",
            "15/15 [==============================] - 0s 7ms/step - loss: 0.0904 - accuracy: 0.9560 - val_loss: 0.0999 - val_accuracy: 0.9649\n",
            "Epoch 61/100\n",
            "15/15 [==============================] - 0s 6ms/step - loss: 0.0803 - accuracy: 0.9692 - val_loss: 0.1009 - val_accuracy: 0.9649\n",
            "Epoch 62/100\n",
            "15/15 [==============================] - 0s 5ms/step - loss: 0.0749 - accuracy: 0.9692 - val_loss: 0.0959 - val_accuracy: 0.9737\n",
            "Epoch 63/100\n",
            "15/15 [==============================] - 0s 6ms/step - loss: 0.0754 - accuracy: 0.9670 - val_loss: 0.0951 - val_accuracy: 0.9737\n",
            "Epoch 64/100\n",
            "15/15 [==============================] - 0s 6ms/step - loss: 0.0837 - accuracy: 0.9648 - val_loss: 0.0946 - val_accuracy: 0.9737\n",
            "Epoch 65/100\n",
            "15/15 [==============================] - 0s 5ms/step - loss: 0.0837 - accuracy: 0.9736 - val_loss: 0.0921 - val_accuracy: 0.9737\n",
            "Epoch 66/100\n",
            "15/15 [==============================] - 0s 5ms/step - loss: 0.0809 - accuracy: 0.9736 - val_loss: 0.0894 - val_accuracy: 0.9737\n",
            "Epoch 67/100\n",
            "15/15 [==============================] - 0s 5ms/step - loss: 0.0922 - accuracy: 0.9604 - val_loss: 0.0873 - val_accuracy: 0.9737\n",
            "Epoch 68/100\n",
            "15/15 [==============================] - 0s 5ms/step - loss: 0.0789 - accuracy: 0.9780 - val_loss: 0.0912 - val_accuracy: 0.9737\n",
            "Epoch 69/100\n",
            "15/15 [==============================] - 0s 5ms/step - loss: 0.0831 - accuracy: 0.9736 - val_loss: 0.0907 - val_accuracy: 0.9737\n",
            "Epoch 70/100\n",
            "15/15 [==============================] - 0s 6ms/step - loss: 0.0904 - accuracy: 0.9692 - val_loss: 0.0895 - val_accuracy: 0.9649\n",
            "Epoch 71/100\n",
            "15/15 [==============================] - 0s 7ms/step - loss: 0.1056 - accuracy: 0.9516 - val_loss: 0.0862 - val_accuracy: 0.9737\n",
            "Epoch 72/100\n",
            "15/15 [==============================] - 0s 6ms/step - loss: 0.0886 - accuracy: 0.9692 - val_loss: 0.0844 - val_accuracy: 0.9737\n",
            "Epoch 73/100\n",
            "15/15 [==============================] - 0s 8ms/step - loss: 0.1044 - accuracy: 0.9648 - val_loss: 0.0840 - val_accuracy: 0.9737\n",
            "Epoch 74/100\n",
            "15/15 [==============================] - 0s 5ms/step - loss: 0.0954 - accuracy: 0.9626 - val_loss: 0.0827 - val_accuracy: 0.9825\n",
            "Epoch 75/100\n",
            "15/15 [==============================] - 0s 6ms/step - loss: 0.0735 - accuracy: 0.9758 - val_loss: 0.0865 - val_accuracy: 0.9825\n",
            "Epoch 76/100\n",
            "15/15 [==============================] - 0s 6ms/step - loss: 0.1157 - accuracy: 0.9560 - val_loss: 0.0878 - val_accuracy: 0.9737\n",
            "Epoch 77/100\n",
            "15/15 [==============================] - 0s 6ms/step - loss: 0.1076 - accuracy: 0.9714 - val_loss: 0.0920 - val_accuracy: 0.9825\n",
            "Epoch 78/100\n",
            "15/15 [==============================] - 0s 6ms/step - loss: 0.1012 - accuracy: 0.9604 - val_loss: 0.0970 - val_accuracy: 0.9649\n",
            "Epoch 78: early stopping\n"
          ]
        }
      ],
      "source": [
        "#COMPILING THE ANN USING STOCHASTIC GRADIENT DESCENT (optimizer = 'adam')\n",
        "ann.compile(optimizer = 'adam', loss = 'binary_crossentropy', metrics = ['accuracy'])\n",
        "\n",
        "#setting callbacks for monitoring maximum accuracy\n",
        "from tensorflow.keras.callbacks import EarlyStopping\n",
        "early_stop = EarlyStopping(monitor='val_loss', mode='min', verbose=1, patience=25)\n",
        "\n",
        "#TRAINING THE ANN WITH BATCH SIZE OF 32 (THIS IS A BATCH LEARNING)\n",
        "model=ann.fit(xtrain, ytrain,batch_size = 32, validation_data=(xtest, ytest),epochs =100,callbacks = [early_stop])"
      ]
    },
    {
      "cell_type": "code",
      "execution_count": 61,
      "metadata": {
        "colab": {
          "base_uri": "https://localhost:8080/"
        },
        "id": "wjF_aZh2V4tm",
        "outputId": "230ceef0-a673-4878-d70d-20e5a1c58d2c"
      },
      "outputs": [
        {
          "output_type": "stream",
          "name": "stdout",
          "text": [
            "Model: \"sequential_5\"\n",
            "_________________________________________________________________\n",
            " Layer (type)                Output Shape              Param #   \n",
            "=================================================================\n",
            " dense_10 (Dense)            (None, 30)                720       \n",
            "                                                                 \n",
            " batch_normalization_5 (Batc  (None, 30)               120       \n",
            " hNormalization)                                                 \n",
            "                                                                 \n",
            " dropout_5 (Dropout)         (None, 30)                0         \n",
            "                                                                 \n",
            " dense_11 (Dense)            (None, 1)                 31        \n",
            "                                                                 \n",
            "=================================================================\n",
            "Total params: 871\n",
            "Trainable params: 811\n",
            "Non-trainable params: 60\n",
            "_________________________________________________________________\n"
          ]
        }
      ],
      "source": [
        "#taking summary of layers\n",
        "ann.summary()"
      ]
    },
    {
      "cell_type": "code",
      "execution_count": 62,
      "metadata": {
        "colab": {
          "base_uri": "https://localhost:8080/",
          "height": 298
        },
        "id": "cnGOlpaIV4tm",
        "outputId": "3f40bfe9-5634-475a-ede7-b5e58f207dd8"
      },
      "outputs": [
        {
          "output_type": "execute_result",
          "data": {
            "text/plain": [
              "Text(0.5, 1.0, 'model accuracy')"
            ]
          },
          "metadata": {},
          "execution_count": 62
        },
        {
          "output_type": "display_data",
          "data": {
            "text/plain": [
              "<Figure size 432x288 with 1 Axes>"
            ],
            "image/png": "[encoded data removed]"
          },
          "metadata": {
            "needs_background": "light"
          }
        }
      ],
      "source": [
        "losses = pd.DataFrame(ann.history.history)\n",
        "losses.plot()\n",
        "plt.title('model accuracy')"
      ]
    },
    {
      "cell_type": "code",
      "execution_count": 63,
      "metadata": {
        "colab": {
          "base_uri": "https://localhost:8080/"
        },
        "id": "UGyUIU8xV4tm",
        "outputId": "96957618-c4bb-4dd0-8ebd-d6ee7d97fa97"
      },
      "outputs": [
        {
          "output_type": "stream",
          "name": "stdout",
          "text": [
            "4/4 [==============================] - 0s 4ms/step\n"
          ]
        }
      ],
      "source": [
        "#now testing for Test data\n",
        "y_pred = ann.predict(xtest)\n",
        "#converting values\n",
        "y_pred = (y_pred>0.5)"
      ]
    },
    {
      "cell_type": "code",
      "execution_count": 64,
      "metadata": {
        "colab": {
          "base_uri": "https://localhost:8080/"
        },
        "id": "bkkJ0_32V4tm",
        "outputId": "05dee271-3ba9-44b4-eb82-e48f973a598b"
      },
      "outputs": [
        {
          "output_type": "stream",
          "name": "stdout",
          "text": [
            "[[74  1]\n",
            " [ 3 36]]\n",
            "score is: 0.9649122807017544\n"
          ]
        }
      ],
      "source": [
        "from sklearn.metrics import confusion_matrix\n",
        "from sklearn.metrics import accuracy_score\n",
        "cm = confusion_matrix(ytest,y_pred)\n",
        "score6 = accuracy_score(ytest,y_pred)\n",
        "print(cm)\n",
        "print('score is:',score6)"
      ]
    },
    {
      "cell_type": "code",
      "execution_count": 65,
      "metadata": {
        "colab": {
          "base_uri": "https://localhost:8080/"
        },
        "id": "OXnGjziuV4tm",
        "outputId": "1ad3aac8-d349-4cfc-a04b-bed33bd00937"
      },
      "outputs": [
        {
          "output_type": "stream",
          "name": "stdout",
          "text": [
            "              precision    recall  f1-score   support\n",
            "\n",
            "           0       0.96      0.99      0.97        75\n",
            "           1       0.97      0.92      0.95        39\n",
            "\n",
            "    accuracy                           0.96       114\n",
            "   macro avg       0.97      0.95      0.96       114\n",
            "weighted avg       0.97      0.96      0.96       114\n",
            "\n"
          ]
        }
      ],
      "source": [
        "from sklearn.metrics import classification_report,confusion_matrix\n",
        "print(classification_report(ytest,y_pred))"
      ]
    },
    {
      "cell_type": "code",
      "execution_count": 66,
      "metadata": {
        "colab": {
          "base_uri": "https://localhost:8080/",
          "height": 428
        },
        "id": "oMs7HRRYV4tm",
        "outputId": "a4a1c244-1989-4884-d824-424417a46a01"
      },
      "outputs": [
        {
          "output_type": "display_data",
          "data": {
            "text/plain": [
              "<Figure size 1008x504 with 2 Axes>"
            ],
            "image/png": "[encoded data removed]"
          },
          "metadata": {
            "needs_background": "light"
          }
        }
      ],
      "source": [
        "# creating heatmap of comfussion matrix\n",
        "plt.figure(figsize=[14,7])\n",
        "sns.heatmap(cm,annot=True)\n",
        "plt.show()"
      ]
    },
    {
      "cell_type": "code",
      "execution_count": 67,
      "metadata": {
        "colab": {
          "base_uri": "https://localhost:8080/"
        },
        "id": "c2L2sdHzV4tn",
        "outputId": "04b2238e-879a-4083-ab96-9e6945015177"
      },
      "outputs": [
        {
          "output_type": "stream",
          "name": "stdout",
          "text": [
            "ACCURACY SCORE\n",
            "---------------\n",
            "Relu:\n",
            "0.9736842105263158\n",
            "Sigmoid:\n",
            "0.9649122807017544\n",
            "Tanh:\n",
            "0.9649122807017544\n",
            "Softmax:\n",
            "0.9736842105263158\n",
            "Softsign:\n",
            "0.9649122807017544\n",
            "Swish:\n",
            "0.9649122807017544\n"
          ]
        }
      ],
      "source": [
        "print(\"ACCURACY SCORE\")\n",
        "print(\"---------------\")\n",
        "print(\"Relu:\")\n",
        "print(score1)\n",
        "print(\"Sigmoid:\")\n",
        "\n",
        "print(score2)\n",
        "print(\"Tanh:\")\n",
        "print(score3)\n",
        "print(\"Softmax:\")\n",
        "print(score4)\n",
        "print(\"Softsign:\")\n",
        "print(score5)\n",
        "print(\"Swish:\")\n",
        "print(score6)"
      ]
    }
  ],
  "metadata": {
    "kernelspec": {
      "display_name": "Python 3 (ipykernel)",
      "language": "python",
      "name": "python3"
    },
    "language_info": {
      "codemirror_mode": {
        "name": "ipython",
        "version": 3
      },
      "file_extension": ".py",
      "mimetype": "text/x-python",
      "name": "python",
      "nbconvert_exporter": "python",
      "pygments_lexer": "ipython3",
      "version": "3.9.7"
    },
    "colab": {
      "provenance": [],
      "include_colab_link": true
    }
  },
  "nbformat": 4,
  "nbformat_minor": 0
}